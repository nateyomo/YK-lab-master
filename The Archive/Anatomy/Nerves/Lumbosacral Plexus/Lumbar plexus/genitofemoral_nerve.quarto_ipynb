{
  "cells": [
    {
      "cell_type": "markdown",
      "metadata": {},
      "source": [
        "---\n",
        "title: Genitofemoral Nerve\n",
        "---\n",
        "\n",
        "\n",
        "![Genitofemoral Nerve @gilroyAtlasAnatomy2020](/The Archive/Anatomy/Nerves/Lumbosacral Plexus/Lumbar plexus/images/gilroyatlas fig34.13 genitofemoral nerve.png)\n",
        "\n",
        "# Roots\n",
        "\n",
        "[L1]({{< var ref-nerve-root.l1 >}}), [L2]({{< var ref-nerve-root.l2 >}}) @gilroyAtlasAnatomy2020\n",
        "\n",
        "# Pathway\n",
        "\n",
        "- Pierces psoas major anteriorly below the former 2 nerves to immediately split into 2 branches that run down on ant side of the muscle\n",
        "- Genital branch differs in Males vs Females\n",
        "    - Males: runs in spermatic cord and then sends sensory branches to scrotal skin. In males in supplies motor innervation to cremaster\n",
        "    - Females: runs w teres uteri ligament and sends sensory branches to labia majora\n",
        "- Passes through inguinal canal\n",
        "\n",
        "\n",
        "\n",
        "# Motor innervation\n"
      ],
      "id": "a4496794"
    },
    {
      "cell_type": "code",
      "metadata": {
        "message": false
      },
      "source": [
        "#| label: tbl-genitofemoral-nerve-oian\n",
        "#| warning: false\n",
        "#| echo: false\n",
        "#| tbl-cap: Genitofemoral Nerve Muscular innervations\n",
        "\n",
        "from pathlib import Path\n",
        "import pandas as pd\n",
        "from pyprojroot import here\n",
        "from IPython.display import display, HTML\n",
        "\n",
        "# Set the path for the script file\n",
        "script_file_path = here(\"scripts/process_oian_table.py\")\n",
        "\n",
        "# Check if the script file exists\n",
        "if script_file_path.exists():\n",
        "    import sys\n",
        "    sys.path.append(str(script_file_path.parent))  # Add the directory of the script to the system path\n",
        "\n",
        "    from process_oian_table import process_oian_table  # Import the specific function\n",
        "\n",
        "    # Define the column to filter by and the identifiers to include\n",
        "    filter_column = 'innervation_identifier'  # Choose the column you want to filter by\n",
        "    filter_identifiers = ['genitofemoral_nerve']  # Replace with actual identifiers you want to include\n",
        "\n",
        "    # Call the function to get the HTML table with filtering\n",
        "    html_table = process_oian_table(filter_column=filter_column, filter_identifiers=filter_identifiers)\n",
        "\n",
        "    if html_table:\n",
        "        # Render the HTML table for display\n",
        "        display(HTML(html_table))  # Use display to render the HTML properly\n",
        "else:\n",
        "    print(\"Script file does not exist. Please check the path.\")"
      ],
      "id": "tbl-genitofemoral-nerve-oian",
      "execution_count": null,
      "outputs": []
    },
    {
      "cell_type": "markdown",
      "metadata": {},
      "source": [
        "# Cutaneous Innervation\n",
        "\n",
        "- Lateral, femoral branch = sensory\n",
        "- Supplies skin below inguinal, prox lat aspect of femoral triangle\n",
        "\n",
        "# Dysfunction\n",
        "\n",
        "Entrapment; rare"
      ],
      "id": "c7d5eaba"
    }
  ],
  "metadata": {
    "kernelspec": {
      "display_name": "Python 3",
      "language": "python",
      "name": "python3"
    }
  },
  "nbformat": 4,
  "nbformat_minor": 5
}