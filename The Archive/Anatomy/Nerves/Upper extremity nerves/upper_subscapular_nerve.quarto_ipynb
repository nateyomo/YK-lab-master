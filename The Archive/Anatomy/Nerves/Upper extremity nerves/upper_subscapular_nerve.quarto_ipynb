{
  "cells": [
    {
      "cell_type": "markdown",
      "metadata": {},
      "source": [
        "---\n",
        "title: Upper Subscapular nerve\n",
        "---\n",
        "\n",
        "\n",
        "\n",
        "\n",
        "\n",
        "\n",
        "# Anatomy\n",
        "\n",
        "There are 3 subscapular nerves:\n",
        "\n",
        "1. Superior Subscapular Nerve ([C5]({{< var ref-nerve-root.c5 >}}), [C6]({{< var ref-nerve-root.c6 >}})) @duttonDuttonOrthopaedicExamination2020 \n",
        "1. Middle Subscapular Nerve (Thoracodorsal) ([C5]({{< var ref-nerve-root.c5 >}}), [C6]({{< var ref-nerve-root.c6 >}})) @duttonDuttonOrthopaedicExamination2020 \n",
        "1. Lower supscaular nerve ([C5]({{< var ref-nerve-root.c5 >}}), [C6]({{< var ref-nerve-root.c6 >}})) @duttonDuttonOrthopaedicExamination2020 \n",
        "\n",
        "All of these nerves originate from the [posterior cord]({{< var ref-brachial-plexus.posterior-cord >}}) of the [brachial plexus]({{< var ref-brachial-plexus.path >}})\n",
        "\n",
        "\n",
        "\n",
        "# Function\n",
        "\n",
        "- Part of subscapularis mm\n",
        "\n",
        "## Motor innervations\n"
      ],
      "id": "0e3e3b9c"
    },
    {
      "cell_type": "code",
      "metadata": {
        "message": false
      },
      "source": [
        "#| label: tbl-upper-subscapular-nerve-oian\n",
        "#| warning: false\n",
        "#| echo: false\n",
        "#| tbl-cap: Upper subscapular nerve Muscle Innervations\n",
        "\n",
        "from pathlib import Path\n",
        "import pandas as pd\n",
        "from pyprojroot import here\n",
        "from IPython.display import display, HTML\n",
        "\n",
        "# Set the path for the script file\n",
        "script_file_path = here(\"scripts/process_oian_table.py\")\n",
        "\n",
        "# Check if the script file exists\n",
        "if script_file_path.exists():\n",
        "    import sys\n",
        "    sys.path.append(str(script_file_path.parent))  # Add the directory of the script to the system path\n",
        "\n",
        "    from process_oian_table import process_oian_table  # Import the specific function\n",
        "\n",
        "    # Define the column to filter by and the identifiers to include\n",
        "    filter_column = 'innervation_identifier'  # Choose the column you want to filter by\n",
        "    filter_identifiers = ['upper_subscapular_nerve']  # Replace with actual identifiers you want to include\n",
        "\n",
        "    # Call the function to get the HTML table with filtering\n",
        "    html_table = process_oian_table(filter_column=filter_column, filter_identifiers=filter_identifiers)\n",
        "\n",
        "    if html_table:\n",
        "        # Render the HTML table for display\n",
        "        display(HTML(html_table))  # Use display to render the HTML properly\n",
        "else:\n",
        "    print(\"Script file does not exist. Please check the path.\")"
      ],
      "id": "tbl-upper-subscapular-nerve-oian",
      "execution_count": null,
      "outputs": []
    }
  ],
  "metadata": {
    "kernelspec": {
      "display_name": "Python 3",
      "language": "python",
      "name": "python3"
    }
  },
  "nbformat": 4,
  "nbformat_minor": 5
}