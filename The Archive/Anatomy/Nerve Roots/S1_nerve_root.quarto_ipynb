{
  "cells": [
    {
      "cell_type": "markdown",
      "metadata": {},
      "source": [
        "---\n",
        "title: S1 Nerve Root (S1)\n",
        "---\n",
        "\n",
        "\n",
        "![Nerve roots extending from the spinal cord @grayAnatomyHumanBody1918](/The Archive/Images/Gray anatomy 1918 images/Neurology/image796 A portion of the spinal cord, showing its right lateral surface. The dura is opened and arranged to show the nerve roots.gif){#fig-gray1918-image796}\n",
        "\n",
        "\n",
        "# Nerve Supply\n",
        "\n",
        "| Nerve | Roots | Motor Innervation | Cutaneous Innervation |\n",
        "|-|-|-|-|\n",
        "| [Superior Gluteal N.]({{< var ref-superior-gluteal-nerve.path >}}) | {{< var ref-superior-gluteal-nerve.roots >}} | {{< var ref-superior-gluteal-nerve.motor >}} | {{< var ref-superior-gluteal-nerve.cutaneous >}} |\n",
        "| [Inferior Gluteal N.]({{< var ref-inferior-gluteal-nerve.path >}}) | {{< var ref-inferior-gluteal-nerve.roots >}} | {{< var ref-inferior-gluteal-nerve.motor >}} | {{< var ref-inferior-gluteal-nerve.cutaneous >}} |\n",
        "| [Posterior Cutaneous Nerve of the Thigh]({{< var ref-posterior-cutaneous-nerve-of-the-thigh.path >}}) | {{< var ref-posterior-cutaneous-nerve-of-the-thigh.roots >}} | {{< var ref-posterior-cutaneous-nerve-of-the-thigh.motor >}} | {{< var ref-posterior-cutaneous-nerve-of-the-thigh.cutaneous >}} |\n",
        "| [Sciatic N.]({{< var ref-sciatic-nerve.path >}}) | {{< var ref-sciatic-nerve.roots >}} | {{< var ref-sciatic-nerve.motor >}} | {{< var ref-sciatic-nerve.cutaneous >}} |\n",
        "| [Common Fibular N.]({{< var ref-common-fibular-nerve.path >}}) | {{< var ref-common-fibular-nerve.roots >}} | {{< var ref-common-fibular-nerve.motor >}} | {{< var ref-common-fibular-nerve.cutaneous >}} |\n",
        "| [Tibial N.]({{< var ref-tibial-nerve.path >}}) | {{< var ref-tibial-nerve.roots >}} | {{< var ref-tibial-nerve.motor >}} | {{< var ref-tibial-nerve.cutaneous >}} |\n",
        ": {.striped .hover}\n",
        "\n",
        "\n",
        "\n",
        "# Muscle Supply\n",
        "\n",
        "# Motor Innervation\n"
      ],
      "id": "e9e0e4b4"
    },
    {
      "cell_type": "code",
      "metadata": {
        "message": false
      },
      "source": [
        "#| label: tbl-s1-oian\n",
        "#| warning: false\n",
        "#| echo: false\n",
        "\n",
        "from pathlib import Path\n",
        "import pandas as pd\n",
        "from pyprojroot import here\n",
        "from IPython.display import display, HTML\n",
        "\n",
        "# Set the path for the script file\n",
        "script_file_path = here(\"scripts/process_oian_table.py\")\n",
        "\n",
        "# Check if the script file exists\n",
        "if script_file_path.exists():\n",
        "    import sys\n",
        "    sys.path.append(str(script_file_path.parent))  # Add the directory of the script to the system path\n",
        "\n",
        "    from process_oian_table import process_oian_table  # Import the specific function\n",
        "\n",
        "    # Define the column to filter by and the identifiers to include\n",
        "    filter_column = 'root_identifier'  # Choose the column you want to filter by\n",
        "    filter_identifiers = ['S1']  # Replace with actual identifiers you want to include\n",
        "\n",
        "    # Call the function to get the HTML table with filtering\n",
        "    html_table = process_oian_table(filter_column=filter_column, filter_identifiers=filter_identifiers)\n",
        "\n",
        "    if html_table:\n",
        "        # Render the HTML table for display\n",
        "        display(HTML(html_table))  # Use display to render the HTML properly\n",
        "else:\n",
        "    print(\"Script file does not exist. Please check the path.\")"
      ],
      "id": "tbl-s1-oian",
      "execution_count": null,
      "outputs": []
    },
    {
      "cell_type": "markdown",
      "metadata": {},
      "source": [
        "# Dermatome\n",
        "\n",
        "::: {.columns}\n",
        "::: {.column}\n",
        "![Dermatomal cutaneous distribution @grayAnatomyHumanBody1918](/The Archive/Images/Gray anatomy 1918 images/Neurology/image797 Distribution of cutaneous nerves. Ventral aspect.gif){#fig-gray1918-image797}\n",
        ":::\n",
        "::: {.column}\n",
        "![Dermatomal cutaneous distribution (Posterior) @grayAnatomyHumanBody1918](/The Archive/Images/Gray anatomy 1918 images/Neurology/image798 Distribution of cutaneous nerves. Dorsal aspect.gif){#fig-gray1918-image798}\n",
        ":::\n",
        ":::\n",
        "\n",
        "\n",
        "# Examination\n",
        "\n",
        "## DTR\n",
        "\n",
        "- Achilles Reflex (S1, S2)"
      ],
      "id": "d9559aac"
    }
  ],
  "metadata": {
    "kernelspec": {
      "display_name": "Python 3",
      "language": "python",
      "name": "python3"
    }
  },
  "nbformat": 4,
  "nbformat_minor": 5
}