{
  "cells": [
    {
      "cell_type": "markdown",
      "metadata": {},
      "source": [
        "---\n",
        "title: C8 Nerve Root (C8)\n",
        "---\n",
        "\n",
        "\n",
        "\n",
        "![Nerve roots extending from the spinal cord @grayAnatomyHumanBody1918](/The Archive/Images/Gray anatomy 1918 images/Neurology/image796 A portion of the spinal cord, showing its right lateral surface. The dura is opened and arranged to show the nerve roots.gif){#fig-gray1918-image796}\n",
        "\n",
        "\n",
        "# Motor Innervation\n"
      ],
      "id": "d8e68cd4"
    },
    {
      "cell_type": "code",
      "metadata": {
        "message": false
      },
      "source": [
        "#| label: tbl-c8-oian\n",
        "#| warning: false\n",
        "#| echo: false\n",
        "\n",
        "from pathlib import Path\n",
        "import pandas as pd\n",
        "from pyprojroot import here\n",
        "from IPython.display import display, HTML\n",
        "\n",
        "# Set the path for the script file\n",
        "script_file_path = here(\"scripts/process_oian_table.py\")\n",
        "\n",
        "# Check if the script file exists\n",
        "if script_file_path.exists():\n",
        "    import sys\n",
        "    sys.path.append(str(script_file_path.parent))  # Add the directory of the script to the system path\n",
        "\n",
        "    from process_oian_table import process_oian_table  # Import the specific function\n",
        "\n",
        "    # Define the column to filter by and the identifiers to include\n",
        "    filter_column = 'root_identifier'  # Choose the column you want to filter by\n",
        "    filter_identifiers = ['C8']  # Replace with actual identifiers you want to include\n",
        "\n",
        "    # Call the function to get the HTML table with filtering\n",
        "    html_table = process_oian_table(filter_column=filter_column, filter_identifiers=filter_identifiers)\n",
        "\n",
        "    if html_table:\n",
        "        # Render the HTML table for display\n",
        "        display(HTML(html_table))  # Use display to render the HTML properly\n",
        "else:\n",
        "    print(\"Script file does not exist. Please check the path.\")"
      ],
      "id": "tbl-c8-oian",
      "execution_count": null,
      "outputs": []
    },
    {
      "cell_type": "markdown",
      "metadata": {},
      "source": [
        "# Dermatome\n",
        "\n",
        "::: {.columns}\n",
        "::: {.column}\n",
        "![Dermatomal cutaneous distribution @grayAnatomyHumanBody1918](/The Archive/Images/Gray anatomy 1918 images/Neurology/image797 Distribution of cutaneous nerves. Ventral aspect.gif){#fig-gray1918-image797}\n",
        ":::\n",
        "::: {.column}\n",
        "![Dermatomal cutaneous distribution (Posterior) @grayAnatomyHumanBody1918](/The Archive/Images/Gray anatomy 1918 images/Neurology/image798 Distribution of cutaneous nerves. Dorsal aspect.gif){#fig-gray1918-image798}\n",
        ":::\n",
        ":::\n",
        "\n",
        "# DDX\n",
        "\n",
        "| Level | Root | Pain & Sensory Change | Motor Weakness | Abnormal Reflexes |\n",
        "|-|-|---|--|-|\n",
        "| C4/C5 | C5 | Deltoid @hongReliabilityDiagnosticAccuracy2022 <br> Lateral arm @hongReliabilityDiagnosticAccuracy2022 | Deltoid @hongReliabilityDiagnosticAccuracy2022 <br> Biceps @hongReliabilityDiagnosticAccuracy2022 | Bicep reflex @hongReliabilityDiagnosticAccuracy2022 |\n",
        "| C5/C6 | C6 | Radial forearm to thumb and index finger @hongReliabilityDiagnosticAccuracy2022 | Biceps @hongReliabilityDiagnosticAccuracy2022 <br> Wrist extensor @hongReliabilityDiagnosticAccuracy2022 | Bicep reflex @hongReliabilityDiagnosticAccuracy2022 <br> Brachioradialis reflex @hongReliabilityDiagnosticAccuracy2022 |\n",
        "| C6/C7 | C7 | Midradial forearm to index and middle finger @hongReliabilityDiagnosticAccuracy2022 | Wrist Flexor @hongReliabilityDiagnosticAccuracy2022 <br> Tricep @hongReliabilityDiagnosticAccuracy2022 | Triceps reflex @hongReliabilityDiagnosticAccuracy2022 |\n",
        "| C7/T1 | C8 | Ulnar forearm to ring and little finger @hongReliabilityDiagnosticAccuracy2022 | Hand Intrinsic @hongReliabilityDiagnosticAccuracy2022 <br> Finger Flexor @hongReliabilityDiagnosticAccuracy2022 | N/a @hongReliabilityDiagnosticAccuracy2022 |\n",
        "\n",
        ": {.striped .hover}\n",
        "\n",
        "\n",
        "\n",
        "# Lesion\n",
        "\n",
        "\"This nerve root is often compressed by disc herniation at the C7/T1 vertebral level. C8 root involvement results in pain in the medial arm and forearm. With C8 lesions [40], sensory signs and symptoms occur on the medial forearm and hand and on the fifth digit. Paresis occurs predominantly and variably in the following muscles: flexor digitorum superficialis, flexor pollicis longus, flexor digitorum profundus I to IV, pronator quadratus, abductor pollicis brevis, opponens pollicis, flexor pollicis brevis, all lumbricals, flexor carpi ulnaris, abductor digiti minimi, opponens digiti minimi, flexor digiti minimi, all interossei, adductor pollicis, extensor digiti minimi, extensor carpi ulnaris, abductor pollicis longus, extensor pollicis longus and brevis, and extensor indicis (see Chapter 2 for examination methods of these muscles). The finger flexor reflex (C8 T1) may be depressed. Sympathetic fibers destined for the superior cervical ganglia are interrupted, resulting in an ipsilateral Horner syndrome (ptosis, miosis, and anhidrosis).\" @brazisLocalizationClinicalNeurology2022 \n",
        "\n",
        "\"There are frequent intradural communicating fibers between neighboring segments of the cervical posterior roots. These connections are most prominent between a specific cervical segment and the next caudal root. A lesion may therefore be falsely localized clinically to a segment one level higher than its actual location.\" @brazisLocalizationClinicalNeurology2022 \n",
        "\n",
        "\"The theoretical root syndromes discussed earlier are also related to an “idealized” brachial plexus and do not take into consideration the possibility of a prefixed or postfixed plexus (see Chapter 3 ).\" @brazisLocalizationClinicalNeurology2022 \n",
        "\n",
        "\n",
        "# Examination\n",
        "\n",
        "\"The patient extends the thumb just short of the full range of motion. The clinician stabilizes the patient’s wrist with one hand and applies an isometric force into thumb flexion with the other (Fig. 25-29).\" @duttonDuttonOrthopaedicExamination2020 "
      ],
      "id": "2482f14f"
    }
  ],
  "metadata": {
    "kernelspec": {
      "display_name": "Python 3",
      "language": "python",
      "name": "python3"
    }
  },
  "nbformat": 4,
  "nbformat_minor": 5
}