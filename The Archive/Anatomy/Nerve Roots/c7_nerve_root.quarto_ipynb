{
  "cells": [
    {
      "cell_type": "markdown",
      "metadata": {},
      "source": [
        "---\n",
        "title: C7 Nerve root\n",
        "---\n",
        "\n",
        "\n",
        "\n",
        "![Nerve roots extending from the spinal cord @grayAnatomyHumanBody1918](/The Archive/Images/Gray anatomy 1918 images/Neurology/image796 A portion of the spinal cord, showing its right lateral surface. The dura is opened and arranged to show the nerve roots.gif){#fig-gray1918-image796}\n",
        "\n",
        "| Level | Root | Pain & Sensory Change | Motor Weakness | Abnormal Reflexes |\n",
        "|-|-|---|--|-|\n",
        "| C4/C5 | C5 | Deltoid @hongReliabilityDiagnosticAccuracy2022 <br> Lateral arm @hongReliabilityDiagnosticAccuracy2022 | Deltoid @hongReliabilityDiagnosticAccuracy2022 <br> Biceps @hongReliabilityDiagnosticAccuracy2022 | Bicep reflex @hongReliabilityDiagnosticAccuracy2022 |\n",
        "| C5/C6 | C6 | Radial forearm to thumb and index finger @hongReliabilityDiagnosticAccuracy2022 | Biceps @hongReliabilityDiagnosticAccuracy2022 <br> Wrist extensor @hongReliabilityDiagnosticAccuracy2022 | Bicep reflex @hongReliabilityDiagnosticAccuracy2022 <br> Brachioradialis reflex @hongReliabilityDiagnosticAccuracy2022 |\n",
        "| C6/C7 | C7 | Midradial forearm to index and middle finger @hongReliabilityDiagnosticAccuracy2022 | Wrist Flexor @hongReliabilityDiagnosticAccuracy2022 <br> Tricep @hongReliabilityDiagnosticAccuracy2022 | Triceps reflex @hongReliabilityDiagnosticAccuracy2022 |\n",
        "| C7/T1 | C8 | Ulnar forearm to ring and little finger @hongReliabilityDiagnosticAccuracy2022 | Hand Intrinsic @hongReliabilityDiagnosticAccuracy2022 <br> Finger Flexor @hongReliabilityDiagnosticAccuracy2022 | N/a @hongReliabilityDiagnosticAccuracy2022 |\n",
        "\n",
        ": {.striped .hover}\n",
        "\n",
        "# Motor Innervation\n"
      ],
      "id": "5c734c81"
    },
    {
      "cell_type": "code",
      "metadata": {
        "message": false
      },
      "source": [
        "#| label: tbl-c7-oian\n",
        "#| warning: false\n",
        "#| echo: false\n",
        "\n",
        "from pathlib import Path\n",
        "import pandas as pd\n",
        "from pyprojroot import here\n",
        "from IPython.core.display import display, HTML\n",
        "\n",
        "# Set the path for the script file\n",
        "script_file_path = here(\"scripts/process_oian_table.py\")\n",
        "\n",
        "# Check if the script file exists\n",
        "if script_file_path.exists():\n",
        "    import sys\n",
        "    sys.path.append(str(script_file_path.parent))  # Add the directory of the script to the system path\n",
        "\n",
        "    from process_oian_table import process_oian_table  # Import the specific function\n",
        "\n",
        "    # Define the column to filter by and the identifiers to include\n",
        "    filter_column = 'root_identifier'  # Choose the column you want to filter by\n",
        "    filter_identifiers = ['C7']  # Replace with actual identifiers you want to include\n",
        "\n",
        "    # Call the function to get the HTML table with filtering\n",
        "    html_table = process_oian_table(filter_column=filter_column, filter_identifiers=filter_identifiers)\n",
        "\n",
        "    if html_table:\n",
        "        # Render the HTML table for display\n",
        "        display(HTML(html_table))  # Use display to render the HTML properly\n",
        "else:\n",
        "    print(\"Script file does not exist. Please check the path.\")"
      ],
      "id": "tbl-c7-oian",
      "execution_count": null,
      "outputs": []
    },
    {
      "cell_type": "markdown",
      "metadata": {},
      "source": [
        "# Dermatome\n",
        "\n",
        "::: {.columns}\n",
        "::: {.column}\n",
        "![Dermatomal cutaneous distribution @grayAnatomyHumanBody1918](/The Archive/Images/Gray anatomy 1918 images/Neurology/image797 Distribution of cutaneous nerves. Ventral aspect.gif){#fig-gray1918-image797}\n",
        ":::\n",
        "::: {.column}\n",
        "![Dermatomal cutaneous distribution (Posterior) @grayAnatomyHumanBody1918](/The Archive/Images/Gray anatomy 1918 images/Neurology/image798 Distribution of cutaneous nerves. Dorsal aspect.gif){#fig-gray1918-image798}\n",
        ":::\n",
        ":::\n",
        "\n",
        "# Lesion\n",
        "\n",
        "\"This nerve root is often compressed by disc herniation at the C6 C7 vertebral level (the most common level of disc herniation) [20,29]. C7 root involvement results in pain in the dorsal forearm. In some patients, pain may be subscapular or located in the deep breast or chest [24]. Sensory disturbances occur on the third and fourth digits. Paresis occurs variably in the following muscles: serratus anterior, pectoralis major, latissimus dorsi, pronator teres, flexor carpi radialis, triceps, extensor carpi radialis longus, extensor carpi radialis brevis, and extensor digitorum (examination of these muscles is described in Chapter 2 ). The triceps reflex (C7 C8) may be depressed.\" @brazisLocalizationClinicalNeurology2022 \n",
        "\n",
        "\"Pseudomyotonia is a term applied to the difficulty in opening the hand because of cervical osteoarthritis. Muscle relaxation is normal but attempts to extend the fingers produce paradoxical flexion of the fingers, probably as a result of misdirected regeneration of C7 nerve root fibers [34].\" @brazisLocalizationClinicalNeurology2022 \n",
        "\n",
        "# Examination\n",
        "\n",
        "## Muscle Strength\n",
        "\"The clinician asks the patient to place the arms out in front, with the elbows flexed slightly and the forearms, wrists, and fingers in neutral. The clinician applies an upward force to the palm of the patient’s hands (Fig. 25-28).\" @duttonDuttonOrthopaedicExamination2020"
      ],
      "id": "796c0c95"
    }
  ],
  "metadata": {
    "kernelspec": {
      "name": "python3",
      "language": "python",
      "display_name": "Python 3 (ipykernel)",
      "path": "/Users/nathanielyomogida/miniconda3/share/jupyter/kernels/python3"
    }
  },
  "nbformat": 4,
  "nbformat_minor": 5
}