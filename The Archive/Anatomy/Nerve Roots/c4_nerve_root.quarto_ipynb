{
  "cells": [
    {
      "cell_type": "markdown",
      "metadata": {},
      "source": [
        "---\n",
        "title: C4 Nerve Root (C4)\n",
        "---\n",
        "\n",
        "\n",
        "\n",
        "![Hypoglossal nerve, cervical plexus, and their respective branches @grayAnatomyHumanBody1918](/The Archive/Images/Gray anatomy 1918 images/Neurology/image794 Hypoglossal nerve cervical plexus and their branches.gif){#fig-gray1918-image794}\n",
        "\n",
        "![Nerve roots extending from the spinal cord @grayAnatomyHumanBody1918](/The Archive/Images/Gray anatomy 1918 images/Neurology/image796 A portion of the spinal cord, showing its right lateral surface. The dura is opened and arranged to show the nerve roots.gif){#fig-gray1918-image796}\n",
        "\n",
        "# Motor Innervation\n"
      ],
      "id": "0a717f09"
    },
    {
      "cell_type": "code",
      "metadata": {
        "message": false
      },
      "source": [
        "#| label: tbl-c4-oian\n",
        "#| warning: false\n",
        "#| echo: false\n",
        "\n",
        "from pathlib import Path\n",
        "import pandas as pd\n",
        "from pyprojroot import here\n",
        "from IPython.core.display import display, HTML\n",
        "\n",
        "# Set the path for the script file\n",
        "script_file_path = here(\"scripts/process_oian_table.py\")\n",
        "\n",
        "# Check if the script file exists\n",
        "if script_file_path.exists():\n",
        "    import sys\n",
        "    sys.path.append(str(script_file_path.parent))  # Add the directory of the script to the system path\n",
        "\n",
        "    from process_oian_table import process_oian_table  # Import the specific function\n",
        "\n",
        "    # Define the column to filter by and the identifiers to include\n",
        "    filter_column = 'root_identifier'  # Choose the column you want to filter by\n",
        "    filter_identifiers = ['C4']  # Replace with actual identifiers you want to include\n",
        "\n",
        "    # Call the function to get the HTML table with filtering\n",
        "    html_table = process_oian_table(filter_column=filter_column, filter_identifiers=filter_identifiers)\n",
        "\n",
        "    if html_table:\n",
        "        # Render the HTML table for display\n",
        "        display(HTML(html_table))  # Use display to render the HTML properly\n",
        "else:\n",
        "    print(\"Script file does not exist. Please check the path.\")"
      ],
      "id": "tbl-c4-oian",
      "execution_count": null,
      "outputs": []
    },
    {
      "cell_type": "markdown",
      "metadata": {},
      "source": [
        "# Dermatome\n",
        "\n",
        "::: {.columns}\n",
        "::: {.column}\n",
        "![Dermatomal cutaneous distribution @grayAnatomyHumanBody1918](/The Archive/Images/Gray anatomy 1918 images/Neurology/image797 Distribution of cutaneous nerves. Ventral aspect.gif){#fig-gray1918-image797}\n",
        ":::\n",
        "::: {.column}\n",
        "![Dermatomal cutaneous distribution (Posterior) @grayAnatomyHumanBody1918](/The Archive/Images/Gray anatomy 1918 images/Neurology/image798 Distribution of cutaneous nerves. Dorsal aspect.gif){#fig-gray1918-image798}\n",
        ":::\n",
        ":::\n",
        "\n",
        "# Lesion\n",
        "\n",
        "\"Sensory signs and symptoms occur on the lower neck. Paresis occurs in the scalene and levator scapulae muscles (lateral neck flexion and scapular rotation, respectively), rhomboid muscles (scapular elevation and adduction), trapezius muscle (shoulder elevation), and some muscles of the neck. Diaphragmatic paresis may also occur because some fibers reach the phrenic nerve. There is no reflex impairment.\" @brazisLocalizationClinicalNeurology2022 "
      ],
      "id": "10e59864"
    }
  ],
  "metadata": {
    "kernelspec": {
      "name": "python3",
      "language": "python",
      "display_name": "Python 3 (ipykernel)",
      "path": "/Users/nathanielyomogida/miniconda3/share/jupyter/kernels/python3"
    }
  },
  "nbformat": 4,
  "nbformat_minor": 5
}