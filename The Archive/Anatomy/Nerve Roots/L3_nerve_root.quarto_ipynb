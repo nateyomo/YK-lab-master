{
  "cells": [
    {
      "cell_type": "markdown",
      "metadata": {},
      "source": [
        "---\n",
        "title: L3 Nerve Root (L3)\n",
        "---\n",
        "\n",
        "\n",
        "![Nerve roots extending from the spinal cord @grayAnatomyHumanBody1918](/The Archive/Images/Gray anatomy 1918 images/Neurology/image796 A portion of the spinal cord, showing its right lateral surface. The dura is opened and arranged to show the nerve roots.gif){#fig-gray1918-image796}\n",
        "\n",
        "\n",
        "# Innervation {#innervation}\n",
        "\n",
        "| Nerve | Roots | Motor Innervation | Cutaneous Innervation |\n",
        "|-|-|-|-|\n",
        "| [Lateral Cutaneous Nerve of the Thigh]({{< var ref-lateral-cutaneous-nerve-of-thigh.path >}}) | {{< var ref-lateral-cutaneous-nerve-of-thigh.roots >}} | {{< var ref-lateral-cutaneous-nerve-of-thigh.motor >}} | {{< var ref-lateral-cutaneous-nerve-of-thigh.cutaneous >}} |\n",
        "| [Obturator N.]({{< var ref-obturator-nerve.path >}}) | {{< var ref-obturator-nerve.roots >}} | {{< var ref-obturator-nerve.motor >}} | {{< var ref-obturator-nerve.cutaneous >}} |\n",
        "| [Femoral N.]({{< var ref-femoral-nerve.path >}}) | {{< var ref-femoral-nerve.roots >}} | {{< var ref-femoral-nerve.motor >}} | {{< var ref-femoral-nerve.cutaneous >}} |\n",
        ": Peripheral Nerves Originating From L3 {.striped .hover}\n",
        "\n",
        ":::{layout-ncol=\"2\"}\n",
        "### Femoral nerve\n",
        "[Femoral nerve]({{< var ref-femoral-nerve.path >}}) L3 innervations \n",
        "\n",
        "- [Quadriceps]({{< var ref-quadricep.path >}})\n",
        "    - [Rectus Femoris]({{< var ref-rectus-femoris.path >}}) @gilroyAtlasAnatomy2020\n",
        "    - [Vastus lateralis]({{< var ref-vastus-lateralis.path >}}) @gilroyAtlasAnatomy2020\n",
        "    - [Vastus intermedius]({{< var ref-vastus-intermedius.path >}}) @gilroyAtlasAnatomy2020\n",
        "    - [Vastus medialis]({{< var ref-vastus-medialis.path >}}) @gilroyAtlasAnatomy2020\n",
        "    - [Articularis Genus]({{< var ref-articularis-genus.path >}}) @gilroyAtlasAnatomy2020\n",
        "\n",
        ":::\n",
        "\n",
        "# Muscle Innervation\n",
        "\n",
        "# Motor Innervation\n"
      ],
      "id": "f46b4a68"
    },
    {
      "cell_type": "code",
      "metadata": {
        "message": false
      },
      "source": [
        "#| label: tbl-l3-oian\n",
        "#| warning: false\n",
        "#| echo: false\n",
        "\n",
        "from pathlib import Path\n",
        "import pandas as pd\n",
        "from pyprojroot import here\n",
        "from IPython.display import display, HTML\n",
        "\n",
        "# Set the path for the script file\n",
        "script_file_path = here(\"scripts/process_oian_table.py\")\n",
        "\n",
        "# Check if the script file exists\n",
        "if script_file_path.exists():\n",
        "    import sys\n",
        "    sys.path.append(str(script_file_path.parent))  # Add the directory of the script to the system path\n",
        "\n",
        "    from process_oian_table import process_oian_table  # Import the specific function\n",
        "\n",
        "    # Define the column to filter by and the identifiers to include\n",
        "    filter_column = 'root_identifier'  # Choose the column you want to filter by\n",
        "    filter_identifiers = ['L3']  # Replace with actual identifiers you want to include\n",
        "\n",
        "    # Call the function to get the HTML table with filtering\n",
        "    html_table = process_oian_table(filter_column=filter_column, filter_identifiers=filter_identifiers)\n",
        "\n",
        "    if html_table:\n",
        "        # Render the HTML table for display\n",
        "        display(HTML(html_table))  # Use display to render the HTML properly\n",
        "else:\n",
        "    print(\"Script file does not exist. Please check the path.\")"
      ],
      "id": "tbl-l3-oian",
      "execution_count": null,
      "outputs": []
    },
    {
      "cell_type": "markdown",
      "metadata": {},
      "source": [
        "# Dermatome\n",
        "\n",
        "::: {.columns}\n",
        "::: {.column}\n",
        "![Dermatomal cutaneous distribution @grayAnatomyHumanBody1918](/The Archive/Images/Gray anatomy 1918 images/Neurology/image797 Distribution of cutaneous nerves. Ventral aspect.gif){#fig-gray1918-image797}\n",
        ":::\n",
        "::: {.column}\n",
        "![Dermatomal cutaneous distribution (Posterior) @grayAnatomyHumanBody1918](/The Archive/Images/Gray anatomy 1918 images/Neurology/image798 Distribution of cutaneous nerves. Dorsal aspect.gif){#fig-gray1918-image798}\n",
        ":::\n",
        ":::\n",
        "\n",
        "\n",
        "# Examination\n",
        "## Deep Tendon Reflex\n",
        "\n",
        "- Patella reflex (L2, L3, L4, but predominantly L4)"
      ],
      "id": "65f493bf"
    }
  ],
  "metadata": {
    "kernelspec": {
      "display_name": "Python 3",
      "language": "python",
      "name": "python3"
    }
  },
  "nbformat": 4,
  "nbformat_minor": 5
}