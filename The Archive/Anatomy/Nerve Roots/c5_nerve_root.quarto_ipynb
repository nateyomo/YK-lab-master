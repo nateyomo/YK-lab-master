{
  "cells": [
    {
      "cell_type": "markdown",
      "metadata": {},
      "source": [
        "---\n",
        "title: C5 Nerve Root\n",
        "---\n",
        "\n",
        "\n",
        "![Nerve roots extending from the spinal cord @grayAnatomyHumanBody1918](/The Archive/Images/Gray anatomy 1918 images/Neurology/image796 A portion of the spinal cord, showing its right lateral surface. The dura is opened and arranged to show the nerve roots.gif){#fig-gray1918-image796}\n",
        "\n",
        "# Contribution\n",
        "\n",
        "C5 and [C6]({{< var ref-nerve-root.c6 >}}) contribute to the [Superior trunk]({{< var ref-brachial-plexus.superior-trunk >}}) of the [brachial plexus]({{< var ref-brachial-plexus.path >}}).\n",
        "\n",
        "# Motor Innervation\n"
      ],
      "id": "6a376fb1"
    },
    {
      "cell_type": "code",
      "metadata": {
        "message": false
      },
      "source": [
        "#| label: tbl-c5-oian\n",
        "#| warning: false\n",
        "#| echo: false\n",
        "\n",
        "from pathlib import Path\n",
        "import pandas as pd\n",
        "from pyprojroot import here\n",
        "from IPython.display import display, HTML\n",
        "\n",
        "# Set the path for the script file\n",
        "script_file_path = here(\"scripts/process_oian_table.py\")\n",
        "\n",
        "# Check if the script file exists\n",
        "if script_file_path.exists():\n",
        "    import sys\n",
        "    sys.path.append(str(script_file_path.parent))  # Add the directory of the script to the system path\n",
        "\n",
        "    from process_oian_table import process_oian_table  # Import the specific function\n",
        "\n",
        "    # Define the column to filter by and the identifiers to include\n",
        "    filter_column = 'root_identifier'  # Choose the column you want to filter by\n",
        "    filter_identifiers = ['C5']  # Replace with actual identifiers you want to include\n",
        "\n",
        "    # Call the function to get the HTML table with filtering\n",
        "    html_table = process_oian_table(filter_column=filter_column, filter_identifiers=filter_identifiers)\n",
        "\n",
        "    if html_table:\n",
        "        # Render the HTML table for display\n",
        "        display(HTML(html_table))  # Use display to render the HTML properly\n",
        "else:\n",
        "    print(\"Script file does not exist. Please check the path.\")"
      ],
      "id": "tbl-c5-oian",
      "execution_count": null,
      "outputs": []
    },
    {
      "cell_type": "markdown",
      "metadata": {},
      "source": [
        "# Dermatome\n",
        "\n",
        "::: {.columns}\n",
        "::: {.column}\n",
        "![Dermatomal cutaneous distribution @grayAnatomyHumanBody1918](/The Archive/Images/Gray anatomy 1918 images/Neurology/image797 Distribution of cutaneous nerves. Ventral aspect.gif){#fig-gray1918-image797}\n",
        ":::\n",
        "::: {.column}\n",
        "![Dermatomal cutaneous distribution (Posterior) @grayAnatomyHumanBody1918](/The Archive/Images/Gray anatomy 1918 images/Neurology/image798 Distribution of cutaneous nerves. Dorsal aspect.gif){#fig-gray1918-image798}\n",
        ":::\n",
        ":::\n",
        "\n",
        "# Lesion\n",
        "\n",
        "\"C5 nerve root involvement results in neck, shoulder, and upper anterior arm pain. Sensory disturbances occur on the lateral arm with these lesions. Paresis occurs predominantly and variably in the following muscles: levator scapulae, rhomboids, serratus anterior, supraspinatus, infraspinatus, deltoid, biceps, and brachioradialis (for methods of examination of each of these muscles, see Chapter 2 ). Diaphragmatic paresis may rarely occur owing to C5 fibers reaching the phrenic nerve. The biceps reflex (subserved by segments C5 C6) and the brachioradialis reflex (C5 C6) may be depressed.\" @brazisLocalizationClinicalNeurology2022\n",
        "\n",
        "\n",
        "# DDX\n",
        "\n",
        ":::{layout-ncol=\"3\"}\n",
        "### Level\n",
        "C4/C5 @hongReliabilityDiagnosticAccuracy2022\n",
        "\n",
        "### Sensation\n",
        "Deltoid and lateral arm @hongReliabilityDiagnosticAccuracy2022 \n",
        "\n",
        "### Motor\n",
        "\n",
        "- Deltoid @hongReliabilityDiagnosticAccuracy2022\n",
        "- Biceps @hongReliabilityDiagnosticAccuracy2022\n",
        "\n",
        "### Abnormal DTR\n",
        "Bicep reflex @hongReliabilityDiagnosticAccuracy2022\n",
        "\n",
        ":::"
      ],
      "id": "43edf5b5"
    }
  ],
  "metadata": {
    "kernelspec": {
      "display_name": "Python 3",
      "language": "python",
      "name": "python3"
    }
  },
  "nbformat": 4,
  "nbformat_minor": 5
}