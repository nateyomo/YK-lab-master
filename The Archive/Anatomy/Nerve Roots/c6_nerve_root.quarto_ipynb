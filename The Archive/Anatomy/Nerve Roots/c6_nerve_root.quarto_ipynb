{
  "cells": [
    {
      "cell_type": "markdown",
      "metadata": {},
      "source": [
        "---\n",
        "title: C6 Nerve Root\n",
        "---\n",
        "\n",
        "\n",
        "\n",
        "![Nerve roots extending from the spinal cord @grayAnatomyHumanBody1918](/The Archive/Images/Gray anatomy 1918 images/Neurology/image796 A portion of the spinal cord, showing its right lateral surface. The dura is opened and arranged to show the nerve roots.gif){#fig-gray1918-image796}\n",
        "\n",
        "| Level | Root | Pain & Sensory Change | Motor Weakness | Abnormal Reflexes |\n",
        "|-|-|---|--|-|\n",
        "| C4/C5 | C5 | Deltoid @hongReliabilityDiagnosticAccuracy2022 <br> Lateral arm @hongReliabilityDiagnosticAccuracy2022 | Deltoid @hongReliabilityDiagnosticAccuracy2022 <br> Biceps @hongReliabilityDiagnosticAccuracy2022 | Bicep reflex @hongReliabilityDiagnosticAccuracy2022 |\n",
        "| C5/C6 | C6 | Radial forearm to thumb and index finger @hongReliabilityDiagnosticAccuracy2022 | Biceps @hongReliabilityDiagnosticAccuracy2022 <br> Wrist extensor @hongReliabilityDiagnosticAccuracy2022 | Bicep reflex @hongReliabilityDiagnosticAccuracy2022 <br> Brachioradialis reflex @hongReliabilityDiagnosticAccuracy2022 |\n",
        "| C6/C7 | C7 | Midradial forearm to index and middle finger @hongReliabilityDiagnosticAccuracy2022 | Wrist Flexor @hongReliabilityDiagnosticAccuracy2022 <br> Tricep @hongReliabilityDiagnosticAccuracy2022 | Triceps reflex @hongReliabilityDiagnosticAccuracy2022 |\n",
        "| C7/T1 | C8 | Ulnar forearm to ring and little finger @hongReliabilityDiagnosticAccuracy2022 | Hand Intrinsic @hongReliabilityDiagnosticAccuracy2022 <br> Finger Flexor @hongReliabilityDiagnosticAccuracy2022 | N/a @hongReliabilityDiagnosticAccuracy2022 |\n",
        "\n",
        ": {.striped .hover}\n",
        "\n",
        "# Motor Innervation\n"
      ],
      "id": "67a55ee4"
    },
    {
      "cell_type": "code",
      "metadata": {
        "message": false
      },
      "source": [
        "#| label: tbl-c6-oian\n",
        "#| warning: false\n",
        "#| echo: false\n",
        "\n",
        "from pathlib import Path\n",
        "import pandas as pd\n",
        "from pyprojroot import here\n",
        "from IPython.display import display, HTML\n",
        "\n",
        "# Set the path for the script file\n",
        "script_file_path = here(\"scripts/process_oian_table.py\")\n",
        "\n",
        "# Check if the script file exists\n",
        "if script_file_path.exists():\n",
        "    import sys\n",
        "    sys.path.append(str(script_file_path.parent))  # Add the directory of the script to the system path\n",
        "\n",
        "    from process_oian_table import process_oian_table  # Import the specific function\n",
        "\n",
        "    # Define the column to filter by and the identifiers to include\n",
        "    filter_column = 'root_identifier'  # Choose the column you want to filter by\n",
        "    filter_identifiers = ['C6']  # Replace with actual identifiers you want to include\n",
        "\n",
        "    # Call the function to get the HTML table with filtering\n",
        "    html_table = process_oian_table(filter_column=filter_column, filter_identifiers=filter_identifiers)\n",
        "\n",
        "    if html_table:\n",
        "        # Render the HTML table for display\n",
        "        display(HTML(html_table))  # Use display to render the HTML properly\n",
        "else:\n",
        "    print(\"Script file does not exist. Please check the path.\")"
      ],
      "id": "tbl-c6-oian",
      "execution_count": null,
      "outputs": []
    },
    {
      "cell_type": "markdown",
      "metadata": {},
      "source": [
        "# Dermatome\n",
        "\n",
        "::: {.columns}\n",
        "::: {.column}\n",
        "![Dermatomal cutaneous distribution @grayAnatomyHumanBody1918](/The Archive/Images/Gray anatomy 1918 images/Neurology/image797 Distribution of cutaneous nerves. Ventral aspect.gif){#fig-gray1918-image797}\n",
        ":::\n",
        "::: {.column}\n",
        "![Dermatomal cutaneous distribution (Posterior) @grayAnatomyHumanBody1918](/The Archive/Images/Gray anatomy 1918 images/Neurology/image798 Distribution of cutaneous nerves. Dorsal aspect.gif){#fig-gray1918-image798}\n",
        ":::\n",
        ":::\n",
        "\n",
        "# Contribution\n",
        "\n",
        "C6 along with [C5]({{< var ref-nerve-root.c5 >}}) contribute to the [Superior trunk]({{< var ref-brachial-plexus.superior-trunk >}}) of the [brachial plexus]({{< var ref-brachial-plexus.path >}}).\n",
        "\n",
        "# Lesion\n",
        "\n",
        "\"This nerve root is often compressed by disc herniation at the C5 C6 vertebral level. A monoradiculopathy affecting the C6 nerve root is the second most common level of cervical radiculopathy after lesions of the C7 level [28]. C6 root involvement results in pain in the lateral arm and dorsal forearm. Sensory signs and symptoms occur on the lateral forearm, lateral hand, and the first and second digits. Paresis occurs predominantly in the following muscles: serratus anterior, biceps, pronator teres, flexor carpi radialis, brachioradialis, extensor carpi radialis longus, supinator, and extensor carpi radialis brevis (examination of these muscles is described in Chapter 2 ). The biceps reflex (segments C5 C6) and the brachioradialis reflex (segments C5 C6) may be depressed. An “inverted radial reflex” occurs when the lesion causes compression of the spinal cord at the C5 C6 level. A central disc prolapse or a horizontal bar due to degenerative disc disease is often responsible for this clinical finding. Damage of the corticospinal tract at the level of C5 C6 results in hyperreflexia at lower levels. Therefore, tapping the tendon of the brachioradialis muscle elicits no response by the brachioradialis but a brisk contraction of the finger flexors innervated by the C8 T1 segments.\" @brazisLocalizationClinicalNeurology2022 "
      ],
      "id": "9f8e003b"
    }
  ],
  "metadata": {
    "kernelspec": {
      "display_name": "Python 3",
      "language": "python",
      "name": "python3"
    }
  },
  "nbformat": 4,
  "nbformat_minor": 5
}