{
  "cells": [
    {
      "cell_type": "markdown",
      "metadata": {},
      "source": [
        "---\n",
        "title: Quadratus lumborum (QL)\n",
        "---"
      ],
      "id": "6457ed10"
    },
    {
      "cell_type": "code",
      "metadata": {
        "message": false
      },
      "source": [
        "#| label: tbl-glute-ed-oian\n",
        "#| warning: false\n",
        "#| echo: false\n",
        "\n",
        "from pathlib import Path\n",
        "import pandas as pd\n",
        "from pyprojroot import here\n",
        "from IPython.core.display import display, HTML\n",
        "\n",
        "# Set the path for the script file\n",
        "script_file_path = here(\"scripts/process_oian_table.py\")\n",
        "\n",
        "# Check if the script file exists\n",
        "if script_file_path.exists():\n",
        "    import sys\n",
        "    sys.path.append(str(script_file_path.parent))  # Add the directory of the script to the system path\n",
        "\n",
        "    from process_oian_table import process_oian_table  # Import the specific function\n",
        "\n",
        "    # Define the column to filter by and the identifiers to include\n",
        "    filter_column = 'muscle_identifier'  # Choose the column you want to filter by\n",
        "    filter_identifiers = ['quadratus_lumborum']  # Replace with actual identifiers you want to include\n",
        "\n",
        "    # Call the function to get the HTML table with filtering\n",
        "    html_table = process_oian_table(filter_column=filter_column, filter_identifiers=filter_identifiers)\n",
        "\n",
        "    if html_table:\n",
        "        # Render the HTML table for display\n",
        "        display(HTML(html_table))  # Use display to render the HTML properly\n",
        "else:\n",
        "    print(\"Script file does not exist. Please check the path.\")"
      ],
      "id": "tbl-glute-ed-oian",
      "execution_count": null,
      "outputs": []
    },
    {
      "cell_type": "markdown",
      "metadata": {},
      "source": [
        "# Soft tissue massage\n",
        "\n",
        "- STM along iliac crest\n",
        "- STM from iliac crest to each origin at each TP\n",
        "    - Go from iliac crest to each TP\n",
        "    - Push down and under paraspinals\n",
        "    - Work all the way up to the 12th rib\n",
        "- STM to anterior fibers\n",
        "\n",
        "# Stretching\n",
        "\n",
        "- Lateral breathing on wedge\n",
        "    - Wedge under contralateral side and sidelying on contralateral side\n",
        "    - Focus on breathing through ipsilateral side to create expansion\n",
        "\n",
        "# Exercises\n",
        "\n",
        "- Elevated hip hike\n",
        "    - Ipsilateral leg is on a box\n",
        "    - Contralateral leg is lower and raised up and down\n",
        "\n",
        "# Fascial considerations\n",
        "\n",
        "- If there is QL dysfunction, consider working on the glutes since the fascial lines cross from the glutes into the \n",
        "\n",
        "\n",
        "# Strain Counterstrain\n",
        "\n",
        "\n",
        "{{< video https://www.youtube.com/watch?v=V9Cfvqn3IxU >}}"
      ],
      "id": "17761079"
    }
  ],
  "metadata": {
    "kernelspec": {
      "name": "python3",
      "language": "python",
      "display_name": "Python 3 (ipykernel)",
      "path": "/Users/nathanielyomogida/miniconda3/share/jupyter/kernels/python3"
    }
  },
  "nbformat": 4,
  "nbformat_minor": 5
}