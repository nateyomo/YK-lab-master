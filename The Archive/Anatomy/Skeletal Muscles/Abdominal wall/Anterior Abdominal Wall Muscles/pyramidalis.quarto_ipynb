{
  "cells": [
    {
      "cell_type": "markdown",
      "metadata": {},
      "source": [
        "---\n",
        "title: Pyramidalis Muscle\n",
        "subtitle: Anterior abdominal wall muscle\n",
        "---\n",
        "\n",
        "\n",
        "\n",
        "::: {.callout title=\"Reading list\"}\n",
        "\n",
        "- Abdominal muscles @donnellyTravellSimonsSimons2019\n",
        "- Neuman @neumannKinesiologyMusculoskeletalSystem2017\n",
        "\n",
        ":::\n"
      ],
      "id": "19bbccd2"
    },
    {
      "cell_type": "code",
      "metadata": {
        "message": false
      },
      "source": [
        "#| label: tbl-pyramidalis-oian\n",
        "#| warning: false\n",
        "#| echo: false\n",
        "\n",
        "from pathlib import Path\n",
        "import pandas as pd\n",
        "from pyprojroot import here\n",
        "from IPython.display import display, HTML\n",
        "\n",
        "# Set the path for the script file\n",
        "script_file_path = here(\"scripts/process_oian_table.py\")\n",
        "\n",
        "# Check if the script file exists\n",
        "if script_file_path.exists():\n",
        "    import sys\n",
        "    sys.path.append(str(script_file_path.parent))  # Add the directory of the script to the system path\n",
        "\n",
        "    from process_oian_table import process_oian_table  # Import the specific function\n",
        "\n",
        "    # Define the column to filter by and the identifiers to include\n",
        "    filter_column = 'muscle_identifier'  # Choose the column you want to filter by\n",
        "    filter_identifiers = ['pyramidalis']  # Replace with actual identifiers you want to include\n",
        "\n",
        "    # Call the function to get the HTML table with filtering\n",
        "    html_table = process_oian_table(filter_column=filter_column, filter_identifiers=filter_identifiers)\n",
        "\n",
        "    if html_table:\n",
        "        # Render the HTML table for display\n",
        "        display(HTML(html_table))  # Use display to render the HTML properly\n",
        "else:\n",
        "    print(\"Script file does not exist. Please check the path.\")"
      ],
      "id": "tbl-pyramidalis-oian",
      "execution_count": null,
      "outputs": []
    },
    {
      "cell_type": "markdown",
      "metadata": {},
      "source": [
        "# Origin {#origin}\n",
        "\n",
        "Pubis (anterior to rectus abdominis) @gilroyAtlasAnatomy2020.\n",
        "\n",
        "# Insertion {#insertion}\n",
        "\n",
        "The pyramidalis runs within the rectus sheath to insert on the *linea alba* @gilroyAtlasAnatomy2020.\n",
        "\n",
        "# Innervation {#innervation}\n",
        "\n",
        "The pyramidalis is innervated by the [Subcostal n.]({{< var ref-subcostal-nerve.path >}}) with origins from the [T12]({{< var ref-nerve-root.t12 >}}) @gilroyAtlasAnatomy2020.\n",
        "\n",
        "\n",
        "# Action {#action}\n",
        "\n",
        "In a literal sense the linea alba \"tenses\" the linea alba [@gilroyAtlasAnatomy2020; @jonesProjectFoundations2025].\n",
        "\n",
        "# Overview\n",
        "\n",
        "The muscle is only present in 80% of the population @jonesProjectFoundations2025 and can even be absent in one or both sides @jonesProjectFoundations2025.\n",
        "\n",
        "::: {.callout-note}\n",
        "If the pyramidalis is absent, the [rectus abdominis]({{< var ref-rectus-abdominis.path >}}) will adjust and increase its size.\n",
        ":::"
      ],
      "id": "2b200b47"
    }
  ],
  "metadata": {
    "kernelspec": {
      "display_name": "Python 3",
      "language": "python",
      "name": "python3"
    }
  },
  "nbformat": 4,
  "nbformat_minor": 5
}