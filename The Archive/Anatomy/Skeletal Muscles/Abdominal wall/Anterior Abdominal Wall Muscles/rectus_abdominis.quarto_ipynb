{
  "cells": [
    {
      "cell_type": "markdown",
      "metadata": {},
      "source": [
        "---\n",
        "title: Rectus Abdominis\n",
        "subtitle: Anterior abdominal wall muscle\n",
        "---\n",
        "\n",
        "\n",
        "![Muscles of the Abdomen @OpenStaxAnatomyPhysiology2022](/The Archive/Images/OpenStax Anatomy and Physiology 2e/fig11.16 Muscles of the Abdomen.jpeg){#fig-openstax-fig11.16}\n",
        "\n",
        "::: {.callout title=\"Reading list\"}\n",
        "\n",
        "- Abdominal muscles @donnellyTravellSimonsSimons2019\n",
        "- Neuman @neumannKinesiologyMusculoskeletalSystem2017\n",
        "- MMT @weinstockNeuroKineticTherapyInnovative2010\n",
        "\n",
        "\n",
        ":::\n"
      ],
      "id": "76f7c927"
    },
    {
      "cell_type": "code",
      "metadata": {
        "message": false
      },
      "source": [
        "#| label: tbl-rectus-abdominis-oian\n",
        "#| warning: false\n",
        "#| echo: false\n",
        "\n",
        "from pathlib import Path\n",
        "import pandas as pd\n",
        "from pyprojroot import here\n",
        "from IPython.display import display, HTML\n",
        "\n",
        "# Set the path for the script file\n",
        "script_file_path = here(\"scripts/process_oian_table.py\")\n",
        "\n",
        "# Check if the script file exists\n",
        "if script_file_path.exists():\n",
        "    import sys\n",
        "    sys.path.append(str(script_file_path.parent))  # Add the directory of the script to the system path\n",
        "\n",
        "    from process_oian_table import process_oian_table  # Import the specific function\n",
        "\n",
        "    # Define the column to filter by and the identifiers to include\n",
        "    filter_column = 'muscle_identifier'  # Choose the column you want to filter by\n",
        "    filter_identifiers = ['rectus_abdominis']  # Replace with actual identifiers you want to include\n",
        "\n",
        "    # Call the function to get the HTML table with filtering\n",
        "    html_table = process_oian_table(filter_column=filter_column, filter_identifiers=filter_identifiers)\n",
        "\n",
        "    if html_table:\n",
        "        # Render the HTML table for display\n",
        "        display(HTML(html_table))  # Use display to render the HTML properly\n",
        "else:\n",
        "    print(\"Script file does not exist. Please check the path.\")"
      ],
      "id": "tbl-rectus-abdominis-oian",
      "execution_count": null,
      "outputs": []
    },
    {
      "cell_type": "markdown",
      "metadata": {},
      "source": [
        "# Origin {#origin}\n",
        "\n",
        "- Lateral head: *crest of pubis* to the *pubic tubercle* @gilroyAtlasAnatomy2020.\n",
        "- Medial head: anterior region of *pubic symphysis* @gilroyAtlasAnatomy2020.\n",
        "\n",
        "# Insertion {#insertion}\n",
        "\n",
        "- Cartilage of ribs 5-7 @gilroyAtlasAnatomy2020.\n",
        "- xiphoid process of the sternum @gilroyAtlasAnatomy2020.\n",
        "\n",
        "# Innervation {#innervation}\n",
        "\n",
        "The pyramidalis is innervated by the [Intercostal nn.]({{< var ref-intercostal-nerves.path >}}) originating from [T5]({{< var ref-nerve-root.t5 >}})-[T12]({{< var ref-nerve-root.t12 >}}) and the [Subcostal n.]({{< var ref-subcostal-nerve.path >}}) with origins from the [T12]({{< var ref-nerve-root.t12 >}}) @gilroyAtlasAnatomy2020.\n",
        "\n",
        "\n",
        "# Action {#action}\n",
        "\n",
        "- Trunk flexion @gilroyAtlasAnatomy2020\n",
        "- Abdomen compression @gilroyAtlasAnatomy2020.\n",
        "- Pelvic stabilization @gilroyAtlasAnatomy2020\n",
        "\n",
        "# Overview"
      ],
      "id": "6c281ccc"
    }
  ],
  "metadata": {
    "kernelspec": {
      "display_name": "Python 3",
      "language": "python",
      "name": "python3"
    }
  },
  "nbformat": 4,
  "nbformat_minor": 5
}