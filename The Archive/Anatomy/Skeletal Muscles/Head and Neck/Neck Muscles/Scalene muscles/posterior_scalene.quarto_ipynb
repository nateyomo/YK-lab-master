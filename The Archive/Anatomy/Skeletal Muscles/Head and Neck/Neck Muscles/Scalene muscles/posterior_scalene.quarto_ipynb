{
  "cells": [
    {
      "cell_type": "markdown",
      "metadata": {},
      "source": [
        "---\n",
        "title: Posterior Scalene Muscle\n",
        "---\n",
        "\n",
        "\n",
        "\n",
        "![Muscles of the Posterior and lateral neck @OpenStaxAnatomyPhysiology2022](/The Archive/Images/OpenStax Anatomy and Physiology 2e/fig11.14 Posterior and Lateral Views of the Neck.jpeg){#fig-openstax-fig11.14}\n",
        "\n",
        "::: {.callout title=\"Reading list\"}\n",
        "\n",
        "- Scalene Muscle @donnellyTravellSimonsSimons2019\n",
        "- @neumannKinesiologyMusculoskeletalSystem2017\n",
        "\n",
        ":::\n"
      ],
      "id": "92de1035"
    },
    {
      "cell_type": "code",
      "metadata": {
        "message": false
      },
      "source": [
        "#| label: tbl-oian\n",
        "#| warning: false\n",
        "#| echo: false\n",
        "\n",
        "from pathlib import Path\n",
        "import pandas as pd\n",
        "from pyprojroot import here\n",
        "from IPython.display import display, HTML\n",
        "\n",
        "# Set the path for the script file\n",
        "script_file_path = here(\"scripts/process_oian_table.py\")\n",
        "\n",
        "# Check if the script file exists\n",
        "if script_file_path.exists():\n",
        "    import sys\n",
        "    sys.path.append(str(script_file_path.parent))  # Add the directory of the script to the system path\n",
        "\n",
        "    from process_oian_table import process_oian_table  # Import the specific function\n",
        "\n",
        "    # Define the column to filter by and the identifiers to include\n",
        "    filter_column = 'muscle_identifier'  # Choose the column you want to filter by\n",
        "    filter_identifiers = ['posterior_scalene']  # Replace with actual identifiers you want to include\n",
        "\n",
        "    # Call the function to get the HTML table with filtering\n",
        "    html_table = process_oian_table(filter_column=filter_column, filter_identifiers=filter_identifiers)\n",
        "\n",
        "    if html_table:\n",
        "        # Render the HTML table for display\n",
        "        display(HTML(html_table))  # Use display to render the HTML properly\n",
        "else:\n",
        "    print(\"Script file does not exist. Please check the path.\")"
      ],
      "id": "tbl-oian",
      "execution_count": null,
      "outputs": []
    },
    {
      "cell_type": "markdown",
      "metadata": {},
      "source": [
        "# Origin {#origin}\n",
        "C5–C7 (posterior tubercles of transverse processes) @gilroyAtlasAnatomy2020\n",
        "\n",
        "# Insertion {#insertion}\n",
        "2nd rib (outer surface)\n",
        "\n",
        "# Innervation {#innervation}\n",
        "Anterior rami of [C6]({{< var ref-nerve-root.c6 >}}), [C7]({{< var ref-nerve-root.c7 >}}), & [C8]({{< var ref-nerve-root.c8 >}}) @gilroyAtlasAnatomy2020 \n",
        "\n",
        "# Action {#action}\n",
        "\n",
        "- According to Atlas of Anatomy @gilroyAtlasAnatomy2020, the scalenes all have the same function:\n",
        "- With ribs mobile: Elevates upper ribs (during forced inspiration) @gilroyAtlasAnatomy2020 \n",
        "- With ribs fixed: Flexes cervical spine to same side (unilateral) @gilroyAtlasAnatomy2020, flexes neck (bilateral) @gilroyAtlasAnatomy2020 "
      ],
      "id": "332dcb83"
    }
  ],
  "metadata": {
    "kernelspec": {
      "display_name": "Python 3",
      "language": "python",
      "name": "python3"
    }
  },
  "nbformat": 4,
  "nbformat_minor": 5
}