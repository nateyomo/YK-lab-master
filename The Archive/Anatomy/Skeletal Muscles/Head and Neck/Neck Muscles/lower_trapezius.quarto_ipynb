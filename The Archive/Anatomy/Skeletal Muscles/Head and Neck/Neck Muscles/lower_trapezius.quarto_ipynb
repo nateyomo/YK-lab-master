{
  "cells": [
    {
      "cell_type": "markdown",
      "metadata": {},
      "source": [
        "---\n",
        "title: Lower Trapezius\n",
        "keywords:\n",
        "    - Ascending Trapezius\n",
        "---\n",
        "\n",
        "\n",
        "\n",
        "![Muscles that position the Pectoral Girdle @OpenStaxAnatomyPhysiology2022](/The Archive/Images/OpenStax Anatomy and Physiology 2e/fig11.22 Muscles That Position the Pectoral Girdle.jpeg){#fig-openstax-fig11.22}\n",
        "\n",
        "::: {.callout title=\"Reading list\"}\n",
        "\n",
        "- MMT @weinstockNeuroKineticTherapyInnovative2010\n",
        "- Trigger points\n",
        "    - Check @donnellyTravellSimonsSimons2019\n",
        "    - Trapezius @finandoTriggerPointTherapy2005\n",
        ":::\n"
      ],
      "id": "4976e930"
    },
    {
      "cell_type": "code",
      "metadata": {
        "message": false
      },
      "source": [
        "#| label: tbl-oian\n",
        "#| warning: false\n",
        "#| echo: false\n",
        "\n",
        "from pathlib import Path\n",
        "import pandas as pd\n",
        "from pyprojroot import here\n",
        "from IPython.display import display, HTML\n",
        "\n",
        "# Set the path for the script file\n",
        "script_file_path = here(\"scripts/process_oian_table.py\")\n",
        "\n",
        "# Check if the script file exists\n",
        "if script_file_path.exists():\n",
        "    import sys\n",
        "    sys.path.append(str(script_file_path.parent))  # Add the directory of the script to the system path\n",
        "\n",
        "    from process_oian_table import process_oian_table  # Import the specific function\n",
        "\n",
        "    # Define the column to filter by and the identifiers to include\n",
        "    filter_column = 'muscle_identifier'  # Choose the column you want to filter by\n",
        "    filter_identifiers = ['upper_trapezius']  # Replace with actual identifiers you want to include\n",
        "\n",
        "    # Call the function to get the HTML table with filtering\n",
        "    html_table = process_oian_table(filter_column=filter_column, filter_identifiers=filter_identifiers)\n",
        "\n",
        "    if html_table:\n",
        "        # Render the HTML table for display\n",
        "        display(HTML(html_table))  # Use display to render the HTML properly\n",
        "else:\n",
        "    print(\"Script file does not exist. Please check the path.\")"
      ],
      "id": "tbl-oian",
      "execution_count": null,
      "outputs": []
    },
    {
      "cell_type": "markdown",
      "metadata": {},
      "source": [
        "# Origin {#origin}\n",
        "\n",
        "Spinous processes of vertebrae T5-T12 @gilroyAtlasAnatomy2020\n",
        "\n",
        "# Insertion {#insertion}\n",
        "\n",
        "[Scapular spine]({{< var ref-scapula-bone.scapular-spine >}}) of scapula\n",
        "\n",
        "# Innervation {#innervation}\n",
        "\n",
        "- [Accessory n. (CN XI)]({{< var ref-cn11.path >}})\n",
        "- [C3]({{< var ref-nerve-root.c3 >}}), [C4]({{< var ref-nerve-root.c4 >}}) of cervical plexus\n",
        "\n",
        "# Action {#action}\n",
        "\n",
        "**STJ**: Retraction, Depression, Upward Rotation @gilroyAtlasAnatomy2020\n",
        "\n",
        "\n",
        "# Dysfunction\n",
        "\n",
        "::: {.callout}\n",
        "\n",
        "- Ch6 Trapezius Muscle @donnellyTravellSimonsSimons2019\n",
        "\n",
        ":::"
      ],
      "id": "ba98fb59"
    }
  ],
  "metadata": {
    "kernelspec": {
      "display_name": "Python 3",
      "language": "python",
      "name": "python3"
    }
  },
  "nbformat": 4,
  "nbformat_minor": 5
}