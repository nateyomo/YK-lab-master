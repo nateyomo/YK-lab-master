{
  "cells": [
    {
      "cell_type": "markdown",
      "metadata": {},
      "source": [
        "---\n",
        "title: Trapezius Muscles\n",
        "---"
      ],
      "id": "14f18201"
    },
    {
      "cell_type": "code",
      "metadata": {
        "message": false
      },
      "source": [
        "#| label: tbl-oian\n",
        "#| warning: false\n",
        "#| echo: false\n",
        "\n",
        "from pathlib import Path\n",
        "import pandas as pd\n",
        "from pyprojroot import here\n",
        "from IPython.core.display import display, HTML\n",
        "\n",
        "# Set the path for the script file\n",
        "script_file_path = here(\"scripts/process_oian_table.py\")\n",
        "\n",
        "# Check if the script file exists\n",
        "if script_file_path.exists():\n",
        "    import sys\n",
        "    sys.path.append(str(script_file_path.parent))  # Add the directory of the script to the system path\n",
        "\n",
        "    from process_oian_table import process_oian_table  # Import the specific function\n",
        "\n",
        "    # Define the column to filter by and the identifiers to include\n",
        "    filter_column = 'group_identifier'  # Choose the column you want to filter by\n",
        "    filter_identifiers = ['trapezius_muscle_group']  # Replace with actual identifiers you want to include\n",
        "\n",
        "    # Call the function to get the HTML table with filtering\n",
        "    html_table = process_oian_table(filter_column=filter_column, filter_identifiers=filter_identifiers)\n",
        "\n",
        "    if html_table:\n",
        "        # Render the HTML table for display\n",
        "        display(HTML(html_table))  # Use display to render the HTML properly\n",
        "else:\n",
        "    print(\"Script file does not exist. Please check the path.\")"
      ],
      "id": "tbl-oian",
      "execution_count": null,
      "outputs": []
    },
    {
      "cell_type": "markdown",
      "metadata": {},
      "source": [
        "# Palpation\n",
        "\n",
        "The trapezius is the muscle most commonly found to have constrictions and/ or trigger point activity. To locate the trapezius, identify the following structures:\n",
        "\n",
        "- [Clavicle]({{< var ref-clavicle-bone.palpation >}})\n",
        "- Spine of the scapula\n",
        "\n",
        "Bony prominence of the upper scapula bounded laterally by the acromion, which forms the lateral tip of the shoulder girdle, and medially by the root of the spine of the scapula, the flattened, triangular surface located on a horizontal line with the spinous process of T3. \n",
        "\n",
        "External occipital protuberance—Locate the base of the skull at the midline, just superior to the cervical spinous processes. Moving superiorly from the midline onto the skull, you come to the external occipital protuberance. Its most prominent protrusion is called the inion, or the “bump of knowledge.” Move laterally from the external occipital protuberance to palpate the superior nuchal lines, short transverse ridges that may or may not be palpable. \n",
        "\n",
        "[Nuchal ligament]({{< var ref-nuchal-ligament.palpation >}}) —If the patient elongates his spine by pulling the crown of the head up and dropping the chin in toward the throat, you will be able to palpate the cordlike nuchal ligament connecting the spinous processes of each of the cervical vertebrae. When the patient is relaxed the nuchal ligament will not be readily palpable. Spinous processes of C1–T12—Carefully differentiate each of the cervical and thoracic vertebrae, understanding that C1 spinous process cannot be palpated.\n"
      ],
      "id": "15737c15"
    }
  ],
  "metadata": {
    "kernelspec": {
      "name": "python3",
      "language": "python",
      "display_name": "Python 3 (ipykernel)",
      "path": "/Users/nathanielyomogida/miniconda3/share/jupyter/kernels/python3"
    }
  },
  "nbformat": 4,
  "nbformat_minor": 5
}