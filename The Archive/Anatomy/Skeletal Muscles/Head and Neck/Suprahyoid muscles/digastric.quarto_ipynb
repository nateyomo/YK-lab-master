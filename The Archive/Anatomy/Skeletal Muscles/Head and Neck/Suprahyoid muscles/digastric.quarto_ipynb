{
  "cells": [
    {
      "cell_type": "markdown",
      "metadata": {},
      "source": [
        "---\n",
        "title: Digastric muscle\n",
        "---\n",
        "\n",
        "\n",
        "![Muscles of the Anterior Neck @OpenStaxAnatomyPhysiology2022](/The Archive/Images/OpenStax Anatomy and Physiology 2e/fig11.13 Muscles of the Anterior Neck.jpeg){#fig-openstax-fig11.13}\n",
        "\n",
        "::: {.callout title=\"Reading list\"}\n",
        "\n",
        "- digastric Muscle @donnellyTravellSimonsSimons2019\n",
        "\n",
        ":::\n"
      ],
      "id": "e873ea57"
    },
    {
      "cell_type": "code",
      "metadata": {
        "message": false
      },
      "source": [
        "#| label: tbl-oian\n",
        "#| warning: false\n",
        "#| echo: false\n",
        "\n",
        "from pathlib import Path\n",
        "import pandas as pd\n",
        "from pyprojroot import here\n",
        "from IPython.core.display import display, HTML\n",
        "\n",
        "# Set the path for the script file\n",
        "script_file_path = here(\"scripts/process_oian_table.py\")\n",
        "\n",
        "# Check if the script file exists\n",
        "if script_file_path.exists():\n",
        "    import sys\n",
        "    sys.path.append(str(script_file_path.parent))  # Add the directory of the script to the system path\n",
        "\n",
        "    from process_oian_table import process_oian_table  # Import the specific function\n",
        "\n",
        "    # Define the column to filter by and the identifiers to include\n",
        "    filter_column = 'muscle_identifier'  # Choose the column you want to filter by\n",
        "    filter_identifiers = ['digastric']  # Replace with actual identifiers you want to include\n",
        "\n",
        "    # Call the function to get the HTML table with filtering\n",
        "    html_table = process_oian_table(filter_column=filter_column, filter_identifiers=filter_identifiers)\n",
        "\n",
        "    if html_table:\n",
        "        # Render the HTML table for display\n",
        "        display(HTML(html_table))  # Use display to render the HTML properly\n",
        "else:\n",
        "    print(\"Script file does not exist. Please check the path.\")"
      ],
      "id": "tbl-oian",
      "execution_count": null,
      "outputs": []
    },
    {
      "cell_type": "markdown",
      "metadata": {},
      "source": [
        "# Origin {#origin}\n",
        "\n",
        "# Insertion {#insertion}\n",
        "\n",
        "# Innervation {#innervation}\n",
        "\n",
        "![Path of the facial and intermediate nerves @grayAnatomyHumanBody1918](/The Archive/Images/Gray anatomy 1918 images/Neurology/image788 Plan of the facial and intermediate nerves and their communication with other nerves.gif)\n",
        "\n",
        "# Action {#action}\n",
        "\n",
        "\n",
        "\n",
        "# Strain-Counterstrain\n",
        "\n",
        "::: {.callout}\n",
        "\"Location of Tender Point: In posterior belly of digastric muscle.  Direction to Press on Tender Point: Press medially 1cm behind the angle of the mandible  and in front of the sternocleidomastoid muscle.  Treatment Position(s): With patient supine, support cervical spine in maximum flexion on  folded pillow, chin tucked. Open mouth to 2cm. Place your hand on patient’s chin and depress and retract mandible. Fine-tune with lateral shift toward Tender Point side.  Digastric  Frequency of Occurrence: Moderate.  Clinical Correlation(s): 1) Occipital pain 2) Upper sternocleidomastoid pain 3) Mandibular pain 4) Difficulty swallowing\" @myersClinicalCounterstrain2012\n",
        ":::"
      ],
      "id": "1d83ab1e"
    }
  ],
  "metadata": {
    "kernelspec": {
      "name": "python3",
      "language": "python",
      "display_name": "Python 3 (ipykernel)",
      "path": "/Users/nathanielyomogida/miniconda3/share/jupyter/kernels/python3"
    }
  },
  "nbformat": 4,
  "nbformat_minor": 5
}