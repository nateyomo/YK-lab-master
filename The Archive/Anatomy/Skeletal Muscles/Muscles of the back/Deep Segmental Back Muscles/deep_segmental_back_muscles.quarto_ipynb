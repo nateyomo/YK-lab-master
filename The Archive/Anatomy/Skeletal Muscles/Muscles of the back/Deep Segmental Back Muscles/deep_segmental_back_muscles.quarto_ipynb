{
  "cells": [
    {
      "cell_type": "markdown",
      "metadata": {},
      "source": [
        "---\n",
        "title: Deep Segmental Back Muscles\n",
        "---\n",
        "\n",
        "\n",
        "\n",
        "| Muscle  | Origin | Insertion | Nerve | Action |\n",
        "|------|--------|-------|----------|--------|\n",
        "| [Interspinales cervicis]({{< var ref-interspinales-cervicis.path >}}) | {{< var ref-interspinales-cervicis.origin >}} | {{< var ref-interspinales-cervicis.insertion >}} | {{< var ref-interspinales-cervicis.nerve >}} | {{< var ref-interspinales-cervicis.action >}} |\n",
        "| [Interspinales Lumbora]({{< var ref-interspinales-lumbora.path >}}) | {{< var ref-interspinales-lumbora.origin >}} | {{< var ref-interspinales-lumbora.insertion >}} | {{< var ref-interspinales-lumbora.nerve >}} | {{< var ref-interspinales-lumbora.action >}} |\n",
        "| [Levatores Costarum Breves]({{< var ref-levatores-costarum-breves.path >}}) | {{< var ref-levatores-costarum-breves.origin >}} | {{< var ref-levatores-costarum-breves.insertion >}} | {{< var ref-levatores-costarum-breves.nerve >}} | {{< var ref-levatores-costarum-breves.action >}} |\n",
        "| [Levatores Costarum Longi]({{< var ref-levatores-costarum-longi.path >}}) | {{< var ref-levatores-costarum-longi.origin >}} | {{< var ref-levatores-costarum-longi.insertion >}} | {{< var ref-levatores-costarum-longi.nerve >}} | {{< var ref-levatores-costarum-longi.action >}} |\n",
        "| [Anterior Intertransversarii Cervices]({{< var ref-anterior-intertransversarii-cervices.path >}}) | {{< var ref-anterior-intertransversarii-cervices.origin >}} | {{< var ref-anterior-intertransversarii-cervices.insertion >}} | {{< var ref-anterior-intertransversarii-cervices.nerve >}} | {{< var ref-anterior-intertransversarii-cervices.action >}} |\n",
        "| [Posterior Intertransversarii Cervices]({{< var ref-posterior-intertransversarii-cervices.path >}}) | {{< var ref-posterior-intertransversarii-cervices.origin >}} | {{< var ref-posterior-intertransversarii-cervices.insertion >}} | {{< var ref-posterior-intertransversarii-cervices.nerve >}} | {{< var ref-posterior-intertransversarii-cervices.action >}} |\n",
        "| [Medial Intertransversarii Lumbora]({{< var ref-medial-intertransversarii-lumbora.path >}}) | {{< var ref-medial-intertransversarii-lumbora.origin >}} | {{< var ref-medial-intertransversarii-lumbora.insertion >}} | {{< var ref-medial-intertransversarii-lumbora.nerve >}} | {{< var ref-medial-intertransversarii-lumbora.action >}} |\n",
        "| [Lateral Intertransversarii Lumbora]({{< var ref-lateral-intertransversarii-lumbora.path >}}) | {{< var ref-lateral-intertransversarii-lumbora.origin >}} | {{< var ref-lateral-intertransversarii-lumbora.insertion >}} | {{< var ref-lateral-intertransversarii-lumbora.nerve >}} | {{< var ref-lateral-intertransversarii-lumbora.action >}} |\n",
        ": Deep Segmental Back Muscles {.striped .hover}\n"
      ],
      "id": "2b02717b"
    },
    {
      "cell_type": "code",
      "metadata": {
        "message": false
      },
      "source": [
        "#| label: tbl-deep-segmental-back-oian\n",
        "#| warning: false\n",
        "#| echo: false\n",
        "#| tbl-cap: Deep Segmental Back Muscles\n",
        "\n",
        "from pathlib import Path\n",
        "import pandas as pd\n",
        "from pyprojroot import here\n",
        "from IPython.core.display import display, HTML\n",
        "\n",
        "# Set the path for the script file\n",
        "script_file_path = here(\"scripts/process_oian_table.py\")\n",
        "\n",
        "# Check if the script file exists\n",
        "if script_file_path.exists():\n",
        "    import sys\n",
        "    sys.path.append(str(script_file_path.parent))  # Add the directory of the script to the system path\n",
        "\n",
        "    from process_oian_table import process_oian_table  # Import the specific function\n",
        "\n",
        "    # Define the column to filter by and the identifiers to include\n",
        "    filter_column = 'functional_group_identifier'  # Choose the column you want to filter by\n",
        "    filter_identifiers = ['deep_segmental_back_muscles']  # Replace with actual identifiers you want to include\n",
        "\n",
        "    # Call the function to get the HTML table with filtering\n",
        "    html_table = process_oian_table(filter_column=filter_column, filter_identifiers=filter_identifiers)\n",
        "\n",
        "    if html_table:\n",
        "        # Render the HTML table for display\n",
        "        display(HTML(html_table))  # Use display to render the HTML properly\n",
        "else:\n",
        "    print(\"Script file does not exist. Please check the path.\")"
      ],
      "id": "tbl-deep-segmental-back-oian",
      "execution_count": null,
      "outputs": []
    }
  ],
  "metadata": {
    "kernelspec": {
      "name": "python3",
      "language": "python",
      "display_name": "Python 3 (ipykernel)",
      "path": "/Users/nathanielyomogida/miniconda3/share/jupyter/kernels/python3"
    }
  },
  "nbformat": 4,
  "nbformat_minor": 5
}