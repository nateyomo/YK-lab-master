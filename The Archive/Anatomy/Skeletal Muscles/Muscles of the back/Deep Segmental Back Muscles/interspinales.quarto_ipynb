{
  "cells": [
    {
      "cell_type": "markdown",
      "metadata": {},
      "source": [
        "---\n",
        "title: Interspinales Muscle\n",
        "---"
      ],
      "id": "73a48922"
    },
    {
      "cell_type": "code",
      "metadata": {
        "message": false
      },
      "source": [
        "#| label: tbl-interspinales-muscles-oian\n",
        "#| warning: false\n",
        "#| echo: false\n",
        "\n",
        "from pathlib import Path\n",
        "import pandas as pd\n",
        "from pyprojroot import here\n",
        "from IPython.core.display import display, HTML\n",
        "\n",
        "# Set the path for the script file\n",
        "script_file_path = here(\"scripts/process_oian_table.py\")\n",
        "\n",
        "# Check if the script file exists\n",
        "if script_file_path.exists():\n",
        "    import sys\n",
        "    sys.path.append(str(script_file_path.parent))  # Add the directory of the script to the system path\n",
        "\n",
        "    from process_oian_table import process_oian_table  # Import the specific function\n",
        "\n",
        "    # Define the column to filter by and the identifiers to include\n",
        "    filter_column = 'group_identifier'  # Choose the column you want to filter by\n",
        "    filter_identifiers = ['interspinales_muscles']  # Replace with actual identifiers you want to include\n",
        "\n",
        "    # Call the function to get the HTML table with filtering\n",
        "    html_table = process_oian_table(filter_column=filter_column, filter_identifiers=filter_identifiers)\n",
        "\n",
        "    if html_table:\n",
        "        # Render the HTML table for display\n",
        "        display(HTML(html_table))  # Use display to render the HTML properly\n",
        "else:\n",
        "    print(\"Script file does not exist. Please check the path.\")"
      ],
      "id": "tbl-interspinales-muscles-oian",
      "execution_count": null,
      "outputs": []
    },
    {
      "cell_type": "markdown",
      "metadata": {},
      "source": [
        "# Overview\n",
        "\n",
        "The *interspinales muscle* exists throughout the spine, but is separated into two sections: [*interspinalis cervicis*](#interspinales-cervicis) and [*interspinalis lumbora*](#interspinales-lumbora) since these two regions are where the muscle is most defined @jonesProjectFoundations2025.\n",
        "\n",
        "\n",
        "# Interspinales Cervicis\n",
        "## Origin {#origin}\n",
        "C1-C7: SP of inferiorly adjacent vertebrae @gilroyAtlasAnatomy2020\n",
        "\n",
        "## Insertion {#insertion} \n",
        "C1-C7: SP of superiorly adjacent vertebrae @gilroyAtlasAnatomy2020\n",
        "\n",
        "## Innervation {#innervation}\n",
        "[Spinal nn. (Posterior Rami)]({{< var ref-spinal-nerves.path >}}) @gilroyAtlasAnatomy2020\n",
        "\n",
        "## Action {#action}\n",
        "Extends cervical and Lumbar spines @gilroyAtlasAnatomy2020\n",
        "\n",
        "# Interspinales Lumbora\n",
        "## Origin {#origin}\n",
        "L1-L5: SP of inferiorly adjacent vertebrae @gilroyAtlasAnatomy2020\n",
        "\n",
        "## Insertion {#insertion} \n",
        "L1-L5: SP of superiorly adjacent vertebrae @gilroyAtlasAnatomy2020\n",
        "\n",
        "## Innervation {#innervation}\n",
        "[Spinal nn. (Posterior Rami)]({{< var ref-spinal-nerves.path >}}) @gilroyAtlasAnatomy2020\n",
        "\n",
        "## Action {#action}\n",
        "\n",
        "- **BIL**: Stabilizes and extends cervical and lumbar vertebrae @gilroyAtlasAnatomy2020\n",
        "- **UNIL**: I/L SB cervical and lumbar spines @gilroyAtlasAnatomy2020\n",
        "\n",
        "# Practical function\n",
        "\n",
        "Since these muscles can act to extend each vertebrae individually and how close they run to the intervertebral joint, these muscles play a role in segmental stabilization of the spine @jonesProjectFoundations2025."
      ],
      "id": "33f8acba"
    }
  ],
  "metadata": {
    "kernelspec": {
      "name": "python3",
      "language": "python",
      "display_name": "Python 3 (ipykernel)",
      "path": "/Users/nathanielyomogida/miniconda3/share/jupyter/kernels/python3"
    }
  },
  "nbformat": 4,
  "nbformat_minor": 5
}