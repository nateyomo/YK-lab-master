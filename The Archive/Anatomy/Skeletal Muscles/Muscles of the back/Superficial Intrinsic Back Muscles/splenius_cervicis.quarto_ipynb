{
  "cells": [
    {
      "cell_type": "markdown",
      "metadata": {},
      "source": [
        "---\n",
        "title: Splenius Cervicis\n",
        "---\n",
        "\n",
        "\n",
        "\n",
        "![Muscles of the Neck and Back @OpenStaxAnatomyPhysiology2022](/The Archive/Images/OpenStax Anatomy and Physiology 2e/fig11.15 Muscles of the Neck and Back.jpeg){#fig-openstax-fig11.15}\n"
      ],
      "id": "35f8dd73"
    },
    {
      "cell_type": "code",
      "metadata": {
        "message": false
      },
      "source": [
        "#| label: tbl-oian\n",
        "#| warning: false\n",
        "#| echo: false\n",
        "\n",
        "from pathlib import Path\n",
        "import pandas as pd\n",
        "from pyprojroot import here\n",
        "from IPython.core.display import display, HTML\n",
        "\n",
        "# Set the path for the script file\n",
        "script_file_path = here(\"scripts/process_oian_table.py\")\n",
        "\n",
        "# Check if the script file exists\n",
        "if script_file_path.exists():\n",
        "    import sys\n",
        "    sys.path.append(str(script_file_path.parent))  # Add the directory of the script to the system path\n",
        "\n",
        "    from process_oian_table import process_oian_table  # Import the specific function\n",
        "\n",
        "    # Define the column to filter by and the identifiers to include\n",
        "    filter_column = 'muscle_identifier'  # Choose the column you want to filter by\n",
        "    filter_identifiers = ['splenius_cervicis']  # Replace with actual identifiers you want to include\n",
        "\n",
        "    # Call the function to get the HTML table with filtering\n",
        "    html_table = process_oian_table(filter_column=filter_column, filter_identifiers=filter_identifiers)\n",
        "\n",
        "    if html_table:\n",
        "        # Render the HTML table for display\n",
        "        display(HTML(html_table))  # Use display to render the HTML properly\n",
        "else:\n",
        "    print(\"Script file does not exist. Please check the path.\")"
      ],
      "id": "tbl-oian",
      "execution_count": null,
      "outputs": []
    },
    {
      "cell_type": "markdown",
      "metadata": {},
      "source": [
        "## Origin {#origin}\n",
        "T3-T6/T7 (SP) @gilroyAtlasAnatomy2020\n",
        "\n",
        "\n",
        "## Insertion {#insertion}\n",
        "C1–C3/4 (TP) @gilroyAtlasAnatomy2020\n",
        "\n",
        "## Innervation {#innervation}\n",
        "[Spinal nn. C1-C6]({{< var ref-spinal-nerves.path >}}) (Post rami, lateral branches) @gilroyAtlasAnatomy2020\n",
        "\n",
        "## Action {#action}\n",
        "\n",
        "- **BIL:** Extends C/S and head @gilroyAtlasAnatomy2020\n",
        "- **UNIL:** I/L head SB and Rotation @gilroyAtlasAnatomy2020\n",
        "\n",
        "# Muscle groups\n",
        "Splenius cervicis is part of the [Superficial intrinsic back muscle group]({{< var ref-oians >}})\n",
        "\n",
        "\n",
        "# Palpation\n",
        "\n",
        "\n",
        "# Clinical significance"
      ],
      "id": "497d24f3"
    }
  ],
  "metadata": {
    "kernelspec": {
      "name": "python3",
      "language": "python",
      "display_name": "Python 3 (ipykernel)",
      "path": "/Users/nathanielyomogida/miniconda3/share/jupyter/kernels/python3"
    }
  },
  "nbformat": 4,
  "nbformat_minor": 5
}