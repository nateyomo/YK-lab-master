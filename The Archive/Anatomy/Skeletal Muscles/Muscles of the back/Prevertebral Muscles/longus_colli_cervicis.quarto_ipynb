{
  "cells": [
    {
      "cell_type": "markdown",
      "metadata": {},
      "source": [
        "---\n",
        "title: Longus colli cervicis\n",
        "---\n",
        "\n",
        "\n",
        "\n",
        "![Prevertebral muscles anterior view @gilroyAtlasAnatomy2020](/The Archive/Anatomy/Muscles/Muscles of the back/Prevertebral Muscles/images/gilroyatlas fig3.7b Prevertebral muscles.png)\n"
      ],
      "id": "68662178"
    },
    {
      "cell_type": "code",
      "metadata": {
        "message": false
      },
      "source": [
        "#| label: tbl-oian\n",
        "#| warning: false\n",
        "#| echo: false\n",
        "\n",
        "from pathlib import Path\n",
        "import pandas as pd\n",
        "from pyprojroot import here\n",
        "from IPython.core.display import display, HTML\n",
        "\n",
        "# Set the path for the script file\n",
        "script_file_path = here(\"scripts/process_oian_table.py\")\n",
        "\n",
        "# Check if the script file exists\n",
        "if script_file_path.exists():\n",
        "    import sys\n",
        "    sys.path.append(str(script_file_path.parent))  # Add the directory of the script to the system path\n",
        "\n",
        "    from process_oian_table import process_oian_table  # Import the specific function\n",
        "\n",
        "    # Define the column to filter by and the identifiers to include\n",
        "    filter_column = 'muscle_identifier'  # Choose the column you want to filter by\n",
        "    filter_identifiers = ['longus_colli_cervicis']  # Replace with actual identifiers you want to include\n",
        "\n",
        "    # Call the function to get the HTML table with filtering\n",
        "    html_table = process_oian_table(filter_column=filter_column, filter_identifiers=filter_identifiers)\n",
        "\n",
        "    if html_table:\n",
        "        # Render the HTML table for display\n",
        "        display(HTML(html_table))  # Use display to render the HTML properly\n",
        "else:\n",
        "    print(\"Script file does not exist. Please check the path.\")"
      ],
      "id": "tbl-oian",
      "execution_count": null,
      "outputs": []
    },
    {
      "cell_type": "markdown",
      "metadata": {},
      "source": [
        "# Origin {#origin}\n",
        "\n",
        "- C5-T3 (ant side of vertebral body) @gilroyAtlasAnatomy2020\n",
        "- C3-C5 (TP, Ant tubercle) @gilroyAtlasAnatomy2020\n",
        "- T1-T3 (ant side of vertebral body) @gilroyAtlasAnatomy2020\n",
        "\n",
        "# Insertion {#insertion}\n",
        "\n",
        "Vertical (medial) part: C2-C4 (ant sides of vertebral bodies) @gilroyAtlasAnatomy2020\n",
        "Superior oblique part: C1 (TP, ant tubercle) @gilroyAtlasAnatomy2020\n",
        "Inferior oblique part: C5-C6 (TP, Ant tubercles) @gilroyAtlasAnatomy2020\n",
        "\n",
        "# Innervation {#innervation}\n",
        "Direct branches from cervical plexus (C2-C6) @gilroyAtlasAnatomy2020\n",
        "\n",
        "# Action {#action}\n",
        "\n",
        "- **Bilateral**: Flex AO Joint\n",
        "- **Unilateral**: Lat flex at AO joint\n",
        "\n",
        "# Muscle groups\n",
        "Longus colli cervicis is part of the [prevertebral muscle group]({{< var ref-oians.path >}}) @gilroyAtlasAnatomy2020.\n",
        "\n",
        "# Palpation\n",
        "\n",
        "\n",
        "# Clinical significance"
      ],
      "id": "dee80223"
    }
  ],
  "metadata": {
    "kernelspec": {
      "name": "python3",
      "language": "python",
      "display_name": "Python 3 (ipykernel)",
      "path": "/Users/nathanielyomogida/miniconda3/share/jupyter/kernels/python3"
    }
  },
  "nbformat": 4,
  "nbformat_minor": 5
}