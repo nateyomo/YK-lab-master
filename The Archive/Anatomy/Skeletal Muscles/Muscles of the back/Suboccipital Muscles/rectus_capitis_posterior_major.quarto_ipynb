{
  "cells": [
    {
      "cell_type": "markdown",
      "metadata": {},
      "source": [
        "---\n",
        "title: Rectus Capitis Posterior Major\n",
        "---"
      ],
      "id": "6376eff3"
    },
    {
      "cell_type": "code",
      "metadata": {
        "message": false
      },
      "source": [
        "#| label: tbl-oian\n",
        "#| warning: false\n",
        "#| echo: false\n",
        "\n",
        "from pathlib import Path\n",
        "import pandas as pd\n",
        "from pyprojroot import here\n",
        "from IPython.core.display import display, HTML\n",
        "\n",
        "# Set the path for the script file\n",
        "script_file_path = here(\"scripts/process_oian_table.py\")\n",
        "\n",
        "# Check if the script file exists\n",
        "if script_file_path.exists():\n",
        "    import sys\n",
        "    sys.path.append(str(script_file_path.parent))  # Add the directory of the script to the system path\n",
        "\n",
        "    from process_oian_table import process_oian_table  # Import the specific function\n",
        "\n",
        "    # Define the column to filter by and the identifiers to include\n",
        "    filter_column = 'muscle_identifier'  # Choose the column you want to filter by\n",
        "    filter_identifiers = ['rectus_capitis_posterior_major']  # Replace with actual identifiers you want to include\n",
        "\n",
        "    # Call the function to get the HTML table with filtering\n",
        "    html_table = process_oian_table(filter_column=filter_column, filter_identifiers=filter_identifiers)\n",
        "\n",
        "    if html_table:\n",
        "        # Render the HTML table for display\n",
        "        display(HTML(html_table))  # Use display to render the HTML properly\n",
        "else:\n",
        "    print(\"Script file does not exist. Please check the path.\")"
      ],
      "id": "tbl-oian",
      "execution_count": null,
      "outputs": []
    },
    {
      "cell_type": "markdown",
      "metadata": {},
      "source": [
        "## Origin {#origin}\n",
        "C2 (SP) @gilroyAtlasAnatomy2020\n",
        "\n",
        "## Insertion {#insertion}\n",
        "[Occipital bone (inferior nuchal line, middle third)]({{< var ref-occipital-bone.path >}}) @gilroyAtlasAnatomy2020\n",
        "\n",
        "## Innervation {#innervation}\n",
        "[Suboccipital N.]({{< var ref-suboccipital-nerve.path >}}) AKA Posterior ramus of C1 @gilroyAtlasAnatomy2020\n",
        "\n",
        "## Action {#action}\n",
        "\n",
        "- **Bilateral**: [Extend head]({{< var ref-neck-msk.path >}})\n",
        "- **Unilateral**: [I/L head rotation]({{< var ref-neck-msk.path >}})\n",
        "\n",
        "# Clinical significance\n",
        "\n",
        "Control of upright posture is possible through constant interaction between the visual and vestibular system with short range rotators including [obliquus capitis posterior inferior]({{< var ref-obliquus-capitis-posterior-inferior.path >}}), [rectus capitis posterior major]({{< var ref-rectus-capitis-posterior-major.path >}}), [splenius capitis]({{< var ref-splenius-capitis.path >}}), and [SCM]({{< var ref-sternocleidomastoid.path >}}) @duttonDuttonOrthopaedicExamination2020.\n",
        "\n",
        "# Muscle groups\n",
        "Part of the [suboccipital muscle group]({{< var ref-suboccipital_muscle_group.path >}})\n",
        "\n",
        "# Palpation\n",
        "\n",
        "\n",
        "# Clinical significance"
      ],
      "id": "40e6b101"
    }
  ],
  "metadata": {
    "kernelspec": {
      "name": "python3",
      "language": "python",
      "display_name": "Python 3 (ipykernel)",
      "path": "/Users/nathanielyomogida/miniconda3/share/jupyter/kernels/python3"
    }
  },
  "nbformat": 4,
  "nbformat_minor": 5
}