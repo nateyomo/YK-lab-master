{
  "cells": [
    {
      "cell_type": "markdown",
      "metadata": {},
      "source": [
        "---\n",
        "title: Obliquus capitis inferior muscle\n",
        "---\n",
        "\n",
        "\n",
        ":::{layout-ncol=\"3\"}\n",
        "![Schematic view of Suboccipital muscles (posterior view) @gilroyAtlasAnatomy2020](/The Archive/Anatomy/Muscles/Muscles of the back/Suboccipital Muscles/images/suboccipitals 3.6a gilroyAtlasAnatomy2020.png){#fig-suboccipitalmm36aagilroyAtlasAnatomy2020}\n",
        "\n",
        "![Suboccipital muscles (posterior view) @gilroyAtlasAnatomy2020](/The Archive/Anatomy/Muscles/Muscles of the back/Suboccipital Muscles/images/suboccipitals 3.6b gilroyAtlasAnatomy2020.png){#fig-suboccipitalmm36bagilroyAtlasAnatomy2020}\n",
        "\n",
        "![suboccipital muscles (left lateral view) @gilroyAtlasAnatomy2020](/The Archive/Anatomy/Muscles/Muscles of the back/Suboccipital Muscles/images/suboccipitals left lateral 3.6c gilroyAtlasAnatomy2020.png){#fig-suboccipitalmm36cagilroyAtlasAnatomy2020}\n",
        ":::\n"
      ],
      "id": "614c67e2"
    },
    {
      "cell_type": "code",
      "metadata": {
        "message": false
      },
      "source": [
        "#| label: tbl-oian\n",
        "#| warning: false\n",
        "#| echo: false\n",
        "\n",
        "from pathlib import Path\n",
        "import pandas as pd\n",
        "from pyprojroot import here\n",
        "from IPython.core.display import display, HTML\n",
        "\n",
        "# Set the path for the script file\n",
        "script_file_path = here(\"scripts/process_oian_table.py\")\n",
        "\n",
        "# Check if the script file exists\n",
        "if script_file_path.exists():\n",
        "    import sys\n",
        "    sys.path.append(str(script_file_path.parent))  # Add the directory of the script to the system path\n",
        "\n",
        "    from process_oian_table import process_oian_table  # Import the specific function\n",
        "\n",
        "    # Define the column to filter by and the identifiers to include\n",
        "    filter_column = 'muscle_identifier'  # Choose the column you want to filter by\n",
        "    filter_identifiers = ['obliquus_capitis_inferior']  # Replace with actual identifiers you want to include\n",
        "\n",
        "    # Call the function to get the HTML table with filtering\n",
        "    html_table = process_oian_table(filter_column=filter_column, filter_identifiers=filter_identifiers)\n",
        "\n",
        "    if html_table:\n",
        "        # Render the HTML table for display\n",
        "        display(HTML(html_table))  # Use display to render the HTML properly\n",
        "else:\n",
        "    print(\"Script file does not exist. Please check the path.\")"
      ],
      "id": "tbl-oian",
      "execution_count": null,
      "outputs": []
    },
    {
      "cell_type": "markdown",
      "metadata": {},
      "source": [
        "# Origin {#origin}\n",
        "C2 (SP) @gilroyAtlasAnatomy2020\n",
        "\n",
        "# Insertion {#insertion}\n",
        "C1 TP @gilroyAtlasAnatomy2020\n",
        "\n",
        "# Innervation {#innervation}\n",
        "[Suboccipital N.]({{< var ref-suboccipital-nerve.path >}}) AKA [Posterior ramus of C1]({{< var ref-nerve-root.c1 >}}) @gilroyAtlasAnatomy2020\n",
        "\n",
        "# Action {#action}\n",
        "\n",
        "- **Bilateral**: Extend head\n",
        "- **Unilateral**: I/L rotation\n",
        "\n",
        "# Palpation\n",
        "\n",
        "\n",
        "# Clinical significance"
      ],
      "id": "9cbd1665"
    }
  ],
  "metadata": {
    "kernelspec": {
      "name": "python3",
      "language": "python",
      "display_name": "Python 3 (ipykernel)",
      "path": "/Users/nathanielyomogida/miniconda3/share/jupyter/kernels/python3"
    }
  },
  "nbformat": 4,
  "nbformat_minor": 5
}