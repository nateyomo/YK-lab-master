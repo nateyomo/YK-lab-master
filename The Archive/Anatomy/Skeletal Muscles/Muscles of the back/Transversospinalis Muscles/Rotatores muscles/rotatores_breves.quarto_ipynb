{
  "cells": [
    {
      "cell_type": "markdown",
      "metadata": {},
      "source": [
        "---\n",
        "title: Rotatores breves\n",
        "---\n",
        "\n",
        "\n",
        "\n",
        "![Schematic, posterior view of the transversospinalis muscles @gilroyAtlasAnatomy2020](/The Archive/Anatomy/Muscles/Muscles of the back/Transversospinalis Muscles/images/gilroyatlas 3.11ABC schematic transversospinalis muscles posterior view.png)\n",
        "\n",
        "![Posterior view of the Transversospinalis muscles @gilroyAtlasAnatomy2020](/The Archive/Anatomy/Muscles/Muscles of the back/images/313a Deep intrinsic back muscles.png)\n"
      ],
      "id": "448de69f"
    },
    {
      "cell_type": "code",
      "metadata": {
        "message": false
      },
      "source": [
        "#| label: tbl-oian\n",
        "#| warning: false\n",
        "#| echo: false\n",
        "\n",
        "from pathlib import Path\n",
        "import pandas as pd\n",
        "from pyprojroot import here\n",
        "from IPython.core.display import display, HTML\n",
        "\n",
        "# Set the path for the script file\n",
        "script_file_path = here(\"scripts/process_oian_table.py\")\n",
        "\n",
        "# Check if the script file exists\n",
        "if script_file_path.exists():\n",
        "    import sys\n",
        "    sys.path.append(str(script_file_path.parent))  # Add the directory of the script to the system path\n",
        "\n",
        "    from process_oian_table import process_oian_table  # Import the specific function\n",
        "\n",
        "    # Define the column to filter by and the identifiers to include\n",
        "    filter_column = 'muscle_identifier'  # Choose the column you want to filter by\n",
        "    filter_identifiers = ['rotatores_breves']  # Replace with actual identifiers you want to include\n",
        "\n",
        "    # Call the function to get the HTML table with filtering\n",
        "    html_table = process_oian_table(filter_column=filter_column, filter_identifiers=filter_identifiers)\n",
        "\n",
        "    if html_table:\n",
        "        # Render the HTML table for display\n",
        "        display(HTML(html_table))  # Use display to render the HTML properly\n",
        "else:\n",
        "    print(\"Script file does not exist. Please check the path.\")"
      ],
      "id": "tbl-oian",
      "execution_count": null,
      "outputs": []
    },
    {
      "cell_type": "markdown",
      "metadata": {},
      "source": [
        "# Origin {#origin}\n",
        "T1-T12 TP of lower vertebrae @gilroyAtlasAnatomy2020\n",
        "\n",
        "# Insertion {#insertion} \n",
        "T1-T12: SP of adjacent vertebrae @gilroyAtlasAnatomy2020\n",
        "\n",
        "# Innervation {#innervation}\n",
        "[Spinal nn. (Posterior Rami)]({{< var ref-spinal-nerves.path >}}) @gilroyAtlasAnatomy2020\n",
        "\n",
        "# Action {#action}\n",
        "\n",
        "- **BIL**: Extends T/S @gilroyAtlasAnatomy2020\n",
        "- **UNIL**: C/L Rotation of T/S @gilroyAtlasAnatomy2020"
      ],
      "id": "5b00b469"
    }
  ],
  "metadata": {
    "kernelspec": {
      "name": "python3",
      "language": "python",
      "display_name": "Python 3 (ipykernel)",
      "path": "/Users/nathanielyomogida/miniconda3/share/jupyter/kernels/python3"
    }
  },
  "nbformat": 4,
  "nbformat_minor": 5
}