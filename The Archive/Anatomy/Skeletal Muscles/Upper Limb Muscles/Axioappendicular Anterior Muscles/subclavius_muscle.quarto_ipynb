{
  "cells": [
    {
      "cell_type": "markdown",
      "metadata": {},
      "source": [
        "---\n",
        "title: Subclavius Muscle\n",
        "---\n",
        "\n",
        "\n",
        ":::{layout-ncol=\"2\"}\n",
        "![Subclavius and Pectoralis minor schematic @gilroyAtlasAnatomy2020 </br> 1: Subclavius </br> 2: Pectoralis Minor](/The Archive/Anatomy/Skeletal Muscles/Upper Limb Muscles/Axioappendicular Anterior Muscles/images/gilroyatlas fig25.26a subclavius and pectoralis minor schematic.png)\n",
        "\n",
        "![Subclavius and Pectoralis minor (Anterior view) @gilroyAtlasAnatomy2020](/The Archive/Anatomy/Skeletal Muscles/Upper Limb Muscles/Axioappendicular Anterior Muscles/images/gilroyatlas fig25.26b subclavius and pectoralis minor.png)\n",
        ":::\n"
      ],
      "id": "fe60566a"
    },
    {
      "cell_type": "code",
      "metadata": {
        "message": false
      },
      "source": [
        "#| label: tbl-oian\n",
        "#| warning: false\n",
        "#| echo: false\n",
        "\n",
        "from pathlib import Path\n",
        "import pandas as pd\n",
        "from pyprojroot import here\n",
        "from IPython.core.display import display, HTML\n",
        "\n",
        "# Set the path for the script file\n",
        "script_file_path = here(\"scripts/process_oian_table.py\")\n",
        "\n",
        "# Check if the script file exists\n",
        "if script_file_path.exists():\n",
        "    import sys\n",
        "    sys.path.append(str(script_file_path.parent))  # Add the directory of the script to the system path\n",
        "\n",
        "    from process_oian_table import process_oian_table  # Import the specific function\n",
        "\n",
        "    # Define the column to filter by and the identifiers to include\n",
        "    filter_column = 'muscle_identifier'  # Choose the column you want to filter by\n",
        "    filter_identifiers = ['subclavius']  # Replace with actual identifiers you want to include\n",
        "\n",
        "    # Call the function to get the HTML table with filtering\n",
        "    html_table = process_oian_table(filter_column=filter_column, filter_identifiers=filter_identifiers)\n",
        "\n",
        "    if html_table:\n",
        "        # Render the HTML table for display\n",
        "        display(HTML(html_table))  # Use display to render the HTML properly\n",
        "else:\n",
        "    print(\"Script file does not exist. Please check the path.\")"
      ],
      "id": "tbl-oian",
      "execution_count": null,
      "outputs": []
    },
    {
      "cell_type": "markdown",
      "metadata": {},
      "source": [
        "# Origin {#origin}\n",
        "[1st rib]({{< var ref-1st-rib.path >}}) @gilroyAtlasAnatomy2020\n",
        "\n",
        "# Insertion {#insertion}\n",
        "[Clavicle (inferior surface)]({{< var ref-clavicle-bone.path >}}) @gilroyAtlasAnatomy2020\n",
        "\n",
        "## Innervation {#innervation}\n",
        "[N. to Subclavius]({{< var ref-nerve-to-subclavius.path >}}) ([C5]({{< var ref-nerve-root.c5 >}}), [C6]({{< var ref-nerve-root.c6 >}})) @gilroyAtlasAnatomy2020\n",
        "\n",
        "# Action {#action}\n",
        "\n",
        "- Clavicle depression, elevation of 1st rib @duttonDuttonOrthopaedicExamination2020.\n",
        "- This action primarily stabilizes the clavicle in the sternoclavicular joint [@duttonDuttonOrthopaedicExamination2020; @gilroyAtlasAnatomy2020; @neumannKinesiologyMusculoskeletalSystem2017].\n",
        "\n",
        "\n",
        "\n",
        ":::{.callout-note}\n",
        "The subclavius' ability to stabilize the SCJ depends on the degree of shoulder motion @duttonDuttonOrthopaedicExamination2020. \n",
        ":::\n",
        "\n",
        "## Practical Function\n",
        "\n",
        "- The subclavius muscle actions aid in stability of the clavicle in the sternoclavicular joint @duttonDuttonOrthopaedicExamination2020 "
      ],
      "id": "8e918d82"
    }
  ],
  "metadata": {
    "kernelspec": {
      "name": "python3",
      "language": "python",
      "display_name": "Python 3 (ipykernel)",
      "path": "/Users/nathanielyomogida/miniconda3/share/jupyter/kernels/python3"
    }
  },
  "nbformat": 4,
  "nbformat_minor": 5
}