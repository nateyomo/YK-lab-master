{
  "cells": [
    {
      "cell_type": "markdown",
      "metadata": {},
      "source": [
        "---\n",
        "title: Subclavius Muscle\n",
        "---\n",
        "\n",
        "\n",
        "\n",
        "![Muscles that position the Pectoral Girdle @OpenStaxAnatomyPhysiology2022](/The Archive/Images/OpenStax Anatomy and Physiology 2e/fig11.22 Muscles That Position the Pectoral Girdle.jpeg){#fig-openstax-fig11.22}\n",
        "\n",
        "::: {.callout title=\"Reading list\"}\n",
        "\n",
        "- Pectoralis major and subclavius @donnellyTravellSimonsSimons2019\n",
        "- Neuman @neumannKinesiologyMusculoskeletalSystem2017\n",
        "\n",
        ":::\n"
      ],
      "id": "5ea17ccf"
    },
    {
      "cell_type": "code",
      "metadata": {
        "message": false
      },
      "source": [
        "#| label: tbl-oian\n",
        "#| warning: false\n",
        "#| echo: false\n",
        "\n",
        "from pathlib import Path\n",
        "import pandas as pd\n",
        "from pyprojroot import here\n",
        "from IPython.display import display, HTML\n",
        "\n",
        "# Set the path for the script file\n",
        "script_file_path = here(\"scripts/process_oian_table.py\")\n",
        "\n",
        "# Check if the script file exists\n",
        "if script_file_path.exists():\n",
        "    import sys\n",
        "    sys.path.append(str(script_file_path.parent))  # Add the directory of the script to the system path\n",
        "\n",
        "    from process_oian_table import process_oian_table  # Import the specific function\n",
        "\n",
        "    # Define the column to filter by and the identifiers to include\n",
        "    filter_column = 'muscle_identifier'  # Choose the column you want to filter by\n",
        "    filter_identifiers = ['subclavius']  # Replace with actual identifiers you want to include\n",
        "\n",
        "    # Call the function to get the HTML table with filtering\n",
        "    html_table = process_oian_table(filter_column=filter_column, filter_identifiers=filter_identifiers)\n",
        "\n",
        "    if html_table:\n",
        "        # Render the HTML table for display\n",
        "        display(HTML(html_table))  # Use display to render the HTML properly\n",
        "else:\n",
        "    print(\"Script file does not exist. Please check the path.\")"
      ],
      "id": "tbl-oian",
      "execution_count": null,
      "outputs": []
    },
    {
      "cell_type": "markdown",
      "metadata": {},
      "source": [
        "# Origin {#origin}\n",
        "[1st rib]({{< var ref-1st-rib.path >}}) [@gilroyAtlasAnatomy2020; @jonesProjectFoundations2025] and its associated cartilage @jonesProjectFoundations2025.\n",
        "\n",
        "# Insertion {#insertion}\n",
        "\n",
        "Inferior surface of the middle 1/3 @jonesProjectFoundations2025 of the [Clavicle]({{< var ref-clavicle-bone.path >}}) [@gilroyAtlasAnatomy2020; @jonesProjectFoundations2025].\n",
        "\n",
        "![Left clavicle (inferior view) @grayAnatomyHumanBody1918](/The Archive/Images/Gray anatomy 1918 images/Osteology/image201 gray1918 Left clavicle. Inferior surface.gif){#fig-gray1918-image201}\n",
        "\n",
        "# Innervation {#innervation}\n",
        "[N. to Subclavius]({{< var ref-nerve-to-subclavius.path >}}) ([C5]({{< var ref-nerve-root.c5 >}}), [C6]({{< var ref-nerve-root.c6 >}})) @gilroyAtlasAnatomy2020\n",
        "\n",
        "# Action {#action}\n",
        "\n",
        "- Clavicle depression or elevation of 1st rib [@duttonDuttonOrthopaedicExamination2020; @jonesProjectFoundations2025].\n",
        "- This action primarily stabilizes the clavicle in the sternoclavicular joint [@duttonDuttonOrthopaedicExamination2020; @gilroyAtlasAnatomy2020; @neumannKinesiologyMusculoskeletalSystem2017].\n",
        "\n",
        "\n",
        "\n",
        ":::{.callout-note}\n",
        "The subclavius' ability to stabilize the SCJ depends on the degree of shoulder motion @duttonDuttonOrthopaedicExamination2020. \n",
        ":::\n",
        "\n",
        "## Practical Function\n",
        "\n",
        "- The subclavius muscle actions aid in stability of the clavicle in the sternoclavicular joint @duttonDuttonOrthopaedicExamination2020 "
      ],
      "id": "2be2c856"
    }
  ],
  "metadata": {
    "kernelspec": {
      "display_name": "Python 3",
      "language": "python",
      "name": "python3"
    }
  },
  "nbformat": 4,
  "nbformat_minor": 5
}