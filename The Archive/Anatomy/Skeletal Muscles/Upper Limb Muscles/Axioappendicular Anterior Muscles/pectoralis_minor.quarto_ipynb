{
  "cells": [
    {
      "cell_type": "markdown",
      "metadata": {},
      "source": [
        "---\n",
        "title: Pectoralis Minor\n",
        "---\n",
        "\n",
        "\n",
        ":::{layout-ncol=\"2\"}\n",
        "![Intercostal muscles @OpenStaxAnatomyPhysiology2022](/The Archive/Images/OpenStax Anatomy and Physiology 2e/fig11.18 Intercostal Muscles.jpeg){#fig-openstax-fig11.18}\n",
        ":::\n",
        "\n",
        "![Muscles that position the Pectoral Girdle @OpenStaxAnatomyPhysiology2022](/The Archive/Images/OpenStax Anatomy and Physiology 2e/fig11.22 Muscles That Position the Pectoral Girdle.jpeg){#fig-openstax-fig11.22}\n"
      ],
      "id": "b0e42296"
    },
    {
      "cell_type": "code",
      "metadata": {
        "message": false
      },
      "source": [
        "#| label: tbl-pectoralis-minor-oian\n",
        "#| warning: false\n",
        "#| echo: false\n",
        "\n",
        "from pathlib import Path\n",
        "import pandas as pd\n",
        "from pyprojroot import here\n",
        "from IPython.core.display import display, HTML\n",
        "\n",
        "# Set the path for the script file\n",
        "script_file_path = here(\"scripts/process_oian_table.py\")\n",
        "\n",
        "# Check if the script file exists\n",
        "if script_file_path.exists():\n",
        "    import sys\n",
        "    sys.path.append(str(script_file_path.parent))  # Add the directory of the script to the system path\n",
        "\n",
        "    from process_oian_table import process_oian_table  # Import the specific function\n",
        "\n",
        "    # Define the column to filter by and the identifiers to include\n",
        "    filter_column = 'muscle_identifier'  # Choose the column you want to filter by\n",
        "    filter_identifiers = ['pectoralis_minor']  # Replace with actual identifiers you want to include\n",
        "\n",
        "    # Call the function to get the HTML table with filtering\n",
        "    html_table = process_oian_table(filter_column=filter_column, filter_identifiers=filter_identifiers)\n",
        "\n",
        "    if html_table:\n",
        "        # Render the HTML table for display\n",
        "        display(HTML(html_table))  # Use display to render the HTML properly\n",
        "else:\n",
        "    print(\"Script file does not exist. Please check the path.\")"
      ],
      "id": "tbl-pectoralis-minor-oian",
      "execution_count": null,
      "outputs": []
    },
    {
      "cell_type": "markdown",
      "metadata": {},
      "source": [
        "# Overview\n",
        "\n",
        "The pectoralis minor lies on the anterior aspect of the thorax, deep to the pectoralis minor @jonesProjectFoundations2025.\n",
        "\n",
        "The pectoralis minor is a 1-joint muscle acting solely on the scapulothoracic joint whereas the pectoralis major is a 2-joint muscle acting on the GHJ and STJ.\n",
        "\n",
        "# Origin {#origin}\n",
        "Upper margins @jonesProjectFoundations2025 of [3rd to 5th ribs]({{< var ref-rib-bones.path >}}) [@gilroyAtlasAnatomy2020; @jonesProjectFoundations2025]\n",
        "\n",
        "# Insertion {#insertion}\n",
        "[Coracoid process]({{< var ref-scapula-bone.path >}}) @gilroyAtlasAnatomy2020\n",
        "\n",
        "# Innervation {#innervation}\n",
        "[Medial Pectoral n.]({{< var ref-medial-pectoral-nerve.path >}}) ([C8]({{< var ref-nerve-root.c8 >}}), [T1]({{< var ref-nerve-root.t1 >}})) @gilroyAtlasAnatomy2020\n",
        "\n",
        "# Action {#action}\n",
        "\n",
        "- Scapulothoracic: \n",
        "    - Assists in Depression [@gilroyAtlasAnatomy2020; @jonesProjectFoundations2025] resulting in the glenoid facing inferiorly [@jonesProjectFoundations2025].\n",
        "    - Protraction [@gilroyAtlasAnatomy2020; @jonesProjectFoundations2025]\n",
        "    - Downward rotation @gilroyAtlasAnatomy2020\n",
        "\n",
        "When the scapula is fixed, the pectoralis minor can act on the ribs @jonesProjectFoundations2025 and assist in respiration @gilroyAtlasAnatomy2020 \n",
        "\n",
        "The pectoralis minor can be used as an accessory muscle of inspiration @jonesProjectFoundations2025.\n"
      ],
      "id": "3e8d382f"
    }
  ],
  "metadata": {
    "kernelspec": {
      "name": "python3",
      "language": "python",
      "display_name": "Python 3 (ipykernel)",
      "path": "/Users/nathanielyomogida/miniconda3/share/jupyter/kernels/python3"
    }
  },
  "nbformat": 4,
  "nbformat_minor": 5
}