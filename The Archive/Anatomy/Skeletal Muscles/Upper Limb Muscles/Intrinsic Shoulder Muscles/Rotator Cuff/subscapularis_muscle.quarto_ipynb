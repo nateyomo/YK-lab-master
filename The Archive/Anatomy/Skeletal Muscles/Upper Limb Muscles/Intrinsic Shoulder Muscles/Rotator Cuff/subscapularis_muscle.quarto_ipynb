{
  "cells": [
    {
      "cell_type": "markdown",
      "metadata": {},
      "source": [
        "---\n",
        "title: Subscapularis Muscle\n",
        "---\n",
        "\n",
        "\n",
        ":::{layout-ncol=\"2\"}\n",
        "![Schematic of Rotator Cuff Muscles (anterior view) @gilroyAtlasAnatomy2020 </br> 1: Supraspinatus </br> 2: Infraspinatus </br> 3: Teres Minor](/The Archive/Anatomy/Skeletal Muscles/Upper Limb Muscles/Intrinsic Shoulder Muscles/Rotator Cuff/images/gilroyatlas fig25.24a schematic rtc posterior.png)\n",
        "\n",
        "![Schematic of Rotator Cuff Muscles (posterior view) @gilroyAtlasAnatomy2020 </br> 4: Subscapularis ](/The Archive/Anatomy/Skeletal Muscles/Upper Limb Muscles/Intrinsic Shoulder Muscles/Rotator Cuff/images/gilroyatlas fig25.24b schematic rtc anterior.png)\n",
        ":::\n",
        "\n",
        "\n",
        ":::{layout-ncol=\"3\"}\n",
        "![Rotator Cuff (anterior view) @gilroyAtlasAnatomy2020](/The Archive/Anatomy/Skeletal Muscles/Upper Limb Muscles/Intrinsic Shoulder Muscles/Rotator Cuff/images/gilroyatlas fig25.24c rtc anterior.png)\n",
        "![Rotator Cuff (lateral view) @gilroyAtlasAnatomy2020](/The Archive/Anatomy/Skeletal Muscles/Upper Limb Muscles/Intrinsic Shoulder Muscles/Rotator Cuff/images/gilroyatlas fig25.24d rtc lateral.png)\n",
        "![Rotator Cuff (posterior view) @gilroyAtlasAnatomy2020](/The Archive/Anatomy/Skeletal Muscles/Upper Limb Muscles/Intrinsic Shoulder Muscles/Rotator Cuff/images/gilroyatlas fig25.24e rtc posterior.png)\n",
        ":::\n"
      ],
      "id": "6d8f4b2d"
    },
    {
      "cell_type": "code",
      "metadata": {
        "message": false
      },
      "source": [
        "#| label: tbl-oian\n",
        "#| warning: false\n",
        "#| echo: false\n",
        "\n",
        "from pathlib import Path\n",
        "import pandas as pd\n",
        "from pyprojroot import here\n",
        "from IPython.core.display import display, HTML\n",
        "\n",
        "# Set the path for the script file\n",
        "script_file_path = here(\"scripts/process_oian_table.py\")\n",
        "\n",
        "# Check if the script file exists\n",
        "if script_file_path.exists():\n",
        "    import sys\n",
        "    sys.path.append(str(script_file_path.parent))  # Add the directory of the script to the system path\n",
        "\n",
        "    from process_oian_table import process_oian_table  # Import the specific function\n",
        "\n",
        "    # Define the column to filter by and the identifiers to include\n",
        "    filter_column = 'muscle_identifier'  # Choose the column you want to filter by\n",
        "    filter_identifiers = ['subscapularis']  # Replace with actual identifiers you want to include\n",
        "\n",
        "    # Call the function to get the HTML table with filtering\n",
        "    html_table = process_oian_table(filter_column=filter_column, filter_identifiers=filter_identifiers)\n",
        "\n",
        "    if html_table:\n",
        "        # Render the HTML table for display\n",
        "        display(HTML(html_table))  # Use display to render the HTML properly\n",
        "else:\n",
        "    print(\"Script file does not exist. Please check the path.\")"
      ],
      "id": "tbl-oian",
      "execution_count": null,
      "outputs": []
    },
    {
      "cell_type": "markdown",
      "metadata": {},
      "source": [
        "# Origin {#origin}\n",
        "\n",
        "Subscapular fossa of [scapula]({{< var ref-scapula-bone.path >}}) @gilroyAtlasAnatomy2020\n",
        "\n",
        "# Insertion {#insertion}\n",
        "\n",
        "Lesser tubercle of [Humerus]({{< var ref-humerus-bone.path >}}) @gilroyAtlasAnatomy2020\n",
        "\n",
        "# Innervation {#innervation}\n",
        "\n",
        "- [Upper Subscapular N.]({{< var ref-upper-subscapular-nerve.path >}}) @gilroyAtlasAnatomy2020\n",
        "- [Lower Subscapular N.]({{< var ref-lower-subscapular-nerve.path >}}) @gilroyAtlasAnatomy2020\n",
        "- ([C5]({{< var ref-nerve-root.c5 >}}), [C6]({{< var ref-nerve-root.c6 >}})) @gilroyAtlasAnatomy2020\n",
        "\n",
        "\n",
        "\n",
        "# Action {#action}\n",
        "\n",
        "**GHJ**: Internal Rotation, Adduction @gilroyAtlasAnatomy2020\n",
        "\n",
        "# Test\n",
        "\n",
        "- Lift-off Test (Gerber's test)\n",
        "\n",
        "<!--\n",
        "- Some researchers suggest that the lift-off test can be positive for pts with biceps tendon injury @gillPhysicalExaminationPartial2007\n",
        "- Theorizing that attempting to lift the affected arm off the back might provoke pain or weakness secondary to biceps tendon tear @gillPhysicalExaminationPartial2007\n",
        "--> \n",
        "\n",
        "- Bear hug test\n",
        "- Belly press test (Napolean Test)\n",
        "    - \"performed by having the patient place the affected hand on the abdomen and attempt to move the elbow anteriorly. The test was considered positive if the patient could not move the elbow forward\" @gillPhysicalExaminationPartial2007\n"
      ],
      "id": "d992afcb"
    }
  ],
  "metadata": {
    "kernelspec": {
      "name": "python3",
      "language": "python",
      "display_name": "Python 3 (ipykernel)",
      "path": "/Users/nathanielyomogida/miniconda3/share/jupyter/kernels/python3"
    }
  },
  "nbformat": 4,
  "nbformat_minor": 5
}