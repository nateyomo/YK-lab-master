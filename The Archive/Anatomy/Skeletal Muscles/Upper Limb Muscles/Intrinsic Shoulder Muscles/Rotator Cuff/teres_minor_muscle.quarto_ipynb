{
  "cells": [
    {
      "cell_type": "markdown",
      "metadata": {},
      "source": [
        "---\n",
        "title: Teres Minor Muscle\n",
        "---\n",
        "\n",
        "\n",
        ":::{layout-ncol=\"2\"}\n",
        "![Schematic of Rotator Cuff Muscles (anterior view) @gilroyAtlasAnatomy2020 </br> 1: Supraspinatus </br> 2: Infraspinatus </br> 3: Teres Minor](/The Archive/Anatomy/Skeletal Muscles/Upper Limb Muscles/Intrinsic Shoulder Muscles/Rotator Cuff/images/gilroyatlas fig25.24a schematic rtc posterior.png)\n",
        "\n",
        "![Schematic of Rotator Cuff Muscles (posterior view) @gilroyAtlasAnatomy2020 </br> 4: Subscapularis ](/The Archive/Anatomy/Skeletal Muscles/Upper Limb Muscles/Intrinsic Shoulder Muscles/Rotator Cuff/images/gilroyatlas fig25.24b schematic rtc anterior.png)\n",
        ":::\n",
        "\n",
        "\n",
        ":::{layout-ncol=\"3\"}\n",
        "![Rotator Cuff (anterior view) @gilroyAtlasAnatomy2020](/The Archive/Anatomy/Skeletal Muscles/Upper Limb Muscles/Intrinsic Shoulder Muscles/Rotator Cuff/images/gilroyatlas fig25.24c rtc anterior.png)\n",
        "![Rotator Cuff (lateral view) @gilroyAtlasAnatomy2020](/The Archive/Anatomy/Skeletal Muscles/Upper Limb Muscles/Intrinsic Shoulder Muscles/Rotator Cuff/images/gilroyatlas fig25.24d rtc lateral.png)\n",
        "![Rotator Cuff (posterior view) @gilroyAtlasAnatomy2020](/The Archive/Anatomy/Skeletal Muscles/Upper Limb Muscles/Intrinsic Shoulder Muscles/Rotator Cuff/images/gilroyatlas fig25.24e rtc posterior.png)\n",
        ":::\n"
      ],
      "id": "2ac1035c"
    },
    {
      "cell_type": "code",
      "metadata": {
        "message": false
      },
      "source": [
        "#| label: tbl-oian\n",
        "#| warning: false\n",
        "#| echo: false\n",
        "\n",
        "from pathlib import Path\n",
        "import pandas as pd\n",
        "from pyprojroot import here\n",
        "from IPython.core.display import display, HTML\n",
        "\n",
        "# Set the path for the script file\n",
        "script_file_path = here(\"scripts/process_oian_table.py\")\n",
        "\n",
        "# Check if the script file exists\n",
        "if script_file_path.exists():\n",
        "    import sys\n",
        "    sys.path.append(str(script_file_path.parent))  # Add the directory of the script to the system path\n",
        "\n",
        "    from process_oian_table import process_oian_table  # Import the specific function\n",
        "\n",
        "    # Define the column to filter by and the identifiers to include\n",
        "    filter_column = 'muscle_identifier'  # Choose the column you want to filter by\n",
        "    filter_identifiers = ['teres_minor']  # Replace with actual identifiers you want to include\n",
        "\n",
        "    # Call the function to get the HTML table with filtering\n",
        "    html_table = process_oian_table(filter_column=filter_column, filter_identifiers=filter_identifiers)\n",
        "\n",
        "    if html_table:\n",
        "        # Render the HTML table for display\n",
        "        display(HTML(html_table))  # Use display to render the HTML properly\n",
        "else:\n",
        "    print(\"Script file does not exist. Please check the path.\")"
      ],
      "id": "tbl-oian",
      "execution_count": null,
      "outputs": []
    },
    {
      "cell_type": "markdown",
      "metadata": {},
      "source": [
        "# Origin {#origin}\n",
        "\n",
        "Lateral border of [scapula]({{< var ref-scapula-bone.path >}}) @gilroyAtlasAnatomy2020\n",
        "\n",
        "# Insertion {#insertion}\n",
        "\n",
        "Greater tubercle of [Humerus]({{< var ref-humerus-bone.path >}}) @gilroyAtlasAnatomy2020\n",
        "\n",
        "# Innervation {#innervation}\n",
        "\n",
        "[Axillary N.]({{< var ref-axillary-nerve.path >}}) ([C5]({{< var ref-nerve-root.c5 >}}), [C6]({{< var ref-nerve-root.c6 >}})) @gilroyAtlasAnatomy2020\n",
        "\n",
        "# Action {#action}\n",
        "\n",
        "**GHJ**: External Rotation, Weak Adduction, Stabilization @gilroyAtlasAnatomy2020\n",
        "\n",
        "\n",
        "# Palpation\n",
        "\n",
        "# Test\n",
        "\n",
        "- [ERLS (Possibly)]({{< var ref-ERLS-external-rotation-lag-sign.path >}})\n",
        "\n",
        "# Muscle Tear\n",
        "\n",
        ":::{.callout title=\"To read\"}\n",
        "\n",
        "- Traumatic full-thickness infraspinatus and teres minor tendon tears @cainTraumaticFullthicknessInfraspinatus2013\n",
        "\n",
        ":::"
      ],
      "id": "ae5bfb16"
    }
  ],
  "metadata": {
    "kernelspec": {
      "name": "python3",
      "language": "python",
      "display_name": "Python 3 (ipykernel)",
      "path": "/Users/nathanielyomogida/miniconda3/share/jupyter/kernels/python3"
    }
  },
  "nbformat": 4,
  "nbformat_minor": 5
}