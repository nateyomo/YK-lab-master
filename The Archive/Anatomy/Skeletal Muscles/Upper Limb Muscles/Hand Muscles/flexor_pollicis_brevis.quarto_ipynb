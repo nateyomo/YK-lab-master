{
  "cells": [
    {
      "cell_type": "markdown",
      "metadata": {},
      "source": [
        "---\n",
        "title: Flexor Pollicis Brevis (FPB)\n",
        "---\n",
        "\n",
        "\n",
        "![Intrinsic Muscles of the Hand @OpenStaxAnatomyPhysiology2022](/The Archive/Images/OpenStax Anatomy and Physiology 2e/fig11.28 Intrinsic Muscles of the Hand.jpeg){#fig-openstax-fig11.28}\n",
        "\n",
        "![Palmar muscles of the hand (left) @grayAnatomyHumanBody1918](/The Archive/Images/Gray anatomy 1918 images/Myology/image427 The muscles of the left hand. Palmar surface.gif)\n",
        "\n",
        "::: {.callout title=\"Reading list\"}\n",
        "\n",
        "- MMT @weinstockNeuroKineticTherapyInnovative2010\n",
        "\n",
        "\n",
        ":::\n"
      ],
      "id": "7ce15b8d"
    },
    {
      "cell_type": "code",
      "metadata": {
        "message": false
      },
      "source": [
        "#| label: tbl-oian\n",
        "#| warning: false\n",
        "#| echo: false\n",
        "\n",
        "from pathlib import Path\n",
        "import pandas as pd\n",
        "from pyprojroot import here\n",
        "from IPython.display import display, HTML\n",
        "\n",
        "# Set the path for the script file\n",
        "script_file_path = here(\"scripts/process_oian_table.py\")\n",
        "\n",
        "# Check if the script file exists\n",
        "if script_file_path.exists():\n",
        "    import sys\n",
        "    sys.path.append(str(script_file_path.parent))  # Add the directory of the script to the system path\n",
        "\n",
        "    from process_oian_table import process_oian_table  # Import the specific function\n",
        "\n",
        "    # Define the column to filter by and the identifiers to include\n",
        "    filter_column = 'muscle_identifier'  # Choose the column you want to filter by\n",
        "    filter_identifiers = ['flexor_pollicis_brevis']  # Replace with actual identifiers you want to include\n",
        "\n",
        "    # Call the function to get the HTML table with filtering\n",
        "    html_table = process_oian_table(filter_column=filter_column, filter_identifiers=filter_identifiers)\n",
        "\n",
        "    if html_table:\n",
        "        # Render the HTML table for display\n",
        "        display(HTML(html_table))  # Use display to render the HTML properly\n",
        "else:\n",
        "    print(\"Script file does not exist. Please check the path.\")"
      ],
      "id": "tbl-oian",
      "execution_count": null,
      "outputs": []
    },
    {
      "cell_type": "markdown",
      "metadata": {},
      "source": [
        "# Origin {#origin}\n",
        "\n",
        "- **Superficial head**: Flexor retinaculum @gilroyAtlasAnatomy2020\n",
        "- **Deep head**: Capitate, Trapezium @gilroyAtlasAnatomy2020\n",
        "\n",
        "\n",
        "\n",
        "# Insertion {#insertion}\n",
        "\n",
        "Lateral side of base of 1st proximal phalan (*via the radial sesamoid*)@gilroyAtlasAnatomy2020\n",
        "\n",
        "\n",
        "# Innervation {#innervation}\n",
        "\n",
        "- **Superficial head**: [Recurrent Br. of Median N.]({{< var ref-recurrent-branch-of-median-nerve.path >}}) @gilroyAtlasAnatomy2020\n",
        "- **Deep head**: [Deep Br. of Ulnar N.]({{< var ref-deep-branch-of-ulnar-nerve.path >}}) @gilroyAtlasAnatomy2020\n",
        "- ([C8]({{< var ref-nerve-root.c8 >}}), [T1]({{< var ref-nerve-root.t1 >}})) @gilroyAtlasAnatomy2020\n",
        "\n",
        "\n",
        "\n",
        "# Action {#action}\n",
        "\n",
        "**1st CMC**: Flexion @gilroyAtlasAnatomy2020\n",
        "\n",
        "\n",
        "\n",
        "# Notes"
      ],
      "id": "55f92c60"
    }
  ],
  "metadata": {
    "kernelspec": {
      "display_name": "Python 3",
      "language": "python",
      "name": "python3"
    }
  },
  "nbformat": 4,
  "nbformat_minor": 5
}