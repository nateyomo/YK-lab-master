{
  "cells": [
    {
      "cell_type": "markdown",
      "metadata": {},
      "source": [
        "---\n",
        "title: Palmar Interossei of the Hand\n",
        "---"
      ],
      "id": "67a0e113"
    },
    {
      "cell_type": "code",
      "metadata": {
        "message": false
      },
      "source": [
        "#| label: tbl-oian\n",
        "#| warning: false\n",
        "#| echo: false\n",
        "\n",
        "from pathlib import Path\n",
        "import pandas as pd\n",
        "from pyprojroot import here\n",
        "from IPython.core.display import display, HTML\n",
        "\n",
        "# Set the path for the script file\n",
        "script_file_path = here(\"scripts/process_oian_table.py\")\n",
        "\n",
        "# Check if the script file exists\n",
        "if script_file_path.exists():\n",
        "    import sys\n",
        "    sys.path.append(str(script_file_path.parent))  # Add the directory of the script to the system path\n",
        "\n",
        "    from process_oian_table import process_oian_table  # Import the specific function\n",
        "\n",
        "    # Define the column to filter by and the identifiers to include\n",
        "    filter_column = 'muscle_identifier'  # Choose the column you want to filter by\n",
        "    filter_identifiers = ['palmar_interossei_hand']  # Replace with actual identifiers you want to include\n",
        "\n",
        "    # Call the function to get the HTML table with filtering\n",
        "    html_table = process_oian_table(filter_column=filter_column, filter_identifiers=filter_identifiers)\n",
        "\n",
        "    if html_table:\n",
        "        # Render the HTML table for display\n",
        "        display(HTML(html_table))  # Use display to render the HTML properly\n",
        "else:\n",
        "    print(\"Script file does not exist. Please check the path.\")"
      ],
      "id": "tbl-oian",
      "execution_count": null,
      "outputs": []
    },
    {
      "cell_type": "markdown",
      "metadata": {},
      "source": [
        "# Origin {#origin}\n",
        "\n",
        "Base of prox phalanx and extensor expansion of digits 2,4,5\n",
        "\n",
        "- **1st**: 2nd metacarpal (ulnar side) @gilroyAtlasAnatomy2020\n",
        "- **2nd**: 4th metacarpal (radial side) @gilroyAtlasAnatomy2020\n",
        "- **3rd**: 5th metacarpal (radial side) @gilroyAtlasAnatomy2020\n",
        "\n",
        "\n",
        "\n",
        "# Insertion {#insertion}\n",
        "\n",
        "Palmar surface of metacarpals 2,4,5\n",
        "\n",
        "- **1st**: 2nd DDE, 2nd proximal phalanx (base) @gilroyAtlasAnatomy2020\n",
        "- **2nd**: 4th DDE, 4th proximal phalanx (base) @gilroyAtlasAnatomy2020\n",
        "- **3rd**: 5th DDE, 5th proximal phalanx (base) @gilroyAtlasAnatomy2020\n",
        "\n",
        "\n",
        "\n",
        "# Innervation {#innervation}\n",
        "\n",
        "[Deep Br. of Ulnar N.]({{< var ref-deep-branch-of-ulnar-nerve.path >}}) ([C8]({{< var ref-nerve-root.c8 >}}), [T1]({{< var ref-nerve-root.t1 >}})) @gilroyAtlasAnatomy2020 \n",
        "\n",
        "# Action {#action}\n",
        "\n",
        "2nd, 4th, and 5th digits: • MCP joints: flexion • Proximal and distal IP joints: extension and adduction toward 3rd digit\n",
        "\n",
        "- **2,4,5 MCP**: Flexion @gilroyAtlasAnatomy2020\n",
        "- **2,4,5 PIP, DIP**: Extension, Adduction @gilroyAtlasAnatomy2020\n",
        "\n",
        "\n",
        "\n",
        "\n",
        "\n",
        "# Notes"
      ],
      "id": "ce49bca0"
    }
  ],
  "metadata": {
    "kernelspec": {
      "name": "python3",
      "language": "python",
      "display_name": "Python 3 (ipykernel)",
      "path": "/Users/nathanielyomogida/miniconda3/share/jupyter/kernels/python3"
    }
  },
  "nbformat": 4,
  "nbformat_minor": 5
}