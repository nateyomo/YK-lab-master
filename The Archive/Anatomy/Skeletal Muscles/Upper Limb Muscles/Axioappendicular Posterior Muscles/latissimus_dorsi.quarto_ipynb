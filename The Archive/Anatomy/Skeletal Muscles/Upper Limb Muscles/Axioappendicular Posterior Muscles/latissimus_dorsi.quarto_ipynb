{
  "cells": [
    {
      "cell_type": "markdown",
      "metadata": {},
      "source": [
        "---\n",
        "title: Latissimus Dorsi\n",
        "---\n",
        "\n",
        "\n",
        "![Left Humerus (Anterior view) @grayAnatomyHumanBody1918](/The Archive/Images/Gray anatomy 1918 images/Osteology/image207 gray1918 Left humerus. Anterior view.gif){#fig-gray1918-image207}\n",
        "\n",
        "![Muscles of the Abdomen @OpenStaxAnatomyPhysiology2022](/The Archive/Images/OpenStax Anatomy and Physiology 2e/fig11.16 Muscles of the Abdomen.jpeg){#fig-openstax-fig11.16}\n",
        "\n",
        "![Muscles that move the humerus @OpenStaxAnatomyPhysiology2022](/The Archive/Images/OpenStax Anatomy and Physiology 2e/fig11.23 Muscles That Move the Humerus.jpeg){#fig-openstax-fig11.23}\n",
        "\n",
        "::: {.callout title=\"Reading list\"}\n",
        "\n",
        "- Straight arm MMT @weinstockNeuroKineticTherapyInnovative2010\n",
        "- Bent arm MMT @weinstockNeuroKineticTherapyInnovative2010\n",
        "\n",
        ":::\n"
      ],
      "id": "d0f1cf22"
    },
    {
      "cell_type": "code",
      "metadata": {
        "message": false
      },
      "source": [
        "#| label: tbl-oian\n",
        "#| warning: false\n",
        "#| echo: false\n",
        "\n",
        "from pathlib import Path\n",
        "import pandas as pd\n",
        "from pyprojroot import here\n",
        "from IPython.core.display import display, HTML\n",
        "\n",
        "# Set the path for the script file\n",
        "script_file_path = here(\"scripts/process_oian_table.py\")\n",
        "\n",
        "# Check if the script file exists\n",
        "if script_file_path.exists():\n",
        "    import sys\n",
        "    sys.path.append(str(script_file_path.parent))  # Add the directory of the script to the system path\n",
        "\n",
        "    from process_oian_table import process_oian_table  # Import the specific function\n",
        "\n",
        "    # Define the column to filter by and the identifiers to include\n",
        "    filter_column = 'muscle_identifier'  # Choose the column you want to filter by\n",
        "    filter_identifiers = ['latissimus_dorsi']  # Replace with actual identifiers you want to include\n",
        "\n",
        "    # Call the function to get the HTML table with filtering\n",
        "    html_table = process_oian_table(filter_column=filter_column, filter_identifiers=filter_identifiers)\n",
        "\n",
        "    if html_table:\n",
        "        # Render the HTML table for display\n",
        "        display(HTML(html_table))  # Use display to render the HTML properly\n",
        "else:\n",
        "    print(\"Script file does not exist. Please check the path.\")"
      ],
      "id": "tbl-oian",
      "execution_count": null,
      "outputs": []
    },
    {
      "cell_type": "markdown",
      "metadata": {},
      "source": [
        "# Origin {#origin}\n",
        "\n",
        "- **Vertebral part**: Spinous processes of T7–T12 vertebrae; thoracolumbar fascia @gilroyAtlasAnatomy2020\n",
        "- **Scapular part**: Scapula (inferior angle) @gilroyAtlasAnatomy2020\n",
        "- **Costal part**: 9th to 12th ribs @gilroyAtlasAnatomy2020\n",
        "- **Iliac part**: Iliac crest (posterior one third) @gilroyAtlasAnatomy2020\n",
        "\n",
        "# Insertion {#insertion}\n",
        "\n",
        "Floor of intertubercular groove of humerus @gilroyAtlasAnatomy2020\n",
        "\n",
        "# Innervation {#innervation}\n",
        "[Thoracodorsal n.]({{< var ref-thoracodorsal-nerve.path >}}) ([C6]({{< var ref-nerve-root.c6 >}}), [C7]({{< var ref-nerve-root.c7 >}}), [C8]({{< var ref-nerve-root.c8 >}})) @gilroyAtlasAnatomy2020\n",
        "\n",
        "\n",
        "\n",
        "# Action {#action}\n",
        "\n",
        "- **GHJ**: Internal rotation, adduction, extension @gilroyAtlasAnatomy2020\n",
        "- **Respiration**: “cough muscle” @gilroyAtlasAnatomy2020\n",
        "\n",
        "\n",
        "\n",
        "# Function\n",
        "\n",
        "This muscle  adducts and internally rotates the arm and depresses the raised arm @brazisLocalizationClinicalNeurology2022\n",
        "\n",
        ":::{.callout-note title=\"Mini lat muscle\"}\n",
        "The teres major can almost be considered a \"mini lat\" since it has the same functions\n",
        ":::"
      ],
      "id": "776c8c9e"
    }
  ],
  "metadata": {
    "kernelspec": {
      "name": "python3",
      "language": "python",
      "display_name": "Python 3 (ipykernel)",
      "path": "/Users/nathanielyomogida/miniconda3/share/jupyter/kernels/python3"
    }
  },
  "nbformat": 4,
  "nbformat_minor": 5
}