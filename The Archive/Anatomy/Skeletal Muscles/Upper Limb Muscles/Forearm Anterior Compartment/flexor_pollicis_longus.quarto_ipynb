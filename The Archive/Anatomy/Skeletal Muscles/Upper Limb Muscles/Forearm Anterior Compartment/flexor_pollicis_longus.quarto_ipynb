{
  "cells": [
    {
      "cell_type": "markdown",
      "metadata": {},
      "source": [
        "---\n",
        "title: Flexor Pollicis Longus (FPL)\n",
        "---\n",
        "\n",
        "\n",
        "![Muscles that move the Forearm @OpenStaxAnatomyPhysiology2022](/The Archive/Images/OpenStax Anatomy and Physiology 2e/fig11.25 Muscles That Move the Forearm.jpeg){#fig-openstax-fig11.25}\n",
        "\n",
        "![Mucous sheaths of the tendons of the wrist and digits @grayAnatomyHumanBody1918](/The Archive/Images/Gray anatomy 1918 images/Myology/image423 The mucous sheaths of the tendons on the front of the wrist and digits.gif)\n",
        "\n",
        "![Transverse section of distal forearm @grayAnatomyHumanBody1918](/The Archive/Images/Gray anatomy 1918 images/Myology/image421 Transverse section across distal ends of radius and ulna.gif)\n",
        "\n",
        "![Transverse cut of the Hand @grayAnatomyHumanBody1918](/The Archive/Images/Gray anatomy 1918 images/Myology/image422 Transverse section across the wrist and digits.gif)\n",
        "\n",
        "![Palmar muscles of the hand (left) @grayAnatomyHumanBody1918](/The Archive/Images/Gray anatomy 1918 images/Myology/image427 The muscles of the left hand. Palmar surface.gif)\n",
        "\n",
        "::: {.callout title=\"Reading list\"}\n",
        "\n",
        "- Wrist and finger flexor Muscles @donnellyTravellSimonsSimons2019\n",
        "- @neumannKinesiologyMusculoskeletalSystem2017\n",
        "- MMT @weinstockNeuroKineticTherapyInnovative2010\n",
        "\n",
        "\n",
        ":::\n"
      ],
      "id": "70402e66"
    },
    {
      "cell_type": "code",
      "metadata": {
        "message": false
      },
      "source": [
        "#| label: tbl-oian\n",
        "#| warning: false\n",
        "#| echo: false\n",
        "\n",
        "from pathlib import Path\n",
        "import pandas as pd\n",
        "from pyprojroot import here\n",
        "from IPython.core.display import display, HTML\n",
        "\n",
        "# Set the path for the script file\n",
        "script_file_path = here(\"scripts/process_oian_table.py\")\n",
        "\n",
        "# Check if the script file exists\n",
        "if script_file_path.exists():\n",
        "    import sys\n",
        "    sys.path.append(str(script_file_path.parent))  # Add the directory of the script to the system path\n",
        "\n",
        "    from process_oian_table import process_oian_table  # Import the specific function\n",
        "\n",
        "    # Define the column to filter by and the identifiers to include\n",
        "    filter_column = 'muscle_identifier'  # Choose the column you want to filter by\n",
        "    filter_identifiers = ['flexor_pollicis_longus']  # Replace with actual identifiers you want to include\n",
        "\n",
        "    # Call the function to get the HTML table with filtering\n",
        "    html_table = process_oian_table(filter_column=filter_column, filter_identifiers=filter_identifiers)\n",
        "\n",
        "    if html_table:\n",
        "        # Render the HTML table for display\n",
        "        display(HTML(html_table))  # Use display to render the HTML properly\n",
        "else:\n",
        "    print(\"Script file does not exist. Please check the path.\")"
      ],
      "id": "tbl-oian",
      "execution_count": null,
      "outputs": []
    },
    {
      "cell_type": "markdown",
      "metadata": {},
      "source": [
        "# Origin {#origin}\n",
        "\n",
        "- Anterior/proximal Radius @gilroyAtlasAnatomy2020\n",
        "- Adjacent IO membrane @gilroyAtlasAnatomy2020\n",
        "\n",
        "\n",
        "\n",
        "# Insertion {#insertion}\n",
        "\n",
        "Distal phalanx of thumb (palmar surface) @gilroyAtlasAnatomy2020\n",
        "\n",
        "\n",
        "# Innervation {#innervation}\n",
        "\n",
        "[Anterior Interosseous N.]({{< var ref-anterior-interosseous-nerve.path >}}) ([C8]({{< var ref-nerve-root.c8 >}}), [T1]({{< var ref-nerve-root.t1 >}})) @gilroyAtlasAnatomy2020\n",
        "\n",
        "# Action {#action}\n",
        "\n",
        "- **Wrist**: Flexion, Radial deviation @gilroyAtlasAnatomy2020\n",
        "- **CMC**: Flexion @gilroyAtlasAnatomy2020\n",
        "- **1st MCP/IP**: Flexion @gilroyAtlasAnatomy2020\n",
        "\n",
        "\n",
        "\n",
        "\n",
        "# Notes"
      ],
      "id": "4e8ca881"
    }
  ],
  "metadata": {
    "kernelspec": {
      "name": "python3",
      "language": "python",
      "display_name": "Python 3 (ipykernel)",
      "path": "/Users/nathanielyomogida/miniconda3/share/jupyter/kernels/python3"
    }
  },
  "nbformat": 4,
  "nbformat_minor": 5
}