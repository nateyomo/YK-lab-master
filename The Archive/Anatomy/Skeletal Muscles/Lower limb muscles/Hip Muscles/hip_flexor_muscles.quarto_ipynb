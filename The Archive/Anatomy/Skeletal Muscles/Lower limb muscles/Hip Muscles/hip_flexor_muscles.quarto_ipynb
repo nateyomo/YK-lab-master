{
  "cells": [
    {
      "cell_type": "markdown",
      "metadata": {},
      "source": [
        "---\n",
        "title: Hip Flexor Muscles\n",
        "---\n",
        "\n",
        "\n",
        ":::{layout-ncol=\"2\"}\n",
        "\n",
        "### Primary\n",
        "\n",
        "- Iliopsoas @neumannKinesiologyMusculoskeletalSystem2017\n",
        "- Sartorius @neumannKinesiologyMusculoskeletalSystem2017\n",
        "- Tensor fasciae latae @neumannKinesiologyMusculoskeletalSystem2017\n",
        "- Rectus femoris @neumannKinesiologyMusculoskeletalSystem2017\n",
        "- Adductor longus (when in hip Extension) @neumannKinesiologyMusculoskeletalSystem2017\n",
        "- Pectineus (When in hip extension) @neumannKinesiologyMusculoskeletalSystem2017\n",
        "\n",
        "### Secondary\n",
        "\n",
        "- Adductor brevis @neumannKinesiologyMusculoskeletalSystem2017\n",
        "- Gracilis @neumannKinesiologyMusculoskeletalSystem2017\n",
        "- Gluteus minimus (anterior fibers) @neumannKinesiologyMusculoskeletalSystem2017\n",
        ":::\n",
        "\n",
        "# Primary\n"
      ],
      "id": "a9173a9b"
    },
    {
      "cell_type": "code",
      "metadata": {
        "message": false
      },
      "source": [
        "#| label: tbl-primary-hip-flexors-oian\n",
        "#| warning: false\n",
        "#| echo: false\n",
        "#| tbl-cap: Primary Flexors of the Hip\n",
        "\n",
        "from pathlib import Path\n",
        "import pandas as pd\n",
        "from pyprojroot import here\n",
        "from IPython.core.display import display, HTML\n",
        "\n",
        "# Set the path for the script file\n",
        "script_file_path = here(\"scripts/process_oian_table.py\")\n",
        "\n",
        "# Check if the script file exists\n",
        "if script_file_path.exists():\n",
        "    import sys\n",
        "    sys.path.append(str(script_file_path.parent))  # Add the directory of the script to the system path\n",
        "\n",
        "    from process_oian_table import process_oian_table  # Import the specific function\n",
        "\n",
        "    # Define the column to filter by and the identifiers to include\n",
        "    filter_column = 'functional_group_identifier'  # Choose the column you want to filter by\n",
        "    filter_identifiers = ['primary_hip_flexor']  # Replace with actual identifiers you want to include\n",
        "\n",
        "    # Call the function to get the HTML table with filtering\n",
        "    html_table = process_oian_table(filter_column=filter_column, filter_identifiers=filter_identifiers)\n",
        "\n",
        "    if html_table:\n",
        "        # Render the HTML table for display\n",
        "        display(HTML(html_table))  # Use display to render the HTML properly\n",
        "else:\n",
        "    print(\"Script file does not exist. Please check the path.\")"
      ],
      "id": "tbl-primary-hip-flexors-oian",
      "execution_count": null,
      "outputs": []
    },
    {
      "cell_type": "markdown",
      "metadata": {},
      "source": [
        "# Secondary\n"
      ],
      "id": "ee49660e"
    },
    {
      "cell_type": "code",
      "metadata": {
        "message": false
      },
      "source": [
        "#| label: tbl-secondary-hip-flexors-oian\n",
        "#| warning: false\n",
        "#| echo: false\n",
        "#| tbl-cap: Secondary Flexors of the Hip\n",
        "\n",
        "from pathlib import Path\n",
        "import pandas as pd\n",
        "from pyprojroot import here\n",
        "from IPython.core.display import display, HTML\n",
        "\n",
        "# Set the path for the script file\n",
        "script_file_path = here(\"scripts/process_oian_table.py\")\n",
        "\n",
        "# Check if the script file exists\n",
        "if script_file_path.exists():\n",
        "    import sys\n",
        "    sys.path.append(str(script_file_path.parent))  # Add the directory of the script to the system path\n",
        "\n",
        "    from process_oian_table import process_oian_table  # Import the specific function\n",
        "\n",
        "    # Define the column to filter by and the identifiers to include\n",
        "    filter_column = 'functional_group_identifier'  # Choose the column you want to filter by\n",
        "    filter_identifiers = ['secondary_hip_flexor']  # Replace with actual identifiers you want to include\n",
        "\n",
        "    # Call the function to get the HTML table with filtering\n",
        "    html_table = process_oian_table(filter_column=filter_column, filter_identifiers=filter_identifiers)\n",
        "\n",
        "    if html_table:\n",
        "        # Render the HTML table for display\n",
        "        display(HTML(html_table))  # Use display to render the HTML properly\n",
        "else:\n",
        "    print(\"Script file does not exist. Please check the path.\")"
      ],
      "id": "tbl-secondary-hip-flexors-oian",
      "execution_count": null,
      "outputs": []
    },
    {
      "cell_type": "markdown",
      "metadata": {},
      "source": [
        "# Manual muscle tests {#mmt}\n",
        "\n",
        "Hip flexors act as synergists during:\n",
        "\n",
        "- [Unilateral SCM MMT]({{< var ref-sternocleidomastoid.mmt >}}) @weinstockNeuroKineticTherapyInnovative2010\n",
        "\n",
        "\n",
        "# Stretches {#stretch}\n",
        "\n",
        "- [3D hip flexor stretch]({{< var ref-3d-hip-flexor-stretch.path >}})"
      ],
      "id": "f608f147"
    }
  ],
  "metadata": {
    "kernelspec": {
      "name": "python3",
      "language": "python",
      "display_name": "Python 3 (ipykernel)",
      "path": "/Users/nathanielyomogida/miniconda3/share/jupyter/kernels/python3"
    }
  },
  "nbformat": 4,
  "nbformat_minor": 5
}