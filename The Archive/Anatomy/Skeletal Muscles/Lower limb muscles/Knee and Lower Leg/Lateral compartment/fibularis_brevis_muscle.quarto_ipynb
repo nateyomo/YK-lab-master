{
  "cells": [
    {
      "cell_type": "markdown",
      "metadata": {},
      "source": [
        "---\n",
        "title: Fibularis Brevis Muscle\n",
        "---\n",
        "\n",
        "\n",
        ":::{layout-ncol=\"2\"}\n",
        "![Schematic of Muscles of the lateral compartment of the lower leg @gilroyAtlasAnatomy2020 </br> 1: Fibularis Longus </br> 2: Fibularis Brevis](/The Archive/Anatomy/Skeletal Muscles/Lower limb muscles/Knee and Lower Leg/Lateral compartment/images/gilroyatlas fig32.21a schematic lateral compartment lower leg.png)\n",
        "\n",
        "![Muscles of the lateral compartment of the lower leg @gilroyAtlasAnatomy2020](/The Archive/Anatomy/Skeletal Muscles/Lower limb muscles/Knee and Lower Leg/Lateral compartment/images/gilroyatlas fig32.21b lateral compartment lower leg lateral view.png)\n",
        "\n",
        ":::\n"
      ],
      "id": "0c1cf806"
    },
    {
      "cell_type": "code",
      "metadata": {
        "message": false
      },
      "source": [
        "#| label: tbl-oian\n",
        "#| warning: false\n",
        "#| echo: false\n",
        "\n",
        "from pathlib import Path\n",
        "import pandas as pd\n",
        "from pyprojroot import here\n",
        "from IPython.core.display import display, HTML\n",
        "\n",
        "# Set the path for the script file\n",
        "script_file_path = here(\"scripts/process_oian_table.py\")\n",
        "\n",
        "# Check if the script file exists\n",
        "if script_file_path.exists():\n",
        "    import sys\n",
        "    sys.path.append(str(script_file_path.parent))  # Add the directory of the script to the system path\n",
        "\n",
        "    from process_oian_table import process_oian_table  # Import the specific function\n",
        "\n",
        "    # Define the column to filter by and the identifiers to include\n",
        "    filter_column = 'muscle_identifier'  # Choose the column you want to filter by\n",
        "    filter_identifiers = ['fibularis_brevis']  # Replace with actual identifiers you want to include\n",
        "\n",
        "    # Call the function to get the HTML table with filtering\n",
        "    html_table = process_oian_table(filter_column=filter_column, filter_identifiers=filter_identifiers)\n",
        "\n",
        "    if html_table:\n",
        "        # Render the HTML table for display\n",
        "        display(HTML(html_table))  # Use display to render the HTML properly\n",
        "else:\n",
        "    print(\"Script file does not exist. Please check the path.\")"
      ],
      "id": "tbl-oian",
      "execution_count": null,
      "outputs": []
    },
    {
      "cell_type": "markdown",
      "metadata": {},
      "source": [
        "# Origin {#origin}\n",
        "Middle lateral surface of fibula @gilroyAtlasAnatomy2020\n",
        "\n",
        "# Insertion {#insertion}\n",
        "5th metatarsal base @gilroyAtlasAnatomy2020\n",
        "\n",
        "# Innervation {#innervation}\n",
        "[Superficial Fibular N.]({{< var ref-superficial-fibular-nerve.path >}}) ([L5]({{< var ref-nerve-root.l5 >}}), [S1]({{< var ref-nerve-root.s1 >}})) @gilroyAtlasAnatomy2020\n",
        "\n",
        "# Action {#action}\n",
        "\n",
        "- **TCJ**: PF @gilroyAtlasAnatomy2020\n",
        "- **STJ**: Eversion @gilroyAtlasAnatomy2020 \n",
        "\n",
        "\n",
        "\n",
        "\n",
        "# Tendon\n",
        "\n",
        "\"The origin for the fibularis (peroneus) brevis is more distal to the fibularis (peroneus) longus and lies deeper. It becomes superficial on the lateral aspect of the foot, at its insertion on the tuberosity of the fifth metatarsal.\" @duttonDuttonOrthopaedicExamination2020 \n",
        "\n",
        "# Length Testing\n",
        "\n",
        "# Strength Testing\n",
        "\n",
        "The fibularis longus, Fibularis brevis, and Fibularis Tertius cannot be differentiated from eachother, so the same MMT is used for all 3:\n",
        "\n",
        "- Patient is in supine and the other, with the foot over the edge of the table and the ankle in the anatomic position. Resistance is applied to the lateral border of the forefoot"
      ],
      "id": "40b28b2f"
    }
  ],
  "metadata": {
    "kernelspec": {
      "name": "python3",
      "language": "python",
      "display_name": "Python 3 (ipykernel)",
      "path": "/Users/nathanielyomogida/miniconda3/share/jupyter/kernels/python3"
    }
  },
  "nbformat": 4,
  "nbformat_minor": 5
}