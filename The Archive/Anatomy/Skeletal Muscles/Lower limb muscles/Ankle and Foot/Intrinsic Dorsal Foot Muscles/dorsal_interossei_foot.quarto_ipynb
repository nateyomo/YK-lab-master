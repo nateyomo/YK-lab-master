{
  "cells": [
    {
      "cell_type": "markdown",
      "metadata": {},
      "source": [
        "---\n",
        "title: Dorsal Interossei (foot)\n",
        "---\n",
        "\n",
        "\n",
        "\n",
        "\n",
        ":::{layout-ncol=\"2\"}\n",
        "![Dorsal Interossei of the Foot @grayAnatomyHumanBody1918](/The Archive/Images/Gray anatomy 1918 images/Myology/image446 The Interossei dorsales. Left foot.gif)\n",
        "\n",
        "![Plantar Interossei of the Foot @grayAnatomyHumanBody1918](/The Archive/Images/Gray anatomy 1918 images/Myology/image447 The Interossei plantares. Left foot.gif)\n",
        "\n",
        ":::\n",
        "\n",
        "# Overview\n"
      ],
      "id": "d56227e2"
    },
    {
      "cell_type": "code",
      "metadata": {
        "message": false
      },
      "source": [
        "#| label: tbl-oian\n",
        "#| warning: false\n",
        "#| echo: false\n",
        "\n",
        "from pathlib import Path\n",
        "import pandas as pd\n",
        "from pyprojroot import here\n",
        "from IPython.display import display, HTML\n",
        "\n",
        "# Set the path for the script file\n",
        "script_file_path = here(\"scripts/process_oian_table.py\")\n",
        "\n",
        "# Check if the script file exists\n",
        "if script_file_path.exists():\n",
        "    import sys\n",
        "    sys.path.append(str(script_file_path.parent))  # Add the directory of the script to the system path\n",
        "\n",
        "    from process_oian_table import process_oian_table  # Import the specific function\n",
        "\n",
        "    # Define the column to filter by and the identifiers to include\n",
        "    filter_column = 'muscle_identifier'  # Choose the column you want to filter by\n",
        "    filter_identifiers = ['dorsal_interossei_foot']  # Replace with actual identifiers you want to include\n",
        "\n",
        "    # Call the function to get the HTML table with filtering\n",
        "    html_table = process_oian_table(filter_column=filter_column, filter_identifiers=filter_identifiers)\n",
        "\n",
        "    if html_table:\n",
        "        # Render the HTML table for display\n",
        "        display(HTML(html_table))  # Use display to render the HTML properly\n",
        "else:\n",
        "    print(\"Script file does not exist. Please check the path.\")"
      ],
      "id": "tbl-oian",
      "execution_count": null,
      "outputs": []
    },
    {
      "cell_type": "markdown",
      "metadata": {},
      "source": [
        "# Origin {#origin}\n",
        "\n",
        "1st-5th metatarsals (two heads on opposing sides) @gilroyAtlasAnatomy2020\n",
        "\n",
        "\n",
        "# Insertion {#insertion}\n",
        "\n",
        "- 1st interosseous: 2nd proximal phalanx (medial base) @gilroyAtlasAnatomy2020\n",
        "- 2-4 interosseous: \n",
        "    - 2-4 proximal phalanges (lateral base) @gilroyAtlasAnatomy2020\n",
        "    - 2-4 toes at dorsal aponeurosis @gilroyAtlasAnatomy2020\n",
        "\n",
        "\n",
        "\n",
        "# Innervation {#innervation}\n",
        "\n",
        "[Lateral Plantar N.]({{< var ref-lateral-plantar-nerve.path >}}) ([S2]({{< var ref-nerve-root.s2 >}}), [S3]({{< var ref-nerve-root.s3 >}})) @gilroyAtlasAnatomy2020\n",
        "\n",
        "# Action {#action}\n",
        "\n",
        "- **MTP 2-4**: Flexion @gilroyAtlasAnatomy2020\n",
        "- **IP 2-4**: Extension @gilroyAtlasAnatomy2020\n",
        "- **Toes 3-4**: Abduction from 2nd toe @gilroyAtlasAnatomy2020\n",
        "\n",
        "\n",
        "\n",
        "\n",
        "\n",
        "# MMT \n"
      ],
      "id": "f246c9c4"
    }
  ],
  "metadata": {
    "kernelspec": {
      "display_name": "Python 3",
      "language": "python",
      "name": "python3"
    }
  },
  "nbformat": 4,
  "nbformat_minor": 5
}