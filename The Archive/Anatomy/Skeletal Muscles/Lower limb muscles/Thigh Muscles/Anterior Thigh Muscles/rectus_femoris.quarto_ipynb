{
  "cells": [
    {
      "cell_type": "markdown",
      "metadata": {},
      "source": [
        "---\n",
        "title: Rectus Femoris Muscle\n",
        "---\n",
        "\n",
        "\n",
        "\n",
        ":::{layout-ncol=\"3\"}\n",
        "\n",
        "![Schematic of Anterior Thigh Muscles @gilroyAtlasAnatomy2020 </br> 1: Sartorius </br> 2: Rectus Femoris </br> 3: Vastus Medialis </br> 4: Vastus Lateralis </br> Vastus Intermedius](/The Archive/Anatomy/Skeletal Muscles/Lower limb muscles/Thigh Muscles/Anterior Thigh Muscles/images/gilroyatlas fig31.24a anterior thigh muscles schematic.png)\n",
        "\n",
        "![Superficial Layer of Anterior Thigh Muscle @gilroyAtlasAnatomy2020](/The Archive/Anatomy/Skeletal Muscles/Lower limb muscles/Thigh Muscles/Anterior Thigh Muscles/images/gilroyatlas fig31.24b anterior thigh muscles superficial layer.png)\n",
        "\n",
        ":::\n"
      ],
      "id": "a3fc173e"
    },
    {
      "cell_type": "code",
      "metadata": {
        "message": false
      },
      "source": [
        "#| label: tbl-oian\n",
        "#| warning: false\n",
        "#| echo: false\n",
        "\n",
        "from pathlib import Path\n",
        "import pandas as pd\n",
        "from pyprojroot import here\n",
        "from IPython.core.display import display, HTML\n",
        "\n",
        "# Set the path for the script file\n",
        "script_file_path = here(\"scripts/process_oian_table.py\")\n",
        "\n",
        "# Check if the script file exists\n",
        "if script_file_path.exists():\n",
        "    import sys\n",
        "    sys.path.append(str(script_file_path.parent))  # Add the directory of the script to the system path\n",
        "\n",
        "    from process_oian_table import process_oian_table  # Import the specific function\n",
        "\n",
        "    # Define the column to filter by and the identifiers to include\n",
        "    filter_column = 'muscle_identifier'  # Choose the column you want to filter by\n",
        "    filter_identifiers = ['rectus_femoris']  # Replace with actual identifiers you want to include\n",
        "\n",
        "    # Call the function to get the HTML table with filtering\n",
        "    html_table = process_oian_table(filter_column=filter_column, filter_identifiers=filter_identifiers)\n",
        "\n",
        "    if html_table:\n",
        "        # Render the HTML table for display\n",
        "        display(HTML(html_table))  # Use display to render the HTML properly\n",
        "else:\n",
        "    print(\"Script file does not exist. Please check the path.\")"
      ],
      "id": "tbl-oian",
      "execution_count": null,
      "outputs": []
    },
    {
      "cell_type": "markdown",
      "metadata": {},
      "source": [
        "# Origin {#origin}\n",
        "\n",
        "- [Anterior inferior iliac spine (AIIS)]({{< var ref-coxal-bone.aiis >}}) @gilroyAtlasAnatomy2020\n",
        "- Acetabular roof of hip joint @gilroyAtlasAnatomy2020 \n",
        "\n",
        "# Insertion {#insertion}\n",
        "\n",
        "Tibial tuberosity (via patellar lig.) @gilroyAtlasAnatomy2020 \n",
        "\n",
        "# Nerve\n",
        "\n",
        "[Femoral nerve]({{< var ref-femoral-nerve.path >}}) ([L2]({{< var ref-nerve-root.l2 >}}), [L3]({{< var ref-nerve-root.l3 >}}), [L4]({{< var ref-nerve-root.l4 >}})) @gilroyAtlasAnatomy2020\n",
        "\n",
        "# Action {#action}\n",
        "\n",
        "- **Hip**: Flexion @gilroyAtlasAnatomy2020\n",
        "- **Knee**: Extension @gilroyAtlasAnatomy2020\n",
        "\n",
        "\n",
        "Since the rectus femoris crosses both the hip and knee, \"this gives the hip joint substantial significance with respect to the knee extensor mechanism in the examination and intervention\" @duttonDuttonOrthopaedicExamination2020\n",
        "\n",
        ":::{.callout-note}\n",
        "\"The line of pull of the rectus femoris, with respect to the patella, is at an angle of about 5 degrees with the femoral shaft (see Fig. 20-12).\" @duttonDuttonOrthopaedicExamination2020 \n",
        ":::\n",
        "\n",
        "# Force Couple\n",
        "\n",
        "Erector Spinae and the Rectus Femoris are considered a force couple since both produce anterior pelvic tilt\n",
        "\n",
        "# Notes\n",
        "\n",
        "\"The rectus femoris attaches to the pelvis near the anterior-inferior iliac spine and immediately superior to the acetabulum. The vastus muscles, however, attach to an extensive part of the femur, particularly the anterior-lateral shaft and the linea aspera (see Fig. 12.5). Although the vastus lateralis has the largest cross-sectional area of the quadriceps muscles, the vastus medialis extends farther distally toward the knee.\" @neumannKinesiologyMusculoskeletalSystem2017\n",
        "\n",
        "“The proximal part of the rectus femoris emerges between the limbs of an inverted V formed by the sartorius and tensor fasciae latae (see Fig. 12.26). This large bipennate­shaped muscle has its proximal attachments on the anterior­inferior iliac spine, along the superior rim of the acetabulum, and in the adjacent joint capsule. The relatively robust capsular attachment made by the “reflected” tendon of the rectus femoris has been described as an important stabilizer of the anterior capsule.238 Along with the other members of the quadriceps, the rectus femoris attaches to the tibia via the patellar tendon. The rectus femoris is responsible for about one­third of the total isometric flexion torque at the hip.144 In addition, the rectus femoris is a primary knee extensor. The combined two­joint actions of this important muscle are considered in Chapter 13. The anatomy and function of the pectineus and adductor longus are described in the section on the adductors of the hip.” @neumannKinesiologyMusculoskeletalSystem2017 "
      ],
      "id": "a3743926"
    }
  ],
  "metadata": {
    "kernelspec": {
      "name": "python3",
      "language": "python",
      "display_name": "Python 3 (ipykernel)",
      "path": "/Users/nathanielyomogida/miniconda3/share/jupyter/kernels/python3"
    }
  },
  "nbformat": 4,
  "nbformat_minor": 5
}