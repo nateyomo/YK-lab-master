{
  "cells": [
    {
      "cell_type": "markdown",
      "metadata": {},
      "source": [
        "---\n",
        "title: Vastus Lateralis (VL)\n",
        "---\n",
        "\n",
        "\n",
        "![Hip and Thigh Muscles @OpenStaxAnatomyPhysiology2022](/The Archive/Images/OpenStax Anatomy and Physiology 2e/fig11.29 Hip and Thigh Muscles.jpeg){#fig-openstax-fig11.29}\n",
        "\n",
        "![Muscles of the Iliac and Anterior femoral regions @grayAnatomyHumanBody1918](/The Archive/Images/Gray anatomy 1918 images/Myology/image430 Muscles of the iliac and anterior femoral regions.gif)\n",
        "\n",
        "![Cross-section of middle thigh @grayAnatomyHumanBody1918](/The Archive/Images/Gray anatomy 1918 images/Myology/image432 Cross-section through the middle of the thigh.gif)\n",
        "\n",
        "![Muscles of the gluteal and posterior femoral region @grayAnatomyHumanBody1918](/The Archive/Images/Gray anatomy 1918 images/Myology/image434 Muscles of the gluteal and posterior femoral regions.gif){#fig-gray1918-image434}\n",
        "\n",
        "::: {.callout title=\"Reading list\"}\n",
        "\n",
        "- MMT @weinstockNeuroKineticTherapyInnovative2010\n",
        "\n",
        ":::\n"
      ],
      "id": "6b4b9bc2"
    },
    {
      "cell_type": "code",
      "metadata": {
        "message": false
      },
      "source": [
        "#| label: tbl-oian\n",
        "#| warning: false\n",
        "#| echo: false\n",
        "\n",
        "from pathlib import Path\n",
        "import pandas as pd\n",
        "from pyprojroot import here\n",
        "from IPython.core.display import display, HTML\n",
        "\n",
        "# Set the path for the script file\n",
        "script_file_path = here(\"scripts/process_oian_table.py\")\n",
        "\n",
        "# Check if the script file exists\n",
        "if script_file_path.exists():\n",
        "    import sys\n",
        "    sys.path.append(str(script_file_path.parent))  # Add the directory of the script to the system path\n",
        "\n",
        "    from process_oian_table import process_oian_table  # Import the specific function\n",
        "\n",
        "    # Define the column to filter by and the identifiers to include\n",
        "    filter_column = 'muscle_identifier'  # Choose the column you want to filter by\n",
        "    filter_identifiers = ['vastus_lateralis']  # Replace with actual identifiers you want to include\n",
        "\n",
        "    # Call the function to get the HTML table with filtering\n",
        "    html_table = process_oian_table(filter_column=filter_column, filter_identifiers=filter_identifiers)\n",
        "\n",
        "    if html_table:\n",
        "        # Render the HTML table for display\n",
        "        display(HTML(html_table))  # Use display to render the HTML properly\n",
        "else:\n",
        "    print(\"Script file does not exist. Please check the path.\")"
      ],
      "id": "tbl-oian",
      "execution_count": null,
      "outputs": []
    },
    {
      "cell_type": "markdown",
      "metadata": {},
      "source": [
        "# Origin {#origin}\n",
        "\n",
        "- Linea aspera (lateral lip) @gilroyAtlasAnatomy2020\n",
        "- Greater trochanter (lateral surface) @gilroyAtlasAnatomy2020\n",
        "\n",
        "Some sources suggest that the vastus lateralis originates from the lateral lip of the gluteal tuberosity as well @jonesProjectFoundations2025.\n",
        "\n",
        "# Insertion {#insertion}\n",
        "\n",
        "- Tibial tuberosity via patellar lig. @gilroyAtlasAnatomy2020 \n",
        "- Patella and tibial tuberosity via Lateral patellar retinacula @gilroyAtlasAnatomy2020 \n",
        "\n",
        "\n",
        "\n",
        "# Nerve\n",
        "\n",
        "[Femoral N.]({{< var ref-femoral-nerve.path >}}) ([L2]({{< var ref-nerve-root.l2 >}}), [L3]({{< var ref-nerve-root.l3 >}}), [L4]({{< var ref-nerve-root.l4 >}})) @gilroyAtlasAnatomy2020\n",
        "\n",
        "# Action {#action}\n",
        "\n",
        "**Knee**: extension @gilroyAtlasAnatomy2020 \n",
        "\n",
        "It should be noted that the [vastus medialis]({{< var ref-vastus-medialis.path >}}) is stronger and descends further than the vastus lateralis @jonesProjectFoundations2025.\n",
        "    \n",
        "\"The VL (Fig. 19-7) is composed of two functional parts: the VL and the vastus lateralis oblique (VLO). The VL has a line of pull of about 12–15&deg; to the long axis of the femur in the frontal plane, whereas the VLO has a pull of 38–48&deg;.\" @duttonDuttonOrthopaedicExamination2020 "
      ],
      "id": "2580bcdf"
    }
  ],
  "metadata": {
    "kernelspec": {
      "name": "python3",
      "language": "python",
      "display_name": "Python 3 (ipykernel)",
      "path": "/Users/nathanielyomogida/miniconda3/share/jupyter/kernels/python3"
    }
  },
  "nbformat": 4,
  "nbformat_minor": 5
}