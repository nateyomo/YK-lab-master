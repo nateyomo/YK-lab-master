{
  "cells": [
    {
      "cell_type": "markdown",
      "metadata": {},
      "source": [
        "---\n",
        "title: Gracilis Muscle\n",
        "---\n",
        "\n",
        "\n",
        "![Hip and Thigh Muscles @OpenStaxAnatomyPhysiology2022](/The Archive/Images/OpenStax Anatomy and Physiology 2e/fig11.29 Hip and Thigh Muscles.jpeg){#fig-openstax-fig11.29}\n",
        "\n",
        "![Muscles of the Iliac and Anterior femoral regions @grayAnatomyHumanBody1918](/The Archive/Images/Gray anatomy 1918 images/Myology/image430 Muscles of the iliac and anterior femoral regions.gif)\n",
        "\n",
        "![Cross-section of middle thigh @grayAnatomyHumanBody1918](/The Archive/Images/Gray anatomy 1918 images/Myology/image432 Cross-section through the middle of the thigh.gif)\n",
        "\n",
        "![Muscles of the gluteal and posterior femoral region @grayAnatomyHumanBody1918](/The Archive/Images/Gray anatomy 1918 images/Myology/image434 Muscles of the gluteal and posterior femoral regions.gif){#fig-gray1918-image434}\n",
        "\n",
        "::: {.callout title=\"Reading list\"}\n",
        "\n",
        "- Ch59 Adductor Longus, Adductor Brevis, Adductor Magnus, Pectineus, and Gracilis Muscles @donnellyTravellSimonsSimons2019\n",
        "- Neuman @neumannKinesiologyMusculoskeletalSystem2017\n",
        "- MMT @weinstockNeuroKineticTherapyInnovative2010\n",
        "\n",
        ":::\n"
      ],
      "id": "9c6d54fd"
    },
    {
      "cell_type": "code",
      "metadata": {
        "message": false
      },
      "source": [
        "#| label: tbl-oian\n",
        "#| warning: false\n",
        "#| echo: false\n",
        "\n",
        "from pathlib import Path\n",
        "import pandas as pd\n",
        "from pyprojroot import here\n",
        "from IPython.display import display, HTML\n",
        "\n",
        "# Set the path for the script file\n",
        "script_file_path = here(\"scripts/process_oian_table.py\")\n",
        "\n",
        "# Check if the script file exists\n",
        "if script_file_path.exists():\n",
        "    import sys\n",
        "    sys.path.append(str(script_file_path.parent))  # Add the directory of the script to the system path\n",
        "\n",
        "    from process_oian_table import process_oian_table  # Import the specific function\n",
        "\n",
        "    # Define the column to filter by and the identifiers to include\n",
        "    filter_column = 'muscle_identifier'  # Choose the column you want to filter by\n",
        "    filter_identifiers = ['gracilis']  # Replace with actual identifiers you want to include\n",
        "\n",
        "    # Call the function to get the HTML table with filtering\n",
        "    html_table = process_oian_table(filter_column=filter_column, filter_identifiers=filter_identifiers)\n",
        "\n",
        "    if html_table:\n",
        "        # Render the HTML table for display\n",
        "        display(HTML(html_table))  # Use display to render the HTML properly\n",
        "else:\n",
        "    print(\"Script file does not exist. Please check the path.\")"
      ],
      "id": "tbl-oian",
      "execution_count": null,
      "outputs": []
    },
    {
      "cell_type": "markdown",
      "metadata": {},
      "source": [
        "# Overview\n",
        "\n",
        "The gracilis is the only [primary adductor]({{< var ref-hip-adductor-muscle-group.path >}}) that crosses the knee.\n",
        "\n",
        "# Origin {#origin}\n",
        "\n",
        "- Inferior pubic ramus @gilroyAtlasAnatomy2020\n",
        "- Possibly the inferior side of the pubic symphysis -Dr.K\n",
        "\n",
        "# Insertion {#insertion}\n",
        "\n",
        "- Pes Anserine of the Tibia (medial border of the tuberosity, along with the tendons of sartorius and semitendinosus) @gilroyAtlasAnatomy2020 \n",
        "\n",
        "# Innervation {#innervation}\n",
        "\n",
        "[Obturator N.]({{< var ref-obturator-nerve.path >}}) ([L2]({{< var ref-nerve-root.l2 >}}), [L3]({{< var ref-nerve-root.l3 >}})) @gilroyAtlasAnatomy2020\n",
        "\n",
        "# Action {#action}\n",
        "\n",
        "**Hip**: Adduction and Flexion @gilroyAtlasAnatomy2020\n",
        "**Knee**: Flexion and Internal rotation @gilroyAtlasAnatomy2020\n",
        "\n",
        "::: {.callout-note}\n",
        "According to Brad Jones, the gracilis is a hip flexor until 40&deg; Hip flexion @jonesProjectFoundations2025.\n",
        ":::\n",
        "\n",
        "\n",
        "# Overview"
      ],
      "id": "35c9e1ba"
    }
  ],
  "metadata": {
    "kernelspec": {
      "display_name": "Python 3",
      "language": "python",
      "name": "python3"
    }
  },
  "nbformat": 4,
  "nbformat_minor": 5
}