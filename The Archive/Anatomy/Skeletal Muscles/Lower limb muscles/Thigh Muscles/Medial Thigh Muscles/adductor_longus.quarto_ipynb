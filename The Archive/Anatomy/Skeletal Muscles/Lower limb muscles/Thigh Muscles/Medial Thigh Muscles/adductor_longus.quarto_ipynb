{
  "cells": [
    {
      "cell_type": "markdown",
      "metadata": {},
      "source": [
        "---\n",
        "title: Adductor Longus\n",
        "---\n",
        "\n",
        "\n",
        "![Hip and Thigh Muscles @OpenStaxAnatomyPhysiology2022](/The Archive/Images/OpenStax Anatomy and Physiology 2e/fig11.29 Hip and Thigh Muscles.jpeg){#fig-openstax-fig11.29}\n",
        "\n",
        "![Muscles of the Iliac and Anterior femoral regions @grayAnatomyHumanBody1918](/The Archive/Images/Gray anatomy 1918 images/Myology/image430 Muscles of the iliac and anterior femoral regions.gif)\n",
        "\n",
        "![Cross-section of middle thigh @grayAnatomyHumanBody1918](/The Archive/Images/Gray anatomy 1918 images/Myology/image432 Cross-section through the middle of the thigh.gif)\n",
        "\n",
        "![Deep muscles of the medial thigh @grayAnatomyHumanBody1918](/The Archive/Images/Gray anatomy 1918 images/Myology/image433 Deep muscles of the medial femoral region.gif)\n",
        "\n",
        "::: {.callout title=\"Reading list\"}\n",
        "\n",
        "- Ch59 Adductor Longus, Adductor Brevis, Adductor Magnus, Pectineus, and Gracilis Muscles @donnellyTravellSimonsSimons2019\n",
        "- Neuman @neumannKinesiologyMusculoskeletalSystem2017\n",
        "- MMT @weinstockNeuroKineticTherapyInnovative2010\n",
        "\n",
        "\n",
        ":::\n"
      ],
      "id": "ab983405"
    },
    {
      "cell_type": "code",
      "metadata": {
        "message": false
      },
      "source": [
        "#| label: tbl-oian\n",
        "#| warning: false\n",
        "#| echo: false\n",
        "\n",
        "from pathlib import Path\n",
        "import pandas as pd\n",
        "from pyprojroot import here\n",
        "from IPython.display import display, HTML\n",
        "\n",
        "# Set the path for the script file\n",
        "script_file_path = here(\"scripts/process_oian_table.py\")\n",
        "\n",
        "# Check if the script file exists\n",
        "if script_file_path.exists():\n",
        "    import sys\n",
        "    sys.path.append(str(script_file_path.parent))  # Add the directory of the script to the system path\n",
        "\n",
        "    from process_oian_table import process_oian_table  # Import the specific function\n",
        "\n",
        "    # Define the column to filter by and the identifiers to include\n",
        "    filter_column = 'muscle_identifier'  # Choose the column you want to filter by\n",
        "    filter_identifiers = ['adductor_longus']  # Replace with actual identifiers you want to include\n",
        "\n",
        "    # Call the function to get the HTML table with filtering\n",
        "    html_table = process_oian_table(filter_column=filter_column, filter_identifiers=filter_identifiers)\n",
        "\n",
        "    if html_table:\n",
        "        # Render the HTML table for display\n",
        "        display(HTML(html_table))  # Use display to render the HTML properly\n",
        "else:\n",
        "    print(\"Script file does not exist. Please check the path.\")"
      ],
      "id": "tbl-oian",
      "execution_count": null,
      "outputs": []
    },
    {
      "cell_type": "markdown",
      "metadata": {},
      "source": [
        "# Origin {#origin}\n",
        "\n",
        "- Superior pubic ramus @gilroyAtlasAnatomy2020\n",
        "- Anterior side of the pubic symphysis @gilroyAtlasAnatomy2020 \n",
        "\n",
        "\n",
        "\n",
        "# Insertion {#insertion}\n",
        "\n",
        "Femur (linea aspera, medial lip in the middle third of the femur) @gilroyAtlasAnatomy2020\n",
        "\n",
        "# Innervation {#innervation}\n",
        "\n",
        "[Obturator N.]({{< var ref-obturator-nerve.path >}}) ([L2]({{< var ref-nerve-root.l2 >}}), [L3]({{< var ref-nerve-root.l3 >}}), [L4]({{< var ref-nerve-root.l4 >}})) @gilroyAtlasAnatomy2020\n",
        "\n",
        "# Action {#action}\n",
        "\n",
        "- **Hip joint**: adduction and flexion (up to 70&deg;); extension (past 80&deg; of flexion)\n",
        "- **Pelvic Stabilization**: Coronal and Sagittal planes\n",
        "\n",
        "\n",
        "::: {.callout-note}\n",
        "According to Brad Jones, the adductor longus flexes up to 50&deg;, but then generates a hip extension force past 70&deg; @jonesProjectFoundations2025.\n",
        ":::\n",
        "\n",
        "# Myofascial Unit\n",
        "\n",
        "Although the *adductor longus* and [biceps femoris short head]({{< var ref-biceps-femoris-short-head.origin >}}) both attach at the *linea aspera* and fascially run in the same direction, these do *not* form a line since the [adductor magnus]({{< var ref-adductor-magnus.path >}}) acts as an *intervening plane* @myersAnatomyTrains2021.\n",
        "There may be a functional connection through the bone, but there is no connection via the fascia @myersAnatomyTrains2021."
      ],
      "id": "18013b51"
    }
  ],
  "metadata": {
    "kernelspec": {
      "display_name": "Python 3",
      "language": "python",
      "name": "python3"
    }
  },
  "nbformat": 4,
  "nbformat_minor": 5
}