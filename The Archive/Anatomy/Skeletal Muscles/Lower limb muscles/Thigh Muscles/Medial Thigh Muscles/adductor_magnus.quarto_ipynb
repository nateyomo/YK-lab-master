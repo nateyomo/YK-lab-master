{
  "cells": [
    {
      "cell_type": "markdown",
      "metadata": {},
      "source": [
        "---\n",
        "title: Adductor Magnus\n",
        "---\n",
        "\n",
        "\n",
        ":::{layout-ncol=\"3\"}\n",
        "\n",
        "![Medial Thigh muscle deep layer schematic </br> 1: Obturator Externus </br> 2: Adductor Magnus](/The Archive/Anatomy/Skeletal Muscles/Lower limb muscles/Thigh Muscles/Medial Thigh Muscles/images/gilroyatlas fig31.23 medial thigh deep layer schematic.png)\n",
        "\n",
        "![Medial Thigh muscle deep layer @gilroyAtlasAnatomy2020](/The Archive/Anatomy/Skeletal Muscles/Lower limb muscles/Thigh Muscles/Medial Thigh Muscles/images/gilroyatlas fig31.23b medial thigh deep layer.png)\n",
        "\n",
        ":::\n"
      ],
      "id": "7fb73a44"
    },
    {
      "cell_type": "code",
      "metadata": {
        "message": false
      },
      "source": [
        "#| label: tbl-oian\n",
        "#| warning: false\n",
        "#| echo: false\n",
        "\n",
        "from pathlib import Path\n",
        "import pandas as pd\n",
        "from pyprojroot import here\n",
        "from IPython.core.display import display, HTML\n",
        "\n",
        "# Set the path for the script file\n",
        "script_file_path = here(\"scripts/process_oian_table.py\")\n",
        "\n",
        "# Check if the script file exists\n",
        "if script_file_path.exists():\n",
        "    import sys\n",
        "    sys.path.append(str(script_file_path.parent))  # Add the directory of the script to the system path\n",
        "\n",
        "    from process_oian_table import process_oian_table  # Import the specific function\n",
        "\n",
        "    # Define the column to filter by and the identifiers to include\n",
        "    filter_column = 'muscle_identifier'  # Choose the column you want to filter by\n",
        "    filter_identifiers = ['adductor_magnus']  # Replace with actual identifiers you want to include\n",
        "\n",
        "    # Call the function to get the HTML table with filtering\n",
        "    html_table = process_oian_table(filter_column=filter_column, filter_identifiers=filter_identifiers)\n",
        "\n",
        "    if html_table:\n",
        "        # Render the HTML table for display\n",
        "        display(HTML(html_table))  # Use display to render the HTML properly\n",
        "else:\n",
        "    print(\"Script file does not exist. Please check the path.\")"
      ],
      "id": "tbl-oian",
      "execution_count": null,
      "outputs": []
    },
    {
      "cell_type": "markdown",
      "metadata": {},
      "source": [
        "# Origin {#origin}\n",
        "\n",
        "- Inferior pubic ramus and Ischial ramus @gilroyAtlasAnatomy2020\n",
        "    - My professor referred to the inferior pubic ramus and ischial ramus as the origin for the adductor aspect of the adductor magnus\n",
        "- Ischial tuberosity @gilroyAtlasAnatomy2020\n",
        "    - My professors referred to the ischial tuberosity as the hamstring portion\n",
        "\n",
        "# Insertion {#insertion}\n",
        "\n",
        "- **Deep part (“fleshy insertion”)**: medial lip of the linea aspera @gilroyAtlasAnatomy2020\n",
        "- **Superficial part (“tendinous insertion”)**: Adductor tubercle of the femur @gilroyAtlasAnatomy2020\n",
        "\n",
        "# Innervation {#innervation}\n",
        "\n",
        "- **Deep (Adductor) Part**: [Obturator N.]({{< var ref-obturator-nerve.path >}}) ([L2]({{< var ref-nerve-root.l2 >}}), [L3]({{< var ref-nerve-root.l3 >}}), [L4]({{< var ref-nerve-root.l4 >}})) @gilroyAtlasAnatomy2020\n",
        "- **Superficial (Hamstring) Part**: [Tibial N.]({{< var ref-tibial-nerve.path >}}) ([L4]({{< var ref-nerve-root.l4 >}})) @gilroyAtlasAnatomy2020\n",
        "\n",
        "# Action {#action}\n",
        "\n",
        "- **Hip**: Adduction, Extension, and slight flexion (the tendinous insertion is also active in internal rotation) @gilroyAtlasAnatomy2020\n",
        "- **Pelvic Stabilization**: Coronal and Sagittal planes @gilroyAtlasAnatomy2020\n",
        "\n",
        "\n",
        "::: {.callout-note}\n",
        "According to Brad Jones, the adductor magnus is a hip extensor until -20&deg; Hip extension @jonesProjectFoundations2025.\n",
        ":::\n",
        "\n",
        "\n",
        "# Anatomy\n",
        "\n",
        "“The anterior\t head\tof\tthe\tadductor\tmagnus has two sets of fibers: horizontal and oblique. The relatively small (and often poorly defined) set of horizontally directed fibers crosses from the inferior pubic ramus to the extreme proximal end of the linea aspera, often called the adductor minimus. The larger obliquely directed fibers run from the ischial ramus to nearly the entire length of the linea aspera, as far distally as the medial supracondylar line. ” @neumannKinesiologyMusculoskeletalSystem2017\n",
        "\n",
        "“The posterior\t head\t of\t the\t adductor\t magnus consists of a thick mass of the fibers arising from the region of the pelvis adjacent to the ischial tuberosity. From this posterior attachment, the fibers run vertically and attach as a tendon on the adductor tubercle on the medial side of the distal femur. The posterior head of the adductor magnus is innervated by the tibial branch of the sciatic nerve, as are most of the hamstring muscles. Because location, innervation, and action are similar to those of the hamstring muscles, the posterior head may also be referred to as the extensor\t head of the adductor magnus” @neumannKinesiologyMusculoskeletalSystem2017\n",
        "\n",
        "# Overview\n",
        "“the adductor magnus is the largest of the adductor muscles, accounting for 60% of the total cross ­sectional area of the entire adductor muscle group.222 As a whole, the adductor magnus attaches proximally to the pelvis from two heads: an anterior head from the ischial ramus and a posterior head from the ischial tuberosity. Realize, however, that other anatomic classifications have been suggested” @neumannKinesiologyMusculoskeletalSystem2017 "
      ],
      "id": "4f1aafee"
    }
  ],
  "metadata": {
    "kernelspec": {
      "name": "python3",
      "language": "python",
      "display_name": "Python 3 (ipykernel)",
      "path": "/Users/nathanielyomogida/miniconda3/share/jupyter/kernels/python3"
    }
  },
  "nbformat": 4,
  "nbformat_minor": 5
}