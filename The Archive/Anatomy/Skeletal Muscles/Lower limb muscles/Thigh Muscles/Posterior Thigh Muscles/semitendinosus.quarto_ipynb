{
  "cells": [
    {
      "cell_type": "markdown",
      "metadata": {},
      "source": [
        "---\n",
        "title: Semitendinosus\n",
        "---\n",
        "\n",
        "\n",
        "# Overview\n"
      ],
      "id": "8091ee7c"
    },
    {
      "cell_type": "code",
      "metadata": {
        "message": false
      },
      "source": [
        "#| label: tbl-oian\n",
        "#| warning: false\n",
        "#| echo: false\n",
        "\n",
        "from pathlib import Path\n",
        "import pandas as pd\n",
        "from pyprojroot import here\n",
        "from IPython.core.display import display, HTML\n",
        "\n",
        "# Set the path for the script file\n",
        "script_file_path = here(\"scripts/process_oian_table.py\")\n",
        "\n",
        "# Check if the script file exists\n",
        "if script_file_path.exists():\n",
        "    import sys\n",
        "    sys.path.append(str(script_file_path.parent))  # Add the directory of the script to the system path\n",
        "\n",
        "    from process_oian_table import process_oian_table  # Import the specific function\n",
        "\n",
        "    # Define the column to filter by and the identifiers to include\n",
        "    filter_column = 'muscle_identifier'  # Choose the column you want to filter by\n",
        "    filter_identifiers = ['semitendinosus']  # Replace with actual identifiers you want to include\n",
        "\n",
        "    # Call the function to get the HTML table with filtering\n",
        "    html_table = process_oian_table(filter_column=filter_column, filter_identifiers=filter_identifiers)\n",
        "\n",
        "    if html_table:\n",
        "        # Render the HTML table for display\n",
        "        display(HTML(html_table))  # Use display to render the HTML properly\n",
        "else:\n",
        "    print(\"Script file does not exist. Please check the path.\")"
      ],
      "id": "tbl-oian",
      "execution_count": null,
      "outputs": []
    },
    {
      "cell_type": "markdown",
      "metadata": {},
      "source": [
        "# Origin {#origin}\n",
        "- Ischial tuberosity @gilroyAtlasAnatomy2020\n",
        "- Sacrotuberous lig. @gilroyAtlasAnatomy2020\n",
        "- (*common head with long head of biceps femoris*) @gilroyAtlasAnatomy2020\n",
        "\n",
        "# Insertion {#insertion}\n",
        "\n",
        "- Medial to the tibial tuberosity in the [Pes Anserine]({{< var ref-pes-anserine.path >}}) @gilroyAtlasAnatomy2020\n",
        "    - (*along with the tendons of gracilis and sartorius*) @gilroyAtlasAnatomy2020\n",
        "\n",
        "# Nerve\n",
        "\n",
        "[Tibial N. (*division of Sciatic N.*)]({{< var ref-tibial-nerve.path >}}) ([L5]({{< var ref-nerve-root.l5 >}}), [S1]({{< var ref-nerve-root.s1 >}}), [S2]({{< var ref-nerve-root.s2 >}})) @gilroyAtlasAnatomy2020\n",
        "\n",
        "# Action {#action}\n",
        "\n",
        "- **Hip**: Extension @gilroyAtlasAnatomy2020\n",
        "- **Pelvic Stabilization**: Sagittal plane @gilroyAtlasAnatomy2020\n",
        "- **Knee**: Flexion and Internal rotation @gilroyAtlasAnatomy2020\n",
        "\n",
        "\n",
        "# Overview\n",
        "\n",
        "\"The semitendinosus muscle (see Fig. 19-8) arises from the upper portion of the ischial tuberosity via a shared tendon with the long head of the biceps femoris. From there, it travels distally, becoming cord-like about two-thirds of the way down the posteromedial thigh. Passing over the MCL, it inserts into the medial surface of the tibia and deep fascia of the lower leg, distal to the gracilis attachment, and posterior to the sartorius attachment. These three structures are collectively called the pes anserinus (“goose foot”) at this point. Like the semimembranosus, the semitendinosus functions to extend the hip, flex the knee, and internally rotate the tibia.\" @duttonDuttonOrthopaedicExamination2020 "
      ],
      "id": "40a7d6b5"
    }
  ],
  "metadata": {
    "kernelspec": {
      "name": "python3",
      "language": "python",
      "display_name": "Python 3 (ipykernel)",
      "path": "/Users/nathanielyomogida/miniconda3/share/jupyter/kernels/python3"
    }
  },
  "nbformat": 4,
  "nbformat_minor": 5
}