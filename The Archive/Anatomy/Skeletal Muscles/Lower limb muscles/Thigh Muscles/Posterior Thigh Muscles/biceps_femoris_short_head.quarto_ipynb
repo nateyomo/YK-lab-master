{
  "cells": [
    {
      "cell_type": "markdown",
      "metadata": {},
      "source": [
        "---\n",
        "title: Biceps Femoris Short Head\n",
        "---\n",
        "\n",
        "\n",
        "\n",
        "![Hip and Thigh Muscles @OpenStaxAnatomyPhysiology2022](/The Archive/Images/OpenStax Anatomy and Physiology 2e/fig11.29 Hip and Thigh Muscles.jpeg){#fig-openstax-fig11.29}\n",
        "\n",
        "![Muscles of the gluteal and posterior femoral region @grayAnatomyHumanBody1918](/The Archive/Images/Gray anatomy 1918 images/Myology/image434 Muscles of the gluteal and posterior femoral regions.gif){#fig-gray1918-image434}\n",
        "\n",
        "![Superficial posterior leg muscles @grayAnatomyHumanBody1918](/The Archive/Images/Gray anatomy 1918 images/Myology/image438 Muscles of the back of the leg. Superficial layer.gif){#fig-gray1918-image438}\n"
      ],
      "id": "26a2385d"
    },
    {
      "cell_type": "code",
      "metadata": {
        "message": false
      },
      "source": [
        "#| label: tbl-oian\n",
        "#| warning: false\n",
        "#| echo: false\n",
        "\n",
        "from pathlib import Path\n",
        "import pandas as pd\n",
        "from pyprojroot import here\n",
        "from IPython.core.display import display, HTML\n",
        "\n",
        "# Set the path for the script file\n",
        "script_file_path = here(\"scripts/process_oian_table.py\")\n",
        "\n",
        "# Check if the script file exists\n",
        "if script_file_path.exists():\n",
        "    import sys\n",
        "    sys.path.append(str(script_file_path.parent))  # Add the directory of the script to the system path\n",
        "\n",
        "    from process_oian_table import process_oian_table  # Import the specific function\n",
        "\n",
        "    # Define the column to filter by and the identifiers to include\n",
        "    filter_column = 'muscle_identifier'  # Choose the column you want to filter by\n",
        "    filter_identifiers = ['biceps_femoris_short_head']  # Replace with actual identifiers you want to include\n",
        "\n",
        "    # Call the function to get the HTML table with filtering\n",
        "    html_table = process_oian_table(filter_column=filter_column, filter_identifiers=filter_identifiers)\n",
        "\n",
        "    if html_table:\n",
        "        # Render the HTML table for display\n",
        "        display(HTML(html_table))  # Use display to render the HTML properly\n",
        "else:\n",
        "    print(\"Script file does not exist. Please check the path.\")"
      ],
      "id": "tbl-oian",
      "execution_count": null,
      "outputs": []
    },
    {
      "cell_type": "markdown",
      "metadata": {},
      "source": [
        "# Origin {#origin}\n",
        "\n",
        "- Lateral lip of the linea aspera in the middle third of the femur [@gilroyAtlasAnatomy2020; @jonesProjectFoundations2025]\n",
        "- Lateral supracondylar line of the femur @jonesProjectFoundations2025\n",
        "\n",
        "\n",
        "# Insertion {#insertion}\n",
        "Head of Fibula @gilroyAtlasAnatomy2020\n",
        "\n",
        "# Innervation {#innervation}\n",
        "\n",
        "[Common Fibular N.]({{< var ref-common-fibular-nerve.path >}}) ([L5]({{< var ref-nerve-root.l5 >}}), [S1]({{< var ref-nerve-root.s1 >}}), [S2]({{< var ref-nerve-root.s2 >}})) @gilroyAtlasAnatomy2020\n",
        "\n",
        "# Action {#action}\n",
        "\n",
        "**Knee**: Flexion and External rotation @gilroyAtlasAnatomy2020\n",
        "\n",
        "\n",
        "Biceps femoris short head is the only *monoarticular* external rotator of the knee @jonesProjectFoundations2025.\n",
        "Therefore, hip position does not change its ability to externally rotate the knee."
      ],
      "id": "763e6c47"
    }
  ],
  "metadata": {
    "kernelspec": {
      "name": "python3",
      "language": "python",
      "display_name": "Python 3 (ipykernel)",
      "path": "/Users/nathanielyomogida/miniconda3/share/jupyter/kernels/python3"
    }
  },
  "nbformat": 4,
  "nbformat_minor": 5
}