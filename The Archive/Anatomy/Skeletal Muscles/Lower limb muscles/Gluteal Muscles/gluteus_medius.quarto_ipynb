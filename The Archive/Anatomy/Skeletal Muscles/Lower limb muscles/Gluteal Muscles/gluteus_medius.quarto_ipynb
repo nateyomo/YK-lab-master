{
  "cells": [
    {
      "cell_type": "markdown",
      "metadata": {},
      "source": [
        "---\n",
        "title: Gluteus Medius\n",
        "---"
      ],
      "id": "6ab25f16"
    },
    {
      "cell_type": "code",
      "metadata": {
        "message": false
      },
      "source": [
        "#| label: tbl-glute-ed-oian\n",
        "#| warning: false\n",
        "#| echo: false\n",
        "\n",
        "from pathlib import Path\n",
        "import pandas as pd\n",
        "from pyprojroot import here\n",
        "from IPython.core.display import display, HTML\n",
        "\n",
        "# Set the path for the script file\n",
        "script_file_path = here(\"scripts/process_oian_table.py\")\n",
        "\n",
        "# Check if the script file exists\n",
        "if script_file_path.exists():\n",
        "    import sys\n",
        "    sys.path.append(str(script_file_path.parent))  # Add the directory of the script to the system path\n",
        "\n",
        "    from process_oian_table import process_oian_table  # Import the specific function\n",
        "\n",
        "    # Define the column to filter by and the identifiers to include\n",
        "    filter_column = 'muscle_identifier'  # Choose the column you want to filter by\n",
        "    filter_identifiers = ['gluteus_medius']  # Replace with actual identifiers you want to include\n",
        "\n",
        "    # Call the function to get the HTML table with filtering\n",
        "    html_table = process_oian_table(filter_column=filter_column, filter_identifiers=filter_identifiers)\n",
        "\n",
        "    if html_table:\n",
        "        # Render the HTML table for display\n",
        "        display(HTML(html_table))  # Use display to render the HTML properly\n",
        "else:\n",
        "    print(\"Script file does not exist. Please check the path.\")"
      ],
      "id": "tbl-glute-ed-oian",
      "execution_count": null,
      "outputs": []
    },
    {
      "cell_type": "markdown",
      "metadata": {},
      "source": [
        "# Origin {#origin}\n",
        "\n",
        "Ilium (gluteal surface below the iliac crest between the anterior and posterior gluteal line) @gilroyAtlasAnatomy2020\n",
        "\n",
        "# Insertion {#insertion}\n",
        "\n",
        "Greater trochanter of the femur (lateral surface) @gilroyAtlasAnatomy2020\n",
        "\n",
        "# Innervation {#innervation}\n",
        "\n",
        "The gluteus maximus muscle is innervated by nerve roots [L4]({{< var ref-nerve-root.l4 >}}), [L5]({{< var ref-nerve-root.l5 >}}), and [S1]({{< var ref-nerve-root.s1 >}}), via the [Superior gluteal nerve]({{< var ref-superior-gluteal-nerve.path >}})  @gilroyAtlasAnatomy2020\n",
        "\n",
        "\n",
        "\n",
        "# Action {#action}\n",
        "\n",
        "- Entire muscle: abducts the hip, stabilizes the pelvis in the coronal plane @gilroyAtlasAnatomy2020\n",
        "- Anterior fibers: flexion and internal rotation @gilroyAtlasAnatomy2020 \n",
        "- Posterior fibers: extension and external rotation @gilroyAtlasAnatomy2020\n",
        "    - At &ge;60&deg; hip flexion, the *posterior fibers* of the gluteus minimus switch and produce an *internal rotation* torque @neumannKinesiologyMusculoskeletalSystem2017.\n",
        "\n",
        "\n",
        "\n",
        "# Overview\n",
        "\n",
        "\n",
        "# Tests & Measures\n",
        "\n",
        "- External Derotation Test (gluteus medius tendinopathy)"
      ],
      "id": "a0d5a6a2"
    }
  ],
  "metadata": {
    "kernelspec": {
      "name": "python3",
      "language": "python",
      "display_name": "Python 3 (ipykernel)",
      "path": "/Users/nathanielyomogida/miniconda3/share/jupyter/kernels/python3"
    }
  },
  "nbformat": 4,
  "nbformat_minor": 5
}