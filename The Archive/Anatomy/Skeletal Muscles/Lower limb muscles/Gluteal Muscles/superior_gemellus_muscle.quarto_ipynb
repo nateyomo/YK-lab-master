{
  "cells": [
    {
      "cell_type": "markdown",
      "metadata": {},
      "source": [
        "---\n",
        "title: Superior Gemellus Muscle\n",
        "---\n",
        "\n",
        "\n",
        "# OIAN\n"
      ],
      "id": "f93756dc"
    },
    {
      "cell_type": "code",
      "metadata": {
        "message": false
      },
      "source": [
        "#| label: tbl-oian-superior-gemellus\n",
        "#| warning: false\n",
        "#| echo: false\n",
        "\n",
        "from pathlib import Path\n",
        "import pandas as pd\n",
        "from pyprojroot import here\n",
        "from IPython.core.display import display, HTML\n",
        "\n",
        "# Set the path for the script file\n",
        "script_file_path = here(\"scripts/process_oian_table.py\")\n",
        "\n",
        "# Check if the script file exists\n",
        "if script_file_path.exists():\n",
        "    import sys\n",
        "    sys.path.append(str(script_file_path.parent))  # Add the directory of the script to the system path\n",
        "\n",
        "    from process_oian_table import process_oian_table  # Import the specific function\n",
        "\n",
        "    # Define the column to filter by and the identifiers to include\n",
        "    filter_column = 'muscle_identifier'  # Choose the column you want to filter by\n",
        "    filter_identifiers = ['superior_gemellus']  # Replace with actual identifiers you want to include\n",
        "\n",
        "    # Call the function to get the HTML table with filtering\n",
        "    html_table = process_oian_table(filter_column=filter_column, filter_identifiers=filter_identifiers)\n",
        "\n",
        "    if html_table:\n",
        "        # Render the HTML table for display\n",
        "        display(HTML(html_table))  # Use display to render the HTML properly\n",
        "else:\n",
        "    print(\"Script file does not exist. Please check the path.\")"
      ],
      "id": "tbl-oian-superior-gemellus",
      "execution_count": null,
      "outputs": []
    },
    {
      "cell_type": "markdown",
      "metadata": {},
      "source": [
        "# Origin {#origin}\n",
        "Ischial spine @gilroyAtlasAnatomy2020\n",
        "\n",
        "# Insertion {#insertion}\n",
        "Jointly with obturator internus tendon (medial surface, greater trochanter) @gilroyAtlasAnatomy2020\n",
        "\n",
        "# Innervation {#innervation}\n",
        "Nerve to obturator internus ([L5]({{< var ref-nerve-root.l5 >}}), [S1]({{< var ref-nerve-root.s1 >}})) @aungAnatomicalStudyObturator2001 \n",
        "\n",
        "# Action {#action}\n",
        "**Hip** External rotation and extension of the hip joint (also active in abduction, depending on the joint’s position) @gilroyAtlasAnatomy2020\n",
        "\n",
        "\n",
        "\n",
        "# Overview\n",
        "\n",
        "“The gemellus\tsuperior and inferior (from the Latin root geminus, meaning twins) are two, small, nearly identically sized muscles with proximal attachments on either side of the lesser sciatic notch (see Fig. 12.43). Each muscle blends in with the central tendon of the obturator internus for a common attachment to the femur. Immediately below the gemellus inferior is the quadratus\t femoris muscle. This flat muscle arises from the external side of the ischial tuberosity and inserts on the posterior side of the proximal femur. In cases of abnormal bony morphology, this muscle may become impinged between the lesser trochanter and ischium, typically during motions that involve the extremes of external rotation.212 If chronic and repetitive, this clinically termed “ischiofemoral impingement” may cause groin and buttock pain along with abnormal MR signaling from the qua­ dratus femoris muscle” @neumannKinesiologyMusculoskeletalSystem2017 "
      ],
      "id": "452c0555"
    }
  ],
  "metadata": {
    "kernelspec": {
      "name": "python3",
      "language": "python",
      "display_name": "Python 3 (ipykernel)",
      "path": "/Users/nathanielyomogida/miniconda3/share/jupyter/kernels/python3"
    }
  },
  "nbformat": 4,
  "nbformat_minor": 5
}