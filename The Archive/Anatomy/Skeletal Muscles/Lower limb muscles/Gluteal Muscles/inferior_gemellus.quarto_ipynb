{
  "cells": [
    {
      "cell_type": "markdown",
      "metadata": {},
      "source": [
        "---\n",
        "title: Inferior Gemellus Muscle\n",
        "---\n",
        "\n",
        "\n",
        "\n",
        "![Hip and Thigh Muscles @OpenStaxAnatomyPhysiology2022](/The Archive/Images/OpenStax Anatomy and Physiology 2e/fig11.29 Hip and Thigh Muscles.jpeg){#fig-openstax-fig11.29}\n",
        "\n",
        "![Muscles of the gluteal and posterior femoral region @grayAnatomyHumanBody1918](/The Archive/Images/Gray anatomy 1918 images/Myology/image434 Muscles of the gluteal and posterior femoral regions.gif){#fig-gray1918-image434}\n",
        "\n",
        "::: {.callout title=\"Reading list\"}\n",
        "\n",
        "- Ch57 piriformis, obturator internus, gemellus, obturator externus, quadratus femoris muscles @donnellyTravellSimonsSimons2019\n",
        "\n",
        ":::\n"
      ],
      "id": "234d8d0a"
    },
    {
      "cell_type": "code",
      "metadata": {
        "message": false
      },
      "source": [
        "#| label: tbl-oian-inferior-gemellus\n",
        "#| warning: false\n",
        "#| echo: false\n",
        "\n",
        "from pathlib import Path\n",
        "import pandas as pd\n",
        "from pyprojroot import here\n",
        "from IPython.display import display, HTML\n",
        "\n",
        "# Set the path for the script file\n",
        "script_file_path = here(\"scripts/process_oian_table.py\")\n",
        "\n",
        "# Check if the script file exists\n",
        "if script_file_path.exists():\n",
        "    import sys\n",
        "    sys.path.append(str(script_file_path.parent))  # Add the directory of the script to the system path\n",
        "\n",
        "    from process_oian_table import process_oian_table  # Import the specific function\n",
        "\n",
        "    # Define the column to filter by and the identifiers to include\n",
        "    filter_column = 'muscle_identifier'  # Choose the column you want to filter by\n",
        "    filter_identifiers = ['inferior_gemellus']  # Replace with actual identifiers you want to include\n",
        "\n",
        "    # Call the function to get the HTML table with filtering\n",
        "    html_table = process_oian_table(filter_column=filter_column, filter_identifiers=filter_identifiers)\n",
        "\n",
        "    if html_table:\n",
        "        # Render the HTML table for display\n",
        "        display(HTML(html_table))  # Use display to render the HTML properly\n",
        "else:\n",
        "    print(\"Script file does not exist. Please check the path.\")"
      ],
      "id": "tbl-oian-inferior-gemellus",
      "execution_count": null,
      "outputs": []
    },
    {
      "cell_type": "markdown",
      "metadata": {},
      "source": [
        "# Origin {#origin}\n",
        "\n",
        "Ischial tuberosity @gilroyAtlasAnatomy2020\n",
        "\n",
        "\n",
        "# Insertion {#insertion}\n",
        "\n",
        "Joins obturator internus tendon to medial surface of greater trochanter @gilroyAtlasAnatomy2020.\n",
        "\n",
        "# Innervation {#innervation}\n",
        "\n",
        "[Nerve to quadratus femoris]({{< var ref-nerve-to-quadratus-femoris.path >}}) ([L5]({{< var ref-nerve-root.l5 >}}), [S1]({{< var ref-nerve-root.s1 >}})) @aungAnatomicalStudyObturator2001 \n",
        "\n",
        "\n",
        "# Action {#action}\n",
        "\n",
        "- **Hip**: Extension, ER, and Stabilization\n",
        "    - (also active in abduction, depending on the joint’s position)\n",
        "\n",
        "\n",
        "# Palpation\n",
        "\n",
        "Due to the common insertion of the <i>inferior gemellus</i>, [obturator internus]({{< var ref-obturator-internus.insertion >}}), and [superior gemellus]({{< var ref-superior-gemellus.insertion >}}) it is difficult to differentiate between these structures during palpation.\n",
        "Instead, I just palpate and treat these as a group.\n",
        "\n",
        "- Palpate the [piriformis]({{< var ref-piriformis.palpation >}}) and the [quadratus femoris]({{< var ref-quadratus-femoris.palpation >}}).\n",
        "- Palpate the space between these two muscles, and there you should feel the <i>inferior gemellus</i>, [obturator internus]({{< var ref-obturator-internus.path >}}), and [superior gemellus]({{< var ref-superior-gemellus.path >}}).\n",
        "\n",
        "# Notes\n",
        "\n",
        "“The gemellus\tsuperior and inferior (from the Latin root geminus, meaning twins) are two, small, nearly identically sized muscles with proximal attachments on either side of the lesser sciatic notch (see Fig. 12.43). Each muscle blends in with the central tendon of the obturator internus for a common attachment to the femur. Immediately below the gemellus inferior is the quadratus\t femoris muscle. This flat muscle arises from the external side of the ischial tuberosity and inserts on the posterior side of the proximal femur. In cases of abnormal bony morphology, this muscle may become impinged between the lesser trochanter and ischium, typically during motions that involve the extremes of external rotation.212 If chronic and repetitive, this clinically termed “ischiofemoral impingement” may cause groin and buttock pain along with abnormal MR signaling from the qua­ dratus femoris muscle” @neumannKinesiologyMusculoskeletalSystem2017 \n",
        "\n",
        "# Dysfunction\n",
        "\n",
        "- Gemelli-obturator internus syndrome"
      ],
      "id": "10864810"
    }
  ],
  "metadata": {
    "kernelspec": {
      "display_name": "Python 3",
      "language": "python",
      "name": "python3"
    }
  },
  "nbformat": 4,
  "nbformat_minor": 5
}