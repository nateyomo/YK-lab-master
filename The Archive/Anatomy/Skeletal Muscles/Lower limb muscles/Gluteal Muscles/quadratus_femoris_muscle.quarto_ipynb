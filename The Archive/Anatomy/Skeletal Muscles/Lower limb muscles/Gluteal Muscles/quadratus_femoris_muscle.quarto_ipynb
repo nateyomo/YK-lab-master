{
  "cells": [
    {
      "cell_type": "markdown",
      "metadata": {},
      "source": [
        "---\n",
        "title: Quadratus Femoris Muscle\n",
        "---\n",
        "\n",
        "\n",
        "# Overview\n"
      ],
      "id": "dc613d6f"
    },
    {
      "cell_type": "code",
      "metadata": {
        "message": false
      },
      "source": [
        "#| label: tbl-oian-quadratus-femoris\n",
        "#| warning: false\n",
        "#| echo: false\n",
        "\n",
        "from pathlib import Path\n",
        "import pandas as pd\n",
        "from pyprojroot import here\n",
        "from IPython.core.display import display, HTML\n",
        "\n",
        "# Set the path for the script file\n",
        "script_file_path = here(\"scripts/process_oian_table.py\")\n",
        "\n",
        "# Check if the script file exists\n",
        "if script_file_path.exists():\n",
        "    import sys\n",
        "    sys.path.append(str(script_file_path.parent))  # Add the directory of the script to the system path\n",
        "\n",
        "    from process_oian_table import process_oian_table  # Import the specific function\n",
        "\n",
        "    # Define the column to filter by and the identifiers to include\n",
        "    filter_column = 'muscle_identifier'  # Choose the column you want to filter by\n",
        "    filter_identifiers = ['quadratus_femoris']  # Replace with actual identifiers you want to include\n",
        "\n",
        "    # Call the function to get the HTML table with filtering\n",
        "    html_table = process_oian_table(filter_column=filter_column, filter_identifiers=filter_identifiers)\n",
        "\n",
        "    if html_table:\n",
        "        # Render the HTML table for display\n",
        "        display(HTML(html_table))  # Use display to render the HTML properly\n",
        "else:\n",
        "    print(\"Script file does not exist. Please check the path.\")"
      ],
      "id": "tbl-oian-quadratus-femoris",
      "execution_count": null,
      "outputs": []
    },
    {
      "cell_type": "markdown",
      "metadata": {},
      "source": [
        "# Origin {#origin}\n",
        "\n",
        "Lateral border of the ischial tuberosity @gilroyAtlasAnatomy2020\n",
        "\n",
        "# Insertion {#insertion}\n",
        "\n",
        "Intertrochanteric crest of the femur @gilroyAtlasAnatomy2020\n",
        "\n",
        "# Innervation {#innervation}\n",
        "\n",
        "Sacral plexus Direct Branches ([L5]({{< var ref-nerve-root.l5 >}}), [S1]({{< var ref-nerve-root.s1 >}})) @gilroyAtlasAnatomy2020\n",
        "\n",
        "# Action {#action}\n",
        "\n",
        "**Hip**: External rotation @gilroyAtlasAnatomy2020\n",
        "\n",
        "\n",
        "\n",
        "# Palpation\n",
        "\n",
        "1. Position the patient in prone @bielTrailGuideBody2019.\n",
        "1. locate: @bielTrailGuideBody2019.\n",
        "    1. Posterior aspect of Greater trochanter @bielTrailGuideBody2019.\n",
        "    1. Ischial tuberosity @bielTrailGuideBody2019.\n",
        "1. Bisect these two landmarks and place your fingerpads here @bielTrailGuideBody2019.\n",
        "1. Press firmly *through* the more superficial Gluteus maximus muscle belly @bielTrailGuideBody2019.\n",
        "1. Strum vertically over the QF muscle belly @bielTrailGuideBody2019.\n",
        "\n",
        ":::{layout-ncol=\"2\"}\n",
        "\n",
        "### Passive tension\n",
        "You can passively tense and slack the quadratus femoris by flexing the knee to 90&deg; then moving between internal rotation (tension) to external rotation (slack), which should cause the quadratus femoris to palpably increase in tension @bielTrailGuideBody2019.\n",
        "\n",
        ":::"
      ],
      "id": "1abdc96d"
    }
  ],
  "metadata": {
    "kernelspec": {
      "name": "python3",
      "language": "python",
      "display_name": "Python 3 (ipykernel)",
      "path": "/Users/nathanielyomogida/miniconda3/share/jupyter/kernels/python3"
    }
  },
  "nbformat": 4,
  "nbformat_minor": 5
}