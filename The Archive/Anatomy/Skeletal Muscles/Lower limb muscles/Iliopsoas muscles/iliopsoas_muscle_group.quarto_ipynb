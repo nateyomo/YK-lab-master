{
  "cells": [
    {
      "cell_type": "markdown",
      "metadata": {},
      "source": [
        "---\n",
        "title: Iliopsoas muscles\n",
        "---"
      ],
      "id": "cbae3761"
    },
    {
      "cell_type": "code",
      "metadata": {},
      "source": [
        "    #| label: tbl-iliopsoas-oian\n",
        "    #| warning: false\n",
        "    #| message: false\n",
        "    #| echo: false\n",
        "    #| tbl-cap: \"Iliopsoas muscle group\"\n",
        "\n",
        "    from pathlib import Path\n",
        "    import pandas as pd\n",
        "    from pyprojroot import here\n",
        "    from IPython.core.display import display, HTML\n",
        "\n",
        "    # Set the path for the script file\n",
        "    script_file_path = here(\"scripts/process_oian_table.py\")\n",
        "\n",
        "    # Check if the script file exists\n",
        "    if script_file_path.exists():\n",
        "        import sys\n",
        "        sys.path.append(str(script_file_path.parent))  # Add the directory of the script to the system path\n",
        "\n",
        "        from process_oian_table import process_oian_table  # Import the specific function\n",
        "\n",
        "        # Define the column to filter by and the identifiers to include\n",
        "        filter_column = 'group_identifier'  # Choose the column you want to filter by\n",
        "        filter_identifiers = ['iliopsoas_muscles']  # Replace with actual identifiers you want to include\n",
        "\n",
        "        # Call the function to get the HTML table with filtering\n",
        "        html_table = process_oian_table(filter_column=filter_column, filter_identifiers=filter_identifiers)\n",
        "\n",
        "        if html_table:\n",
        "            # Render the HTML table for display\n",
        "            display(HTML(html_table))  # Use display to render the HTML properly\n",
        "    else:\n",
        "        print(\"Script file does not exist. Please check the path.\")"
      ],
      "id": "9dea1a32",
      "execution_count": null,
      "outputs": []
    },
    {
      "cell_type": "markdown",
      "metadata": {},
      "source": [
        "The iliopsoas is the most powerful hip flexor @jonesProjectFoundations2025.\n",
        "\n",
        "# Manual muscle tests {#mmt}\n",
        "\n",
        "The iliopsoas muscle group act as synergists during:\n",
        "\n",
        "- [Unilateral SCM MMT]({{< var ref-sternocleidomastoid.mmt >}}) @weinstockNeuroKineticTherapyInnovative2010\n",
        "\n",
        "\n",
        "# Muscle length test (MLT) {#mlt}\n",
        "\n",
        "# Stretches {#stretch}\n",
        "\n",
        "- [3D hip flexor stretch]({{< var ref-3d-hip-flexor-stretch.path >}})\n"
      ],
      "id": "67911968"
    }
  ],
  "metadata": {
    "kernelspec": {
      "name": "python3",
      "language": "python",
      "display_name": "Python 3 (ipykernel)",
      "path": "/Users/nathanielyomogida/miniconda3/share/jupyter/kernels/python3"
    }
  },
  "nbformat": 4,
  "nbformat_minor": 5
}