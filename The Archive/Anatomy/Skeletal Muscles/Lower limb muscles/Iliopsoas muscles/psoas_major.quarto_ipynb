{
  "cells": [
    {
      "cell_type": "markdown",
      "metadata": {},
      "source": [
        "---\n",
        "title: Psoas Major Muscle\n",
        "---\n",
        "\n",
        "\n",
        "![Muscles of the Abdomen @OpenStaxAnatomyPhysiology2022](/The Archive/Images/OpenStax Anatomy and Physiology 2e/fig11.16 Muscles of the Abdomen.jpeg){#fig-openstax-fig11.16}\n",
        "\n",
        "![Muscles of the Iliac and Anterior femoral regions @grayAnatomyHumanBody1918](/The Archive/Images/Gray anatomy 1918 images/Myology/image430 Muscles of the iliac and anterior femoral regions.gif)\n",
        "\n",
        "![Hip and Thigh Muscles @OpenStaxAnatomyPhysiology2022](/The Archive/Images/OpenStax Anatomy and Physiology 2e/fig11.29 Hip and Thigh Muscles.jpeg){#fig-openstax-fig11.29}\n",
        "\n",
        "::: {.callout title=\"Reading list\"}\n",
        "\n",
        "- Psoas major, psoas minor, iliacus muscles @donnellyTravellSimonsSimons2019\n",
        "- Neuman @neumannKinesiologyMusculoskeletalSystem2017\n",
        "- MMT @weinstockNeuroKineticTherapyInnovative2010\n",
        "\n",
        "\n",
        ":::\n"
      ],
      "id": "c0c24011"
    },
    {
      "cell_type": "code",
      "metadata": {
        "message": false
      },
      "source": [
        "#| label: tbl-oian\n",
        "#| warning: false\n",
        "#| echo: false\n",
        "\n",
        "from pathlib import Path\n",
        "import pandas as pd\n",
        "from pyprojroot import here\n",
        "from IPython.display import display, HTML\n",
        "\n",
        "# Set the path for the script file\n",
        "script_file_path = here(\"scripts/process_oian_table.py\")\n",
        "\n",
        "# Check if the script file exists\n",
        "if script_file_path.exists():\n",
        "    import sys\n",
        "    sys.path.append(str(script_file_path.parent))  # Add the directory of the script to the system path\n",
        "\n",
        "    from process_oian_table import process_oian_table  # Import the specific function\n",
        "\n",
        "    # Define the column to filter by and the identifiers to include\n",
        "    filter_column = 'muscle_identifier'  # Choose the column you want to filter by\n",
        "    filter_identifiers = ['psoas_major']  # Replace with actual identifiers you want to include\n",
        "\n",
        "    # Call the function to get the HTML table with filtering\n",
        "    html_table = process_oian_table(filter_column=filter_column, filter_identifiers=filter_identifiers)\n",
        "\n",
        "    if html_table:\n",
        "        # Render the HTML table for display\n",
        "        display(HTML(html_table))  # Use display to render the HTML properly\n",
        "else:\n",
        "    print(\"Script file does not exist. Please check the path.\")"
      ],
      "id": "tbl-oian",
      "execution_count": null,
      "outputs": []
    },
    {
      "cell_type": "markdown",
      "metadata": {},
      "source": [
        "# Origin {#origin}\n",
        "\n",
        "- Superficial: T12–L4 and associated intervertebral disks (lateral surfaces) @gilroyAtlasAnatomy2020 \n",
        "- Deep: L1–L5 vertebrae (TPs @bogdukAnatomyBiomechanicsPsoas1992)\n",
        "- The Psoas Major has fibrous attachments from the anterior TP of the lumbar spine as well as the anteromedial aspect of the lumbar IVD, except for L5/S1 disc @bogdukAnatomyBiomechanicsPsoas1992 \n",
        "\n",
        "# Insertion {#insertion}\n",
        "Femur (lesser trochanter) @gilroyAtlasAnatomy2020\n",
        "\n",
        "# Innervation {#innervation}\n",
        "Lumbar plexus Direct Br. ([L1]({{< var ref-nerve-root.l1 >}}), [L2]({{< var ref-nerve-root.l2 >}}), [**L3**]({{< var ref-nerve-root.l3 >}})) @gilroyAtlasAnatomy2020\n",
        "\n",
        "# Action {#action}\n",
        "**Hip joint**: flexion and external rotation @gilroyAtlasAnatomy2020\n",
        "**Lumbar spine**: unilateral contraction (with the femur fixed) flexes the trunk laterally to the same side; bilateral contraction raises the trunk from the supine position @gilroyAtlasAnatomy2020\n",
        "\n",
        "\n",
        "\n",
        "\n",
        "# Overview\n",
        "\n",
        "# Stretches {#stretch}\n",
        "\n",
        "- [3D hip flexor stretch]({{< var ref-3d-hip-flexor-stretch.path >}})"
      ],
      "id": "df85fd9a"
    }
  ],
  "metadata": {
    "kernelspec": {
      "display_name": "Python 3",
      "language": "python",
      "name": "python3"
    }
  },
  "nbformat": 4,
  "nbformat_minor": 5
}